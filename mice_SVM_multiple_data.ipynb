{
 "cells": [
  {
   "cell_type": "markdown",
   "id": "6e48fcac",
   "metadata": {},
   "source": [
    "## Importing Libraries"
   ]
  },
  {
   "cell_type": "code",
   "execution_count": 1,
   "id": "ca0f6d27",
   "metadata": {},
   "outputs": [],
   "source": [
    "# Data Processing\n",
    "import numpy as np\n",
    "import pandas as pd\n",
    "from collections import Counter\n",
    "\n",
    "# Importing tde\n",
    "import tde\n",
    "\n",
    "# Visualization\n",
    "import matplotlib.pyplot as plt\n",
    "\n",
    "# Model and Performance\n",
    "from sklearn.model_selection import train_test_split\n",
    "from sklearn import svm\n",
    "from sklearn.svm import OneClassSVM\n",
    "from sklearn.metrics import classification_report #for model performance evaluation\n",
    "\n",
    "# To generate the for loops\n",
    "import glob\n",
    "import os\n",
    "from matplotlib import ticker"
   ]
  },
  {
   "cell_type": "markdown",
   "id": "45b853fb",
   "metadata": {},
   "source": [
    "## Reading the data"
   ]
  },
  {
   "cell_type": "code",
   "execution_count": 2,
   "id": "021548a4",
   "metadata": {},
   "outputs": [],
   "source": [
    "# Get the data\n",
    "folder = \"/Users/yoddmena/Downloads/Research/Telemetry_edited/\"\n",
    "\n",
    "files = glob.glob( folder + \"Ex *.xlsx\" ) \n",
    "\n",
    "minutes = []\n",
    "temp = []\n",
    "\n",
    "k = 0\n",
    "for file in files:\n",
    "    k = k +1\n",
    "    if k > 2:\n",
    "        break\n",
    "    df = pd.read_excel(file) # reading the excel file\n",
    "    \n",
    "    file_min = df.iloc[:,0] #getting only the minutes\n",
    "    file_temp = df.iloc[:,3::2] # slicing the data for only temperature\n",
    "    \n",
    "    minutes.append(file_min) # adding minutes into the list\n",
    "    temp.append(file_temp) # adding the file into the list\n",
    "  \n",
    "     "
   ]
  },
  {
   "cell_type": "markdown",
   "id": "02e22bce",
   "metadata": {},
   "source": [
    "## SVM for each dataset"
   ]
  },
  {
   "cell_type": "code",
   "execution_count": 17,
   "id": "ed22ac87",
   "metadata": {},
   "outputs": [
    {
     "ename": "AttributeError",
     "evalue": "'numpy.ndarray' object has no attribute 'clear'",
     "output_type": "error",
     "traceback": [
      "\u001b[0;31m---------------------------------------------------------------------------\u001b[0m",
      "\u001b[0;31mAttributeError\u001b[0m                            Traceback (most recent call last)",
      "\u001b[0;32m<ipython-input-17-54ae304c1d89>\u001b[0m in \u001b[0;36m<module>\u001b[0;34m\u001b[0m\n\u001b[1;32m     18\u001b[0m     \u001b[0;31m# A for loop for the temperatures (extracting only the column of data frame)\u001b[0m\u001b[0;34m\u001b[0m\u001b[0;34m\u001b[0m\u001b[0;34m\u001b[0m\u001b[0m\n\u001b[1;32m     19\u001b[0m     \u001b[0;32mfor\u001b[0m \u001b[0mj\u001b[0m \u001b[0;32min\u001b[0m \u001b[0mrange\u001b[0m\u001b[0;34m(\u001b[0m\u001b[0mmouse_temp\u001b[0m\u001b[0;34m.\u001b[0m\u001b[0mshape\u001b[0m\u001b[0;34m[\u001b[0m\u001b[0;36m1\u001b[0m\u001b[0;34m]\u001b[0m\u001b[0;34m)\u001b[0m\u001b[0;34m:\u001b[0m\u001b[0;34m\u001b[0m\u001b[0;34m\u001b[0m\u001b[0m\n\u001b[0;32m---> 20\u001b[0;31m         \u001b[0max\u001b[0m\u001b[0;34m.\u001b[0m\u001b[0mclear\u001b[0m\u001b[0;34m(\u001b[0m\u001b[0;34m)\u001b[0m \u001b[0;31m# clear axis for each individual mouse\u001b[0m\u001b[0;34m\u001b[0m\u001b[0;34m\u001b[0m\u001b[0m\n\u001b[0m\u001b[1;32m     21\u001b[0m         \u001b[0my_axis\u001b[0m \u001b[0;34m=\u001b[0m \u001b[0mmouse_temp\u001b[0m\u001b[0;34m.\u001b[0m\u001b[0miloc\u001b[0m\u001b[0;34m[\u001b[0m\u001b[0;34m:\u001b[0m\u001b[0;34m,\u001b[0m\u001b[0mj\u001b[0m\u001b[0;34m]\u001b[0m \u001b[0;31m# defining the y axis\u001b[0m\u001b[0;34m\u001b[0m\u001b[0;34m\u001b[0m\u001b[0m\n\u001b[1;32m     22\u001b[0m         \u001b[0mnames\u001b[0m \u001b[0;34m=\u001b[0m \u001b[0mmouse_temp\u001b[0m\u001b[0;34m.\u001b[0m\u001b[0mcolumns\u001b[0m\u001b[0;34m[\u001b[0m\u001b[0mj\u001b[0m\u001b[0;34m]\u001b[0m \u001b[0;31m# extracting the names of the columns (mouse name)\u001b[0m\u001b[0;34m\u001b[0m\u001b[0;34m\u001b[0m\u001b[0m\n",
      "\u001b[0;31mAttributeError\u001b[0m: 'numpy.ndarray' object has no attribute 'clear'"
     ]
    },
    {
     "data": {
      "image/png": "[encoded data removed]",
      "text/plain": [
       "<Figure size 720x432 with 2 Axes>"
      ]
     },
     "metadata": {},
     "output_type": "display_data"
    }
   ],
   "source": [
    "fig,ax = plt.subplots(2,1,figsize=(10,6), sharex = True)\n",
    "fig.set_facecolor(\"white\") # Changing the border to white\n",
    "\n",
    "model = svm.OneClassSVM() # importing the model\n",
    "\n",
    "# Sigmoid Definition\n",
    "def sigmoid(scores, beta):\n",
    "    return 1 / (1 + np.exp(-beta * scores))\n",
    "\n",
    "beta = 0.5\n",
    "\n",
    "# Plotting each file's temperature vs. minutes\n",
    "for i in range(len(minutes)):\n",
    "    mouse_min = minutes[i] # renaming the minutes to the current column\n",
    "    mouse_temp = temp[i] # renaming the temperature to the current column\n",
    "    x_axis = mouse_min # defining the x axis\n",
    "    \n",
    "    # A for loop for the temperatures (extracting only the column of data frame)\n",
    "    for j in range(mouse_temp.shape[1]): \n",
    "        ax.clear() # clear axis for each individual mouse\n",
    "        y_axis = mouse_temp.iloc[:,j] # defining the y axis\n",
    "        names = mouse_temp.columns[j] # extracting the names of the columns (mouse name)\n",
    "        \n",
    "        # Filling in missing values using forward fill\n",
    "        y1_fw = y_axis.fillna(method='ffill')\n",
    "        y1_bw = y1_fw.fillna(method='bfill') #backward fill\n",
    "        \n",
    "        # Extracting column names\n",
    "        #names = mouse_temp.columns[j] #doubled\n",
    "        \n",
    "        # Time Delay Embedding\n",
    "        Y = tde.tde(y1_bw) #using the tde file\n",
    "        Y = Y.T #transporting the data\n",
    "        \n",
    "        # Fit the Data\n",
    "        model.fit(Y[:4321,:]) #training the data for the first 3 days (3*24*60)\n",
    "                                ###starts on 720 b/c of the tde\n",
    "                                ###need to change the ending value for Y\n",
    "        # Predict the Data\n",
    "        predict = model.predict(Y[4321:,:]) #predicting on the rest of the days\n",
    "        scores = model.score_samples(Y[4321:,:]) #scoring on the rest of the days \n",
    "        \n",
    "        # Plotting the Scatterplot\n",
    "        ax[0].plot(x_axis[5041:],scores, label=names)\n",
    "        ax[0].grid()\n",
    "        ax[0].set_title(\"Scoring\") # setting a title\n",
    "        #ax[0].set_xlabel(\"Minutes\") # x label\n",
    "        ax[0].set_ylabel(\"Score\") # y label\n",
    "        ax[0].legend() # name of the mouse\n",
    "        #ax[0].set_xlim(-5,) # x limits\n",
    "        #ax[0].set_ylim(-50,) # y limits\n",
    "        \n",
    "        # Values between 0 and 1 using sigmoid\n",
    "        y = sigmoid(beta, scores)\n",
    "        ax[1].plot(x_axis[5041:], y)\n",
    "        ax[1].set_xlabel('Minutes')\n",
    "        ax[1].set_ylabel('Sigmoid(scores)')\n",
    "        ax[1].set_title('Between 0 and 1')\n",
    "        \n",
    "        fig.tight_layout()\n",
    "        fig.show()\n",
    "        \n",
    "        #SAVING EACH PLOT\n",
    "        filename = \"Scores/%s.png\"%names # saving the file as the name of the mouse\n",
    "        fig.savefig(filename)\n",
    "        print(\"Prediction for \" + names, \"is: \\n\", predict, \"\\n with score \\n \", +  scores)"
   ]
  },
  {
   "cell_type": "code",
   "execution_count": null,
   "id": "a69c248a",
   "metadata": {},
   "outputs": [],
   "source": [
    " "
   ]
  },
  {
   "cell_type": "code",
   "execution_count": null,
   "id": "41a71534",
   "metadata": {},
   "outputs": [],
   "source": []
  },
  {
   "cell_type": "code",
   "execution_count": null,
   "id": "9fe2c3bd",
   "metadata": {},
   "outputs": [],
   "source": []
  }
 ],
 "metadata": {
  "kernelspec": {
   "display_name": "Python 3",
   "language": "python",
   "name": "python3"
  },
  "language_info": {
   "codemirror_mode": {
    "name": "ipython",
    "version": 3
   },
   "file_extension": ".py",
   "mimetype": "text/x-python",
   "name": "python",
   "nbconvert_exporter": "python",
   "pygments_lexer": "ipython3",
   "version": "3.8.8"
  }
 },
 "nbformat": 4,
 "nbformat_minor": 5
}
