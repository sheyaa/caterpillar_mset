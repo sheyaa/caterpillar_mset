{
 "cells": [
  {
   "cell_type": "markdown",
   "id": "6e48fcac",
   "metadata": {},
   "source": [
    "## Importing Libraries"
   ]
  },
  {
   "cell_type": "code",
   "execution_count": 1,
   "id": "ca0f6d27",
   "metadata": {},
   "outputs": [],
   "source": [
    "# Data Processing\n",
    "import numpy as np\n",
    "import pandas as pd\n",
    "from collections import Counter\n",
    "\n",
    "# Importing tde\n",
    "import tde\n",
    "\n",
    "# Visualization\n",
    "import matplotlib.pyplot as plt\n",
    "\n",
    "# Model and Performance\n",
    "from sklearn.model_selection import train_test_split\n",
    "from sklearn import svm\n",
    "from sklearn.svm import OneClassSVM\n",
    "from sklearn.metrics import classification_report #for model performance evaluation\n",
    "\n",
    "# To generate the for loops\n",
    "import glob\n",
    "import os\n",
    "from matplotlib import ticker"
   ]
  },
  {
   "cell_type": "markdown",
   "id": "45b853fb",
   "metadata": {},
   "source": [
    "## Reading the data"
   ]
  },
  {
   "cell_type": "code",
   "execution_count": 2,
   "id": "021548a4",
   "metadata": {},
   "outputs": [],
   "source": [
    "# Get the data\n",
    "folder = \"/Users/yoddmena/Downloads/Research/Telemetry_edited/\"\n",
    "\n",
    "files = glob.glob( folder + \"Ex *.xlsx\" ) \n",
    "\n",
    "minutes = []\n",
    "temp = []\n",
    "\n",
    "k = 0\n",
    "for file in files:\n",
    "    k = k +1\n",
    "    if k > 2:\n",
    "        break\n",
    "    df = pd.read_excel(file) # reading the excel file\n",
    "    \n",
    "    file_min = df.iloc[:,0] #getting only the minutes\n",
    "    file_temp = df.iloc[:,3::2] # slicing the data for only temperature\n",
    "    \n",
    "    minutes.append(file_min) # adding minutes into the list\n",
    "    temp.append(file_temp) # adding the file into the list\n",
    "  \n",
    "     "
   ]
  },
  {
   "cell_type": "markdown",
   "id": "02e22bce",
   "metadata": {},
   "source": [
    "## Scores for each dataset"
   ]
  },
  {
   "cell_type": "code",
   "execution_count": 20,
   "id": "ed22ac87",
   "metadata": {},
   "outputs": [
    {
     "name": "stderr",
     "output_type": "stream",
     "text": [
      "No handles with labels found to put in legend.\n",
      "<ipython-input-20-4ea8644da920>:73: UserWarning: Matplotlib is currently using module://ipykernel.pylab.backend_inline, which is a non-GUI backend, so cannot show the figure.\n",
      "  fig.show()\n"
     ]
    },
    {
     "name": "stdout",
     "output_type": "stream",
     "text": [
      "Prediction for CC006-315 EXP 2 MRSA CC Deg. C Data is: \n",
      " [ 1  1  1 ... -1 -1 -1] \n",
      " with score \n",
      "  [5.61401646e+02 5.74395497e+02 5.72042580e+02 ... 4.60097795e-07\n",
      " 4.60097795e-07 4.60097795e-07]\n"
     ]
    },
    {
     "name": "stderr",
     "output_type": "stream",
     "text": [
      "No handles with labels found to put in legend.\n",
      "<ipython-input-20-4ea8644da920>:73: UserWarning: Matplotlib is currently using module://ipykernel.pylab.backend_inline, which is a non-GUI backend, so cannot show the figure.\n",
      "  fig.show()\n"
     ]
    },
    {
     "name": "stdout",
     "output_type": "stream",
     "text": [
      "Prediction for CC006-316 EXP 2 MRSA CC Deg. C Data is: \n",
      " [-1 -1 -1 ... -1 -1 -1] \n",
      " with score \n",
      "  [522.77778923 522.05882775 528.40032557 ... 104.72780676 104.72780676\n",
      " 104.72780676]\n"
     ]
    },
    {
     "name": "stderr",
     "output_type": "stream",
     "text": [
      "No handles with labels found to put in legend.\n",
      "<ipython-input-20-4ea8644da920>:73: UserWarning: Matplotlib is currently using module://ipykernel.pylab.backend_inline, which is a non-GUI backend, so cannot show the figure.\n",
      "  fig.show()\n"
     ]
    },
    {
     "name": "stdout",
     "output_type": "stream",
     "text": [
      "Prediction for CC006-317 EXP 2 MRSA CC Deg. C Data is: \n",
      " [ 1  1  1 ... -1 -1 -1] \n",
      " with score \n",
      "  [566.71105525 560.79996642 559.08512174 ...  88.78619346  88.78619346\n",
      "  88.78619346]\n"
     ]
    },
    {
     "name": "stderr",
     "output_type": "stream",
     "text": [
      "No handles with labels found to put in legend.\n",
      "<ipython-input-20-4ea8644da920>:73: UserWarning: Matplotlib is currently using module://ipykernel.pylab.backend_inline, which is a non-GUI backend, so cannot show the figure.\n",
      "  fig.show()\n"
     ]
    },
    {
     "name": "stdout",
     "output_type": "stream",
     "text": [
      "Prediction for CC019-1392 EXP 2 MRSA CC Deg. C Data is: \n",
      " [-1 -1 -1 ...  1  1  1] \n",
      " with score \n",
      "  [505.02964073 504.47252107 512.8058253  ... 519.39987545 519.39987545\n",
      " 519.39987545]\n"
     ]
    },
    {
     "name": "stderr",
     "output_type": "stream",
     "text": [
      "No handles with labels found to put in legend.\n",
      "<ipython-input-20-4ea8644da920>:73: UserWarning: Matplotlib is currently using module://ipykernel.pylab.backend_inline, which is a non-GUI backend, so cannot show the figure.\n",
      "  fig.show()\n"
     ]
    },
    {
     "name": "stdout",
     "output_type": "stream",
     "text": [
      "Prediction for CC019-1393 EXP 2 MRSA CC Deg. C Data is: \n",
      " [-1 -1 -1 ... -1 -1 -1] \n",
      " with score \n",
      "  [426.28203677 449.80148749 457.99737737 ...   0.           0.\n",
      "   0.        ]\n"
     ]
    },
    {
     "name": "stderr",
     "output_type": "stream",
     "text": [
      "No handles with labels found to put in legend.\n",
      "<ipython-input-20-4ea8644da920>:73: UserWarning: Matplotlib is currently using module://ipykernel.pylab.backend_inline, which is a non-GUI backend, so cannot show the figure.\n",
      "  fig.show()\n"
     ]
    },
    {
     "name": "stdout",
     "output_type": "stream",
     "text": [
      "Prediction for CC043-455 EXP 2 MRSA CC Deg. C Data is: \n",
      " [1 1 1 ... 1 1 1] \n",
      " with score \n",
      "  [588.7870194  588.59450912 586.86262268 ... 531.12615375 520.57083984\n",
      " 512.29746068]\n"
     ]
    },
    {
     "name": "stderr",
     "output_type": "stream",
     "text": [
      "No handles with labels found to put in legend.\n",
      "<ipython-input-20-4ea8644da920>:73: UserWarning: Matplotlib is currently using module://ipykernel.pylab.backend_inline, which is a non-GUI backend, so cannot show the figure.\n",
      "  fig.show()\n"
     ]
    },
    {
     "name": "stdout",
     "output_type": "stream",
     "text": [
      "Prediction for CC043-456 EXP 2 MRSA CC Deg. C Data is: \n",
      " [-1 -1  1 ... -1 -1 -1] \n",
      " with score \n",
      "  [448.32583993 468.85236703 484.08757652 ... 467.77694226 461.67415888\n",
      " 452.39241503]\n"
     ]
    },
    {
     "name": "stderr",
     "output_type": "stream",
     "text": [
      "No handles with labels found to put in legend.\n",
      "<ipython-input-20-4ea8644da920>:73: UserWarning: Matplotlib is currently using module://ipykernel.pylab.backend_inline, which is a non-GUI backend, so cannot show the figure.\n",
      "  fig.show()\n"
     ]
    },
    {
     "name": "stdout",
     "output_type": "stream",
     "text": [
      "Prediction for CC043-457 EXP 2 MRSA CC Deg. C Data is: \n",
      " [1 1 1 ... 1 1 1] \n",
      " with score \n",
      "  [523.359829   517.7074934  519.92579677 ... 515.21184012 514.03832466\n",
      " 511.3124035 ]\n"
     ]
    },
    {
     "name": "stderr",
     "output_type": "stream",
     "text": [
      "No handles with labels found to put in legend.\n",
      "<ipython-input-20-4ea8644da920>:73: UserWarning: Matplotlib is currently using module://ipykernel.pylab.backend_inline, which is a non-GUI backend, so cannot show the figure.\n",
      "  fig.show()\n"
     ]
    },
    {
     "name": "stdout",
     "output_type": "stream",
     "text": [
      "Prediction for CC051-489 EXP 2 MRSA CC Deg. C Data is: \n",
      " [1 1 1 ... 1 1 1] \n",
      " with score \n",
      "  [569.03715077 565.01147727 564.84115295 ... 579.48712277 579.25577801\n",
      " 576.55167552]\n"
     ]
    },
    {
     "name": "stderr",
     "output_type": "stream",
     "text": [
      "No handles with labels found to put in legend.\n",
      "<ipython-input-20-4ea8644da920>:73: UserWarning: Matplotlib is currently using module://ipykernel.pylab.backend_inline, which is a non-GUI backend, so cannot show the figure.\n",
      "  fig.show()\n"
     ]
    },
    {
     "name": "stdout",
     "output_type": "stream",
     "text": [
      "Prediction for CC051-490 EXP 2 MRSA CC Deg. C Data is: \n",
      " [1 1 1 ... 1 1 1] \n",
      " with score \n",
      "  [523.25998168 524.54426841 525.60966934 ... 517.415886   514.87360582\n",
      " 516.48293463]\n"
     ]
    },
    {
     "name": "stderr",
     "output_type": "stream",
     "text": [
      "No handles with labels found to put in legend.\n",
      "<ipython-input-20-4ea8644da920>:73: UserWarning: Matplotlib is currently using module://ipykernel.pylab.backend_inline, which is a non-GUI backend, so cannot show the figure.\n",
      "  fig.show()\n"
     ]
    },
    {
     "name": "stdout",
     "output_type": "stream",
     "text": [
      "Prediction for CC057-610 EXP 2 MRSA CC Deg. C Data is: \n",
      " [ 1  1  1 ... -1 -1 -1] \n",
      " with score \n",
      "  [5.08281686e+02 5.02758850e+02 5.02107433e+02 ... 6.77273778e-04\n",
      " 6.77273778e-04 6.77273778e-04]\n"
     ]
    },
    {
     "name": "stderr",
     "output_type": "stream",
     "text": [
      "No handles with labels found to put in legend.\n",
      "<ipython-input-20-4ea8644da920>:73: UserWarning: Matplotlib is currently using module://ipykernel.pylab.backend_inline, which is a non-GUI backend, so cannot show the figure.\n",
      "  fig.show()\n"
     ]
    },
    {
     "name": "stdout",
     "output_type": "stream",
     "text": [
      "Prediction for CC002-607 CC MRSA Exp 4 Deg. C Data is: \n",
      " [-1 -1 -1 ...  1  1  1] \n",
      " with score \n",
      "  [387.45227701 388.10236544 412.4385943  ... 534.21171696 534.21171696\n",
      " 534.21171696]\n"
     ]
    },
    {
     "name": "stderr",
     "output_type": "stream",
     "text": [
      "No handles with labels found to put in legend.\n",
      "<ipython-input-20-4ea8644da920>:73: UserWarning: Matplotlib is currently using module://ipykernel.pylab.backend_inline, which is a non-GUI backend, so cannot show the figure.\n",
      "  fig.show()\n"
     ]
    },
    {
     "name": "stdout",
     "output_type": "stream",
     "text": [
      "Prediction for CC002-609 CC MRSA Exp 4 Deg. C Data is: \n",
      " [-1 -1 -1 ...  1  1  1] \n",
      " with score \n",
      "  [325.11792403 337.31778657 353.18571358 ... 538.58668284 538.58668284\n",
      " 538.58668284]\n"
     ]
    },
    {
     "name": "stderr",
     "output_type": "stream",
     "text": [
      "No handles with labels found to put in legend.\n",
      "<ipython-input-20-4ea8644da920>:73: UserWarning: Matplotlib is currently using module://ipykernel.pylab.backend_inline, which is a non-GUI backend, so cannot show the figure.\n",
      "  fig.show()\n"
     ]
    },
    {
     "name": "stdout",
     "output_type": "stream",
     "text": [
      "Prediction for CC002-610 CC MRSA Exp 4 Deg. C Data is: \n",
      " [-1 -1 -1 ... -1 -1 -1] \n",
      " with score \n",
      "  [461.00094656 439.87658986 441.59308624 ... 356.68645013 356.68645013\n",
      " 356.68645013]\n"
     ]
    },
    {
     "name": "stderr",
     "output_type": "stream",
     "text": [
      "No handles with labels found to put in legend.\n",
      "<ipython-input-20-4ea8644da920>:73: UserWarning: Matplotlib is currently using module://ipykernel.pylab.backend_inline, which is a non-GUI backend, so cannot show the figure.\n",
      "  fig.show()\n"
     ]
    },
    {
     "name": "stdout",
     "output_type": "stream",
     "text": [
      "Prediction for CC003-178 CC MRSA Exp 4 Deg. C Data is: \n",
      " [ 1  1  1 ... -1 -1 -1] \n",
      " with score \n",
      "  [498.79214938 489.44056549 484.26453038 ... 301.3421182  301.3421182\n",
      " 301.3421182 ]\n"
     ]
    },
    {
     "name": "stderr",
     "output_type": "stream",
     "text": [
      "No handles with labels found to put in legend.\n",
      "<ipython-input-20-4ea8644da920>:73: UserWarning: Matplotlib is currently using module://ipykernel.pylab.backend_inline, which is a non-GUI backend, so cannot show the figure.\n",
      "  fig.show()\n"
     ]
    },
    {
     "name": "stdout",
     "output_type": "stream",
     "text": [
      "Prediction for CC003-179 CC MRSA Exp 4 Deg. C Data is: \n",
      " [-1 -1 -1 ... -1 -1 -1] \n",
      " with score \n",
      "  [409.59943927 404.82698735 399.61869726 ... 419.97104541 419.97104541\n",
      " 419.97104541]\n"
     ]
    },
    {
     "name": "stderr",
     "output_type": "stream",
     "text": [
      "No handles with labels found to put in legend.\n",
      "<ipython-input-20-4ea8644da920>:73: UserWarning: Matplotlib is currently using module://ipykernel.pylab.backend_inline, which is a non-GUI backend, so cannot show the figure.\n",
      "  fig.show()\n"
     ]
    },
    {
     "name": "stdout",
     "output_type": "stream",
     "text": [
      "Prediction for CC003-180 CC MRSA Exp 4 Deg. C Data is: \n",
      " [1 1 1 ... 1 1 1] \n",
      " with score \n",
      "  [540.73635958 532.40072756 526.36783121 ... 547.74709405 550.03273722\n",
      " 550.45617642]\n"
     ]
    },
    {
     "name": "stderr",
     "output_type": "stream",
     "text": [
      "No handles with labels found to put in legend.\n",
      "<ipython-input-20-4ea8644da920>:73: UserWarning: Matplotlib is currently using module://ipykernel.pylab.backend_inline, which is a non-GUI backend, so cannot show the figure.\n",
      "  fig.show()\n"
     ]
    },
    {
     "name": "stdout",
     "output_type": "stream",
     "text": [
      "Prediction for CC005-433 CC MRSA Exp 4 Deg. C Data is: \n",
      " [-1 -1 -1 ...  1  1  1] \n",
      " with score \n",
      "  [506.12588336 504.27728196 497.83370241 ... 580.95893738 580.95893738\n",
      " 580.95893738]\n"
     ]
    },
    {
     "name": "stderr",
     "output_type": "stream",
     "text": [
      "No handles with labels found to put in legend.\n",
      "<ipython-input-20-4ea8644da920>:73: UserWarning: Matplotlib is currently using module://ipykernel.pylab.backend_inline, which is a non-GUI backend, so cannot show the figure.\n",
      "  fig.show()\n"
     ]
    },
    {
     "name": "stdout",
     "output_type": "stream",
     "text": [
      "Prediction for CC005-434 CC MRSA Exp 4 Deg. C Data is: \n",
      " [-1 -1 -1 ... -1 -1 -1] \n",
      " with score \n",
      "  [419.24385804 407.3187464  393.9494518  ...  74.70724689  74.70724689\n",
      "  74.70724689]\n"
     ]
    },
    {
     "name": "stderr",
     "output_type": "stream",
     "text": [
      "No handles with labels found to put in legend.\n",
      "<ipython-input-20-4ea8644da920>:73: UserWarning: Matplotlib is currently using module://ipykernel.pylab.backend_inline, which is a non-GUI backend, so cannot show the figure.\n",
      "  fig.show()\n"
     ]
    },
    {
     "name": "stdout",
     "output_type": "stream",
     "text": [
      "Prediction for CC005-435 CC MRSA Exp 4 Deg. C Data is: \n",
      " [-1 -1 -1 ...  1  1  1] \n",
      " with score \n",
      "  [516.36355079 523.06757036 518.40639622 ... 576.9876389  592.37720346\n",
      " 596.94538203]\n"
     ]
    },
    {
     "name": "stderr",
     "output_type": "stream",
     "text": [
      "No handles with labels found to put in legend.\n",
      "<ipython-input-20-4ea8644da920>:73: UserWarning: Matplotlib is currently using module://ipykernel.pylab.backend_inline, which is a non-GUI backend, so cannot show the figure.\n",
      "  fig.show()\n"
     ]
    },
    {
     "name": "stdout",
     "output_type": "stream",
     "text": [
      "Prediction for CC011-564 CC MRSA Exp 4 Deg. C Data is: \n",
      " [ 1  1  1 ... -1 -1 -1] \n",
      " with score \n",
      "  [569.57106165 565.425239   557.01870923 ... 128.98773657 126.68095793\n",
      " 119.53523559]\n"
     ]
    },
    {
     "name": "stderr",
     "output_type": "stream",
     "text": [
      "No handles with labels found to put in legend.\n",
      "<ipython-input-20-4ea8644da920>:73: UserWarning: Matplotlib is currently using module://ipykernel.pylab.backend_inline, which is a non-GUI backend, so cannot show the figure.\n",
      "  fig.show()\n"
     ]
    },
    {
     "name": "stdout",
     "output_type": "stream",
     "text": [
      "Prediction for CC011-565 CC MRSA Exp 4 Deg. C Data is: \n",
      " [1 1 1 ... 1 1 1] \n",
      " with score \n",
      "  [528.4413732  525.71779085 518.81244414 ... 551.85147669 549.85024834\n",
      " 550.48198518]\n"
     ]
    },
    {
     "name": "stderr",
     "output_type": "stream",
     "text": [
      "No handles with labels found to put in legend.\n",
      "<ipython-input-20-4ea8644da920>:73: UserWarning: Matplotlib is currently using module://ipykernel.pylab.backend_inline, which is a non-GUI backend, so cannot show the figure.\n",
      "  fig.show()\n"
     ]
    },
    {
     "name": "stdout",
     "output_type": "stream",
     "text": [
      "Prediction for CC011-566 CC MRSA Exp 4 Deg. C Data is: \n",
      " [-1 -1 -1 ...  1  1  1] \n",
      " with score \n",
      "  [427.69910563 447.09219677 459.0104961  ... 530.48456194 543.23252427\n",
      " 550.63506553]\n"
     ]
    },
    {
     "name": "stderr",
     "output_type": "stream",
     "text": [
      "No handles with labels found to put in legend.\n",
      "<ipython-input-20-4ea8644da920>:73: UserWarning: Matplotlib is currently using module://ipykernel.pylab.backend_inline, which is a non-GUI backend, so cannot show the figure.\n",
      "  fig.show()\n"
     ]
    },
    {
     "name": "stdout",
     "output_type": "stream",
     "text": [
      "Prediction for CC013-642 CC MRSA Exp 4 Deg. C Data is: \n",
      " [-1 -1 -1 ...  1  1  1] \n",
      " with score \n",
      "  [448.77742357 439.06008694 434.19176184 ... 564.23718486 563.84922155\n",
      " 563.31082458]\n"
     ]
    },
    {
     "name": "stderr",
     "output_type": "stream",
     "text": [
      "No handles with labels found to put in legend.\n",
      "<ipython-input-20-4ea8644da920>:73: UserWarning: Matplotlib is currently using module://ipykernel.pylab.backend_inline, which is a non-GUI backend, so cannot show the figure.\n",
      "  fig.show()\n"
     ]
    },
    {
     "name": "stdout",
     "output_type": "stream",
     "text": [
      "Prediction for CC013-643 CC MRSA Exp 4 Deg. C Data is: \n",
      " [-1 -1 -1 ... -1 -1 -1] \n",
      " with score \n",
      "  [353.30989899 352.99601644 356.58607636 ... 386.0920445  380.54143749\n",
      " 374.84034552]\n"
     ]
    },
    {
     "name": "stderr",
     "output_type": "stream",
     "text": [
      "No handles with labels found to put in legend.\n",
      "<ipython-input-20-4ea8644da920>:73: UserWarning: Matplotlib is currently using module://ipykernel.pylab.backend_inline, which is a non-GUI backend, so cannot show the figure.\n",
      "  fig.show()\n"
     ]
    },
    {
     "name": "stdout",
     "output_type": "stream",
     "text": [
      "Prediction for CC013-644 CC MRSA Exp 4 Deg. C Data is: \n",
      " [ 1  1  1 ... -1 -1  1] \n",
      " with score \n",
      "  [618.41442211 624.55398512 633.17154138 ... 515.68790463 522.49766627\n",
      " 531.82321917]\n"
     ]
    },
    {
     "name": "stderr",
     "output_type": "stream",
     "text": [
      "No handles with labels found to put in legend.\n",
      "<ipython-input-20-4ea8644da920>:73: UserWarning: Matplotlib is currently using module://ipykernel.pylab.backend_inline, which is a non-GUI backend, so cannot show the figure.\n",
      "  fig.show()\n"
     ]
    },
    {
     "name": "stdout",
     "output_type": "stream",
     "text": [
      "Prediction for B6-103 CC MRSA Exp 4 Deg. C Data is: \n",
      " [-1 -1 -1 ... -1 -1 -1] \n",
      " with score \n",
      "  [420.55456396 405.35910304 380.23263472 ... 428.43026971 432.04207218\n",
      " 432.37009627]\n"
     ]
    },
    {
     "data": {
      "image/png": "[encoded data removed]",
      "text/plain": [
       "<Figure size 720x432 with 3 Axes>"
      ]
     },
     "metadata": {},
     "output_type": "display_data"
    }
   ],
   "source": [
    "fig,ax = plt.subplots(3,1,figsize=(10,6), sharex = True)\n",
    "fig.set_facecolor(\"white\") # Changing the border to white\n",
    "\n",
    "model = svm.OneClassSVM() # importing the model\n",
    "\n",
    "# Sigmoid Definition\n",
    "beta = 0.002\n",
    "def sigmoid(scores, beta):\n",
    "    return 1 / (1 + np.exp(-beta * scores))\n",
    "\n",
    "# Plotting each file's temperature vs. minutes\n",
    "for i in range(len(minutes)):\n",
    "    mouse_min = minutes[i] # renaming the minutes to the current column\n",
    "    mouse_temp = temp[i] # renaming the temperature to the current column\n",
    "    x_axis = mouse_min # defining the x axis\n",
    "    \n",
    "    # A for loop for the temperatures (extracting only the column of data frame)\n",
    "    for j in range(mouse_temp.shape[1]): \n",
    "        ax[0].clear() # clear axis for each individual mouse\n",
    "        ax[1].clear() # clear axis\n",
    "        ax[2].clear()\n",
    "        y_axis = mouse_temp.iloc[:,j] # defining the y axis\n",
    "        names = mouse_temp.columns[j] # extracting the names of the columns (mouse name)\n",
    "        \n",
    "        # Filling in missing values using forward fill\n",
    "        y1_fw = y_axis.fillna(method='ffill')\n",
    "        y1_bw = y1_fw.fillna(method='bfill') #backward fill\n",
    "        \n",
    "        # Extracting column names\n",
    "        #names = mouse_temp.columns[j] #doubled\n",
    "        \n",
    "        # Time Delay Embedding\n",
    "        Y = tde.tde(y1_bw) #using the tde file\n",
    "        Y = Y.T #transporting the data\n",
    "        \n",
    "        # Fit the Data\n",
    "        model.fit(Y[:4321,:]) #training the data for the first 3 days (3*24*60)\n",
    "                                ###starts on 720 b/c of the tde\n",
    "                                ###need to change the ending value for Y\n",
    "        # Predict the Data\n",
    "        predict = model.predict(Y[4321:,:]) #predicting on the rest of the days\n",
    "        scores = model.score_samples(Y[4321:,:]) #scoring on the rest of the days \n",
    "        \n",
    "        # Plotting the Scatterplot\n",
    "        ax[0].plot(x_axis, y_axis, label=names)\n",
    "        ax[0].grid()\n",
    "        ax[0].set_title(\"Original Time Series\") # setting a title\n",
    "        ax[0].set_ylabel(\"Temperature (Celcius)\") # y label\n",
    "        ax[0].legend() # name of the mouse\n",
    "        ax[0].set_ylim(30,40) # y limits\n",
    "        \n",
    "        \n",
    "        # Plotting the Scores\n",
    "        ax[1].plot(x_axis[5041:],scores)\n",
    "        ax[1].grid()\n",
    "        ax[1].set_title(\"Scoring\") # setting a title\n",
    "        #ax[1].set_xlabel(\"Minutes\") # x label\n",
    "        ax[1].set_ylabel(\"Score\") # y label\n",
    "        ax[1].legend() # name of the mouse\n",
    "        #ax[1].set_xlim(-5,) # x limits\n",
    "        ax[1].set_ylim(0,700) # y limits\n",
    "        \n",
    "        # Values between 0 and 1 using sigmoid\n",
    "        y = sigmoid(beta, scores)\n",
    "        ax[2].plot(x_axis[5041:], y)\n",
    "        ax[2].grid()\n",
    "        ax[2].set_xlabel('Minutes')\n",
    "        ax[2].set_ylabel('Sigmoid(scores)')\n",
    "        ax[2].set_title('Between 0 and 1')\n",
    "        ax[2].set_ylim(0,1)\n",
    "        \n",
    "        fig.tight_layout()\n",
    "        fig.show()\n",
    "        \n",
    "        #SAVING EACH PLOT\n",
    "        filename = \"Scores/%s.png\"%names # saving the file as the name of the mouse\n",
    "        fig.savefig(filename)\n",
    "        print(\"Prediction for \" + names, \"is: \\n\", predict, \"\\n with score \\n \", +  scores)"
   ]
  },
  {
   "cell_type": "code",
   "execution_count": null,
   "id": "a69c248a",
   "metadata": {},
   "outputs": [],
   "source": [
    " "
   ]
  },
  {
   "cell_type": "code",
   "execution_count": null,
   "id": "41a71534",
   "metadata": {},
   "outputs": [],
   "source": []
  },
  {
   "cell_type": "code",
   "execution_count": null,
   "id": "9fe2c3bd",
   "metadata": {},
   "outputs": [],
   "source": []
  }
 ],
 "metadata": {
  "kernelspec": {
   "display_name": "Python 3",
   "language": "python",
   "name": "python3"
  },
  "language_info": {
   "codemirror_mode": {
    "name": "ipython",
    "version": 3
   },
   "file_extension": ".py",
   "mimetype": "text/x-python",
   "name": "python",
   "nbconvert_exporter": "python",
   "pygments_lexer": "ipython3",
   "version": "3.8.8"
  }
 },
 "nbformat": 4,
 "nbformat_minor": 5
}
