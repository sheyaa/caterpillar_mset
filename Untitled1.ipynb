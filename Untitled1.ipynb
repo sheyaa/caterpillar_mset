{
 "cells": [
  {
   "cell_type": "code",
   "execution_count": 19,
   "id": "3bac6bc3",
   "metadata": {},
   "outputs": [],
   "source": [
    "import numpy as np\n",
    "import matplotlib.pyplot as plt\n",
    "import mset\n",
    "import tde"
   ]
  },
  {
   "cell_type": "code",
   "execution_count": 20,
   "id": "a0372a9b",
   "metadata": {},
   "outputs": [],
   "source": [
    "n = 10000 # making 10000 iterations \n",
    "t = np.linspace(0, 10*np.pi, n) #function to generate a general sequence out of the range of numbers provided \n",
    "x = np.sin(t) + 0.1*np.random.randn(n) #sine funtion with noise added "
   ]
  },
  {
   "cell_type": "code",
   "execution_count": 26,
   "id": "8cf086e8",
   "metadata": {},
   "outputs": [],
   "source": [
    "X = tde.tde(x) #synthetic dataset "
   ]
  },
  {
   "cell_type": "code",
   "execution_count": 27,
   "id": "b0414165",
   "metadata": {},
   "outputs": [
    {
     "data": {
      "text/plain": [
       "array([[ 0.64575564,  0.90980481,  0.16045647],\n",
       "       [ 0.76067025,  0.97386944,  0.06746752],\n",
       "       [ 0.60656674,  1.13692329, -0.03587189],\n",
       "       ...,\n",
       "       [-0.21679957, -1.03870565, -0.60680192],\n",
       "       [ 0.02823407, -0.86431885, -0.84267762],\n",
       "       [ 0.12413253, -1.01972214, -0.79946687]])"
      ]
     },
     "execution_count": 27,
     "metadata": {},
     "output_type": "execute_result"
    }
   ],
   "source": [
    "X=X.T\n",
    "X"
   ]
  },
  {
   "cell_type": "code",
   "execution_count": null,
   "id": "163d27aa",
   "metadata": {},
   "outputs": [],
   "source": [
    "plt.scatter(X[:,0])"
   ]
  },
  {
   "cell_type": "code",
   "execution_count": null,
   "id": "5b609769",
   "metadata": {},
   "outputs": [],
   "source": []
  }
 ],
 "metadata": {
  "kernelspec": {
   "display_name": "Python 3",
   "language": "python",
   "name": "python3"
  },
  "language_info": {
   "codemirror_mode": {
    "name": "ipython",
    "version": 3
   },
   "file_extension": ".py",
   "mimetype": "text/x-python",
   "name": "python",
   "nbconvert_exporter": "python",
   "pygments_lexer": "ipython3",
   "version": "3.8.8"
  }
 },
 "nbformat": 4,
 "nbformat_minor": 5
}
