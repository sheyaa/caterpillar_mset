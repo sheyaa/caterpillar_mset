{
 "cells": [
  {
   "cell_type": "code",
   "execution_count": 2,
   "id": "dc5e838e",
   "metadata": {},
   "outputs": [],
   "source": [
    "# Data Processing\n",
    "import numpy as np\n",
    "import pandas as pd\n",
    "from collections import Counter\n",
    "\n",
    "# Importing tde\n",
    "import tde\n",
    "\n",
    "# Visualization\n",
    "import matplotlib.pyplot as plt\n",
    "\n",
    "# Model and Performance\n",
    "from sklearn.model_selection import train_test_split\n",
    "from sklearn import svm\n",
    "from sklearn.svm import OneClassSVM\n",
    "from sklearn.metrics import classification_report #for model performance evaluation\n",
    "\n",
    "# To generate the for loops\n",
    "import glob\n",
    "import os\n",
    "from matplotlib import ticker"
   ]
  },
  {
   "cell_type": "code",
   "execution_count": 4,
   "id": "a767a351",
   "metadata": {},
   "outputs": [
    {
     "name": "stdout",
     "output_type": "stream",
     "text": [
      "/Users/yoddmena/Downloads/Research/Telemetry_edited/Ex 02 - 05_31_19 - Edited.xlsx\n",
      "/Users/yoddmena/Downloads/Research/Telemetry_edited/Ex 04 - 08_02_19 - Edited.xlsx\n",
      "/Users/yoddmena/Downloads/Research/Telemetry_edited/Ex 15 - 06_30_20 - Edited.xlsx\n",
      "/Users/yoddmena/Downloads/Research/Telemetry_edited/Ex 01 - 05_06_19 - Edited.xlsx\n",
      "/Users/yoddmena/Downloads/Research/Telemetry_edited/Ex 13 - 02_17_20 - Edited.xlsx\n",
      "/Users/yoddmena/Downloads/Research/Telemetry_edited/Ex 05 - 08_30_19 - Edited.xlsx\n",
      "/Users/yoddmena/Downloads/Research/Telemetry_edited/Ex 12 - 01_24_20 - Edited.xlsx\n",
      "/Users/yoddmena/Downloads/Research/Telemetry_edited/Ex 03 - 07_08_19 - Edited.xlsx\n",
      "/Users/yoddmena/Downloads/Research/Telemetry_edited/Ex 08 - 10_04_19 - Edited.xlsx\n",
      "/Users/yoddmena/Downloads/Research/Telemetry_edited/Ex 06 - 09_13_19 - Edited.xlsx\n",
      "/Users/yoddmena/Downloads/Research/Telemetry_edited/Ex 14 - 03_16_20 - Edited.xlsx\n",
      "/Users/yoddmena/Downloads/Research/Telemetry_edited/Ex 10 - 11_08_19 - Edited.xlsx\n",
      "/Users/yoddmena/Downloads/Research/Telemetry_edited/Ex 09 - 09_25_19 - Edited.xlsx\n"
     ]
    }
   ],
   "source": [
    "## READING MICE DATA\n",
    "\n",
    "# Get the data\n",
    "folder = \"/Users/yoddmena/Downloads/Research/Telemetry_edited/\"\n",
    "\n",
    "files = glob.glob( folder + \"Ex *.xlsx\" ) \n",
    "\n",
    "dfs = []\n",
    "for file in files:\n",
    "    excel = pd.read_excel(file) # reading the excel file\n",
    "    df = pd.DataFrame(excel)\n",
    "    dfs.append(df)\n",
    "    print(df)"
   ]
  },
  {
   "cell_type": "code",
   "execution_count": 41,
   "id": "6cdab783",
   "metadata": {},
   "outputs": [
    {
     "ename": "AttributeError",
     "evalue": "module 'pandas' has no attribute 'series'",
     "output_type": "error",
     "traceback": [
      "\u001b[0;31m---------------------------------------------------------------------------\u001b[0m",
      "\u001b[0;31mAttributeError\u001b[0m                            Traceback (most recent call last)",
      "\u001b[0;32m<ipython-input-41-32ac901732ce>\u001b[0m in \u001b[0;36m<module>\u001b[0;34m\u001b[0m\n\u001b[0;32m----> 1\u001b[0;31m \u001b[0mdfs_new\u001b[0m \u001b[0;34m=\u001b[0m \u001b[0mpd\u001b[0m\u001b[0;34m.\u001b[0m\u001b[0mseries\u001b[0m\u001b[0;34m(\u001b[0m\u001b[0mdfs\u001b[0m\u001b[0;34m)\u001b[0m\u001b[0;34m\u001b[0m\u001b[0;34m\u001b[0m\u001b[0m\n\u001b[0m",
      "\u001b[0;32m~/opt/anaconda3/lib/python3.8/site-packages/pandas/__init__.py\u001b[0m in \u001b[0;36m__getattr__\u001b[0;34m(name)\u001b[0m\n\u001b[1;32m    242\u001b[0m         \u001b[0;32mreturn\u001b[0m \u001b[0m_SparseArray\u001b[0m\u001b[0;34m\u001b[0m\u001b[0;34m\u001b[0m\u001b[0m\n\u001b[1;32m    243\u001b[0m \u001b[0;34m\u001b[0m\u001b[0m\n\u001b[0;32m--> 244\u001b[0;31m     \u001b[0;32mraise\u001b[0m \u001b[0mAttributeError\u001b[0m\u001b[0;34m(\u001b[0m\u001b[0;34mf\"module 'pandas' has no attribute '{name}'\"\u001b[0m\u001b[0;34m)\u001b[0m\u001b[0;34m\u001b[0m\u001b[0;34m\u001b[0m\u001b[0m\n\u001b[0m\u001b[1;32m    245\u001b[0m \u001b[0;34m\u001b[0m\u001b[0m\n\u001b[1;32m    246\u001b[0m \u001b[0;34m\u001b[0m\u001b[0m\n",
      "\u001b[0;31mAttributeError\u001b[0m: module 'pandas' has no attribute 'series'"
     ]
    }
   ],
   "source": []
  },
  {
   "cell_type": "code",
   "execution_count": null,
   "id": "8275eec2",
   "metadata": {},
   "outputs": [],
   "source": []
  },
  {
   "cell_type": "code",
   "execution_count": 53,
   "id": "6ffbbf66",
   "metadata": {},
   "outputs": [
    {
     "ename": "NameError",
     "evalue": "name 'mice_temp_new' is not defined",
     "output_type": "error",
     "traceback": [
      "\u001b[0;31m---------------------------------------------------------------------------\u001b[0m",
      "\u001b[0;31mNameError\u001b[0m                                 Traceback (most recent call last)",
      "\u001b[0;32m<ipython-input-53-bc242102ffc3>\u001b[0m in \u001b[0;36m<module>\u001b[0;34m\u001b[0m\n\u001b[1;32m      8\u001b[0m         \u001b[0mmince_temp_new\u001b[0m \u001b[0;34m=\u001b[0m \u001b[0mmice_temp\u001b[0m\u001b[0;34m.\u001b[0m\u001b[0miloc\u001b[0m\u001b[0;34m[\u001b[0m\u001b[0;34m:\u001b[0m\u001b[0;34m,\u001b[0m\u001b[0mj\u001b[0m\u001b[0;34m]\u001b[0m\u001b[0;34m\u001b[0m\u001b[0;34m\u001b[0m\u001b[0m\n\u001b[1;32m      9\u001b[0m         \u001b[0max\u001b[0m\u001b[0;34m.\u001b[0m\u001b[0mcla\u001b[0m\u001b[0;34m(\u001b[0m\u001b[0;34m)\u001b[0m \u001b[0;31m# clear axis\u001b[0m\u001b[0;34m\u001b[0m\u001b[0;34m\u001b[0m\u001b[0m\n\u001b[0;32m---> 10\u001b[0;31m         \u001b[0mplt\u001b[0m\u001b[0;34m.\u001b[0m\u001b[0mplot\u001b[0m\u001b[0;34m(\u001b[0m\u001b[0mmice_min\u001b[0m\u001b[0;34m,\u001b[0m \u001b[0mmice_temp_new\u001b[0m\u001b[0;34m)\u001b[0m \u001b[0;31m#plotting the temperature vs the minutes\u001b[0m\u001b[0;34m\u001b[0m\u001b[0;34m\u001b[0m\u001b[0m\n\u001b[0m\u001b[1;32m     11\u001b[0m         \u001b[0mplt\u001b[0m\u001b[0;34m.\u001b[0m\u001b[0mxlabel\u001b[0m\u001b[0;34m(\u001b[0m\u001b[0;34m\"Minutes\"\u001b[0m\u001b[0;34m)\u001b[0m \u001b[0;31m#x label\u001b[0m\u001b[0;34m\u001b[0m\u001b[0;34m\u001b[0m\u001b[0m\n\u001b[1;32m     12\u001b[0m         \u001b[0mplt\u001b[0m\u001b[0;34m.\u001b[0m\u001b[0mylabel\u001b[0m\u001b[0;34m(\u001b[0m\u001b[0;34m\"Temperature (Celsius)\"\u001b[0m\u001b[0;34m)\u001b[0m \u001b[0;31m#y label\u001b[0m\u001b[0;34m\u001b[0m\u001b[0;34m\u001b[0m\u001b[0m\n",
      "\u001b[0;31mNameError\u001b[0m: name 'mice_temp_new' is not defined"
     ]
    },
    {
     "data": {
      "image/png": "[encoded data removed]",
      "text/plain": [
       "<Figure size 432x288 with 1 Axes>"
      ]
     },
     "metadata": {
      "needs_background": "light"
     },
     "output_type": "display_data"
    }
   ],
   "source": [
    "fig,ax = plt.subplots()\n",
    "\n",
    "for i in range(len(dfs)):\n",
    "    for j in range(len(mice_temp.columns)):\n",
    "        data = dfs[i]\n",
    "        mice_min = data.iloc[:,0] #getting only the minutes\n",
    "        mice_temp = data.iloc[:,3::2] # slicing the data for only temperature\n",
    "        mice_temp_new = mice_temp.iloc[:,j]\n",
    "        ax.cla() # clear axis\n",
    "        plt.plot(mice_min, mice_temp_new) #plotting the temperature vs the minutes\n",
    "        plt.xlabel(\"Minutes\") #x label\n",
    "        plt.ylabel(\"Temperature (Celsius)\") #y label\n",
    "        plt.grid(True)\n",
    "        suffix = str(\"mice_temp.iloc[:,j]\").zfill(4)\n",
    "        plt.legend(suffix)\n",
    "        filename = \"Images/image_01_%s.png\"%suffix\n",
    "        fig.savefig(filename, bbox_inches=\"tight\")\n"
   ]
  },
  {
   "cell_type": "code",
   "execution_count": 39,
   "id": "d2ad2578",
   "metadata": {},
   "outputs": [
    {
     "name": "stdout",
     "output_type": "stream",
     "text": [
      "0 0\n",
      "0 1\n",
      "0 2\n",
      "0 3\n",
      "0 4\n",
      "0 5\n",
      "0 6\n",
      "0 7\n",
      "0 8\n",
      "0 9\n",
      "0 10\n",
      "0 11\n",
      "0 12\n",
      "1 0\n",
      "1 1\n",
      "1 2\n",
      "1 3\n",
      "1 4\n",
      "1 5\n",
      "1 6\n",
      "1 7\n",
      "1 8\n",
      "1 9\n",
      "1 10\n",
      "1 11\n",
      "1 12\n",
      "2 0\n",
      "2 1\n",
      "2 2\n",
      "2 3\n",
      "2 4\n",
      "2 5\n",
      "2 6\n",
      "2 7\n",
      "2 8\n",
      "2 9\n",
      "2 10\n",
      "2 11\n",
      "2 12\n",
      "3 0\n",
      "3 1\n",
      "3 2\n",
      "3 3\n",
      "3 4\n",
      "3 5\n",
      "3 6\n",
      "3 7\n",
      "3 8\n",
      "3 9\n",
      "3 10\n",
      "3 11\n",
      "3 12\n",
      "4 0\n",
      "4 1\n",
      "4 2\n",
      "4 3\n",
      "4 4\n",
      "4 5\n",
      "4 6\n",
      "4 7\n",
      "4 8\n",
      "4 9\n",
      "4 10\n",
      "4 11\n",
      "4 12\n",
      "5 0\n",
      "5 1\n",
      "5 2\n",
      "5 3\n",
      "5 4\n",
      "5 5\n",
      "5 6\n",
      "5 7\n",
      "5 8\n",
      "5 9\n",
      "5 10\n",
      "5 11\n",
      "5 12\n",
      "6 0\n",
      "6 1\n",
      "6 2\n",
      "6 3\n",
      "6 4\n",
      "6 5\n",
      "6 6\n",
      "6 7\n",
      "6 8\n",
      "6 9\n",
      "6 10\n",
      "6 11\n",
      "6 12\n",
      "7 0\n",
      "7 1\n",
      "7 2\n",
      "7 3\n",
      "7 4\n",
      "7 5\n",
      "7 6\n",
      "7 7\n",
      "7 8\n",
      "7 9\n",
      "7 10\n",
      "7 11\n",
      "7 12\n",
      "8 0\n",
      "8 1\n",
      "8 2\n",
      "8 3\n",
      "8 4\n",
      "8 5\n",
      "8 6\n",
      "8 7\n",
      "8 8\n",
      "8 9\n",
      "8 10\n",
      "8 11\n",
      "8 12\n",
      "9 0\n",
      "9 1\n",
      "9 2\n",
      "9 3\n",
      "9 4\n",
      "9 5\n",
      "9 6\n",
      "9 7\n",
      "9 8\n",
      "9 9\n",
      "9 10\n",
      "9 11\n",
      "9 12\n"
     ]
    }
   ],
   "source": [
    "for y in range(10):\n",
    "    for j in range(13):\n",
    "        print(y, j)"
   ]
  },
  {
   "cell_type": "code",
   "execution_count": null,
   "id": "5b8eca50",
   "metadata": {},
   "outputs": [],
   "source": []
  },
  {
   "cell_type": "code",
   "execution_count": null,
   "id": "4146067c",
   "metadata": {},
   "outputs": [],
   "source": []
  }
 ],
 "metadata": {
  "kernelspec": {
   "display_name": "Python 3",
   "language": "python",
   "name": "python3"
  },
  "language_info": {
   "codemirror_mode": {
    "name": "ipython",
    "version": 3
   },
   "file_extension": ".py",
   "mimetype": "text/x-python",
   "name": "python",
   "nbconvert_exporter": "python",
   "pygments_lexer": "ipython3",
   "version": "3.8.8"
  }
 },
 "nbformat": 4,
 "nbformat_minor": 5
}
