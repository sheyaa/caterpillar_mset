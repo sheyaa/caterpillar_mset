{
 "cells": [
  {
   "cell_type": "markdown",
   "id": "34d704c8",
   "metadata": {},
   "source": [
    "# One Class Support Vector Machines"
   ]
  },
  {
   "cell_type": "markdown",
   "id": "28bc9459",
   "metadata": {},
   "source": [
    "## Importing Libraries"
   ]
  },
  {
   "cell_type": "code",
   "execution_count": 29,
   "id": "619a4882",
   "metadata": {},
   "outputs": [],
   "source": [
    "# Data Processing\n",
    "import numpy as np\n",
    "import pandas as pd\n",
    "from collections import Counter\n",
    "\n",
    "# Importing tde\n",
    "import tde\n",
    "\n",
    "import matplotlib.pyplot as plt\n",
    "\n",
    "# Model and Performance\n",
    "from sklearn.model_selection import train_test_split\n",
    "from sklearn import svm\n",
    "from sklearn.svm import OneClassSVM\n",
    "from sklearn.metrics import classification_report #for model performance evaluation\n",
    "from sklearn.metrics import confusion_matrix\n",
    "from sklearn.metrics import recall_score\n",
    "from sklearn.metrics import precision_score\n",
    "from sklearn.metrics import precision_recall_fscore_support\n",
    "\n",
    "# To generate the for loops\n",
    "import glob\n",
    "import os\n",
    "from matplotlib import ticker"
   ]
  },
  {
   "cell_type": "markdown",
   "id": "a5f293c2",
   "metadata": {},
   "source": [
    "## Data Management"
   ]
  },
  {
   "cell_type": "code",
   "execution_count": 2,
   "id": "9c9f33e6",
   "metadata": {},
   "outputs": [],
   "source": [
    "# READ INFECTION TIME DATA\n",
    "infection_data = pd.read_excel('/Users/yoddmena/Downloads/Research/Telemetry_edited/MRSA - Master sheet.xlsx', index_col=0)\n",
    "\n",
    "# READ AND EXTRACT DATA FROM FOLDER CONTAINING EXCEL SHEETS\n",
    "folder = \"/Users/yoddmena/Downloads/Research/Telemetry_edited/\"\n",
    "files = glob.glob( folder + \"Ex *.xlsx\" ) "
   ]
  },
  {
   "cell_type": "code",
   "execution_count": 3,
   "id": "82a12322",
   "metadata": {},
   "outputs": [],
   "source": [
    "# CREATE A LIST OF TEMPERATURES\n",
    "temp = []\n",
    "\n",
    "for file in files:\n",
    "    df = pd.read_excel(file)\n",
    "    file_temp = df.iloc[:, 3::2]  # slicing the data for only temperature\n",
    "    \n",
    "    # Ensure that the number of minutes matches the number of temperature columns\n",
    "    num_temp_columns = file_temp.shape[1]\n",
    "    \n",
    "    # Iterate over every other column in file_temp\n",
    "    for j in range(0, num_temp_columns):\n",
    "        # Extract the specific temperature column and its corresponding minutes\n",
    "        column_name = file_temp.columns[j]\n",
    "        temperature = file_temp[column_name]\n",
    "        \n",
    "        # Append the temperature and minutes to each lists\n",
    "        temp.append(temperature)"
   ]
  },
  {
   "cell_type": "markdown",
   "id": "c840b13b",
   "metadata": {},
   "source": [
    "## Creating Data Frames"
   ]
  },
  {
   "cell_type": "code",
   "execution_count": 4,
   "id": "805134d4",
   "metadata": {},
   "outputs": [],
   "source": [
    "##### INFECTION DATA\n",
    "infection_data = infection_data.iloc[:,[1,9]]\n",
    "infection_data = infection_data.T # transpose the data\n",
    "\n",
    "infection_data.columns = infection_data.iloc[0] # Assign the values of the first row as the new column names\n",
    "\n",
    "infection_data = infection_data[1:] # Remove the first row (previous column names)\n",
    "\n",
    "\n",
    "##### TEMPERATURE DATA\n",
    "df_temp = pd.DataFrame(temp)\n",
    "df_temp = df_temp.T # transpose the data\n",
    "\n",
    "df_temp.columns = df_temp.columns.astype(str).str.split(' ').str[0] # Rename columns keeping only the first word\n"
   ]
  },
  {
   "cell_type": "markdown",
   "id": "5aebc84a",
   "metadata": {},
   "source": [
    "## Scores"
   ]
  },
  {
   "cell_type": "code",
   "execution_count": 5,
   "id": "db08d8d1",
   "metadata": {},
   "outputs": [],
   "source": [
    "# IMPORTING THE SVM MODEL\n",
    "# this model is from SckiKit Learn\n",
    "model = svm.OneClassSVM()\n",
    "\n",
    "# SIGMOID DEFINITION\n",
    "# we will use the sigmoid function to make our scores be a numerical value that lies between 0 and 1\n",
    "\n",
    "beta = (2/700) # 700 is the largest value\n",
    "def sigmoid(scores, beta):\n",
    "    return 1 / (1 + np.exp(-beta * scores))"
   ]
  },
  {
   "cell_type": "code",
   "execution_count": 31,
   "id": "f55c645c",
   "metadata": {},
   "outputs": [
    {
     "name": "stdout",
     "output_type": "stream",
     "text": [
      "Found 'CC006-315' and its infection value is '10300'\n",
      "{'Nonanomalies': {'precision': 0.6823684789786485, 'recall': 1.0, 'f1-score': 0.8111997906581185, 'support': 3100}, 'Anomalies': {'precision': 1.0, 'recall': 0.8992599832449036, 'f1-score': 0.9469582797279912, 'support': 14324}, 'accuracy': 0.9171831955922864, 'macro avg': {'precision': 0.8411842394893243, 'recall': 0.9496299916224518, 'f1-score': 0.8790790351930549, 'support': 17424}, 'weighted avg': {'precision': 0.9434884231424362, 'recall': 0.9171831955922864, 'f1-score': 0.9228047377102797, 'support': 17424}}\n",
      "====================================\n",
      "Found 'CC006-316' and its infection value is '10300'\n",
      "{'Nonanomalies': {'precision': 0.6403635612476761, 'recall': 1.0, 'f1-score': 0.780758090920539, 'support': 3100}, 'Anomalies': {'precision': 1.0, 'recall': 0.8784557386204971, 'f1-score': 0.9352956479726466, 'support': 14324}, 'accuracy': 0.9000803489439853, 'macro avg': {'precision': 0.8201817806238381, 'recall': 0.9392278693102485, 'f1-score': 0.8580268694465929, 'support': 17424}, 'weighted avg': {'precision': 0.9360150964111452, 'recall': 0.9000803489439853, 'f1-score': 0.9078010183318331, 'support': 17424}}\n",
      "====================================\n",
      "Found 'CC006-317' and its infection value is '10300'\n",
      "{'Nonanomalies': {'precision': 0.4985525892569958, 'recall': 1.0, 'f1-score': 0.6653788366602276, 'support': 3100}, 'Anomalies': {'precision': 1.0, 'recall': 0.7823233733593968, 'f1-score': 0.8778691735213474, 'support': 14324}, 'accuracy': 0.8210514233241506, 'macro avg': {'precision': 0.7492762946284979, 'recall': 0.8911616866796984, 'f1-score': 0.7716240050907874, 'support': 17424}, 'weighted avg': {'precision': 0.9107847237544012, 'recall': 0.8210514233241506, 'f1-score': 0.8400638449934853, 'support': 17424}}\n",
      "====================================\n",
      "Found 'CC019-1392' and its infection value is '10300'\n",
      "{'Nonanomalies': {'precision': 0.1853562005277045, 'recall': 0.9970967741935484, 'f1-score': 0.31260113268608414, 'support': 3100}, 'Anomalies': {'precision': 0.9879679144385026, 'recall': 0.051591734152471376, 'f1-score': 0.09806263269639065, 'support': 14324}, 'accuracy': 0.219811753902663, 'macro avg': {'precision': 0.5866620574831035, 'recall': 0.5243442541730099, 'f1-score': 0.2053318826912374, 'support': 17424}, 'weighted avg': {'precision': 0.8451708349433538, 'recall': 0.219811753902663, 'f1-score': 0.1362323612299105, 'support': 17424}}\n",
      "====================================\n",
      "No match found for mouse 'CC019-1393'\n",
      "====================================\n",
      "Found 'CC043-455' and its infection value is '10300'\n"
     ]
    },
    {
     "name": "stderr",
     "output_type": "stream",
     "text": [
      "/Users/yoddmena/opt/anaconda3/lib/python3.8/site-packages/sklearn/metrics/_classification.py:1245: UndefinedMetricWarning: Precision and F-score are ill-defined and being set to 0.0 in labels with no predicted samples. Use `zero_division` parameter to control this behavior.\n",
      "  _warn_prf(average, modifier, msg_start, len(result))\n",
      "/Users/yoddmena/opt/anaconda3/lib/python3.8/site-packages/sklearn/metrics/_classification.py:1245: UndefinedMetricWarning: Precision and F-score are ill-defined and being set to 0.0 in labels with no predicted samples. Use `zero_division` parameter to control this behavior.\n",
      "  _warn_prf(average, modifier, msg_start, len(result))\n",
      "/Users/yoddmena/opt/anaconda3/lib/python3.8/site-packages/sklearn/metrics/_classification.py:1245: UndefinedMetricWarning: Precision and F-score are ill-defined and being set to 0.0 in labels with no predicted samples. Use `zero_division` parameter to control this behavior.\n",
      "  _warn_prf(average, modifier, msg_start, len(result))\n",
      "/Users/yoddmena/opt/anaconda3/lib/python3.8/site-packages/sklearn/metrics/_classification.py:1245: UndefinedMetricWarning: Precision is ill-defined and being set to 0.0 due to no predicted samples. Use `zero_division` parameter to control this behavior.\n",
      "  _warn_prf(average, modifier, msg_start, len(result))\n",
      "/Users/yoddmena/opt/anaconda3/lib/python3.8/site-packages/sklearn/metrics/_classification.py:1245: UndefinedMetricWarning: Precision and F-score are ill-defined and being set to 0.0 in labels with no predicted samples. Use `zero_division` parameter to control this behavior.\n",
      "  _warn_prf(average, modifier, msg_start, len(result))\n"
     ]
    },
    {
     "name": "stdout",
     "output_type": "stream",
     "text": [
      "{'Nonanomalies': {'precision': 0.17791551882460974, 'recall': 1.0, 'f1-score': 0.30208536347690507, 'support': 3100}, 'Anomalies': {'precision': 0.0, 'recall': 0.0, 'f1-score': 0.0, 'support': 14324}, 'accuracy': 0.17791551882460974, 'macro avg': {'precision': 0.08895775941230487, 'recall': 0.5, 'f1-score': 0.15104268173845253, 'support': 17424}, 'weighted avg': {'precision': 0.031653931838630064, 'recall': 0.17791551882460974, 'f1-score': 0.05374567417231437, 'support': 17424}}\n",
      "====================================\n",
      "Found 'CC043-456' and its infection value is '10300'\n",
      "{'Nonanomalies': {'precision': 0.17198448086165963, 'recall': 0.9580645161290322, 'f1-score': 0.2916196180470323, 'support': 3100}, 'Anomalies': {'precision': 0.16129032258064516, 'recall': 0.0017453225356045797, 'f1-score': 0.003453277160024864, 'support': 14324}, 'accuracy': 0.17188934802571165, 'macro avg': {'precision': 0.16663740172115238, 'recall': 0.4799049193323184, 'f1-score': 0.14753644760352858, 'support': 17424}, 'weighted avg': {'precision': 0.16319297929960436, 'recall': 0.17188934802571165, 'f1-score': 0.05472254120672614, 'support': 17424}}\n",
      "====================================\n",
      "Found 'CC043-457' and its infection value is '10300'\n"
     ]
    },
    {
     "name": "stderr",
     "output_type": "stream",
     "text": [
      "/Users/yoddmena/opt/anaconda3/lib/python3.8/site-packages/sklearn/metrics/_classification.py:1245: UndefinedMetricWarning: Precision and F-score are ill-defined and being set to 0.0 in labels with no predicted samples. Use `zero_division` parameter to control this behavior.\n",
      "  _warn_prf(average, modifier, msg_start, len(result))\n",
      "/Users/yoddmena/opt/anaconda3/lib/python3.8/site-packages/sklearn/metrics/_classification.py:1245: UndefinedMetricWarning: Precision and F-score are ill-defined and being set to 0.0 in labels with no predicted samples. Use `zero_division` parameter to control this behavior.\n",
      "  _warn_prf(average, modifier, msg_start, len(result))\n",
      "/Users/yoddmena/opt/anaconda3/lib/python3.8/site-packages/sklearn/metrics/_classification.py:1245: UndefinedMetricWarning: Precision and F-score are ill-defined and being set to 0.0 in labels with no predicted samples. Use `zero_division` parameter to control this behavior.\n",
      "  _warn_prf(average, modifier, msg_start, len(result))\n",
      "/Users/yoddmena/opt/anaconda3/lib/python3.8/site-packages/sklearn/metrics/_classification.py:1245: UndefinedMetricWarning: Precision is ill-defined and being set to 0.0 due to no predicted samples. Use `zero_division` parameter to control this behavior.\n",
      "  _warn_prf(average, modifier, msg_start, len(result))\n",
      "/Users/yoddmena/opt/anaconda3/lib/python3.8/site-packages/sklearn/metrics/_classification.py:1245: UndefinedMetricWarning: Precision and F-score are ill-defined and being set to 0.0 in labels with no predicted samples. Use `zero_division` parameter to control this behavior.\n",
      "  _warn_prf(average, modifier, msg_start, len(result))\n"
     ]
    },
    {
     "name": "stdout",
     "output_type": "stream",
     "text": [
      "{'Nonanomalies': {'precision': 0.17791551882460974, 'recall': 1.0, 'f1-score': 0.30208536347690507, 'support': 3100}, 'Anomalies': {'precision': 0.0, 'recall': 0.0, 'f1-score': 0.0, 'support': 14324}, 'accuracy': 0.17791551882460974, 'macro avg': {'precision': 0.08895775941230487, 'recall': 0.5, 'f1-score': 0.15104268173845253, 'support': 17424}, 'weighted avg': {'precision': 0.031653931838630064, 'recall': 0.17791551882460974, 'f1-score': 0.05374567417231437, 'support': 17424}}\n",
      "====================================\n",
      "Found 'CC051-489' and its infection value is '10300'\n",
      "{'Nonanomalies': {'precision': 0.1828477055562109, 'recall': 1.0, 'f1-score': 0.3091652538147003, 'support': 3100}, 'Anomalies': {'precision': 1.0, 'recall': 0.0328120636693661, 'f1-score': 0.06353927267811275, 'support': 14324}, 'accuracy': 0.20488980716253444, 'macro avg': {'precision': 0.5914238527781055, 'recall': 0.516406031834683, 'f1-score': 0.18635226324640652, 'support': 17424}, 'weighted avg': {'precision': 0.854615925575313, 'recall': 0.20488980716253444, 'f1-score': 0.10723994654883252, 'support': 17424}}\n",
      "====================================\n",
      "Found 'CC051-490' and its infection value is '10300'\n",
      "{'Nonanomalies': {'precision': 0.22468652605638906, 'recall': 1.0, 'f1-score': 0.366929040658105, 'support': 3100}, 'Anomalies': {'precision': 1.0, 'recall': 0.2532113934655124, 'f1-score': 0.4041000501364826, 'support': 14324}, 'accuracy': 0.38607667584940314, 'macro avg': {'precision': 0.6123432630281945, 'recall': 0.6266056967327562, 'f1-score': 0.3855145453972938, 'support': 17424}, 'weighted avg': {'precision': 0.8620597010316119, 'recall': 0.38607667584940314, 'f1-score': 0.3974867506999025, 'support': 17424}}\n",
      "====================================\n",
      "Found 'CC057-610' and its infection value is '10300'\n",
      "{'Nonanomalies': {'precision': 0.36808359059605794, 'recall': 1.0, 'f1-score': 0.5381010241277556, 'support': 3100}, 'Anomalies': {'precision': 1.0, 'recall': 0.6284557386204971, 'f1-score': 0.7718425790962875, 'support': 14324}, 'accuracy': 0.6945592286501377, 'macro avg': {'precision': 0.684041795298029, 'recall': 0.8142278693102485, 'f1-score': 0.6549718016120216, 'support': 17424}, 'weighted avg': {'precision': 0.8875722641671132, 'recall': 0.6945592286501377, 'f1-score': 0.73025632907319, 'support': 17424}}\n",
      "====================================\n",
      "Found 'CC002-607' and its infection value is '11250'\n",
      "{'Nonanomalies': {'precision': 0.2330264672036824, 'recall': 1.0, 'f1-score': 0.377974801679888, 'support': 4050}, 'Anomalies': {'precision': 1.0, 'recall': 0.0032899656049050394, 'f1-score': 0.00655835444924728, 'support': 13374}, 'accuracy': 0.23496326905417814, 'macro avg': {'precision': 0.6165132336018412, 'recall': 0.5016449828024525, 'f1-score': 0.19226657806456765, 'support': 17424}, 'weighted avg': {'precision': 0.821726193306641, 'recall': 0.23496326905417814, 'f1-score': 0.09288965674975778, 'support': 17424}}\n",
      "====================================\n",
      "Found 'CC002-609' and its infection value is '11250'\n",
      "{'Nonanomalies': {'precision': 0.2551375276636105, 'recall': 0.9962962962962963, 'f1-score': 0.40624213440724893, 'support': 4050}, 'Anomalies': {'precision': 0.9906774394033562, 'recall': 0.11918648123224167, 'f1-score': 0.21277447774144032, 'support': 13374}, 'accuracy': 0.32306014692378326, 'macro avg': {'precision': 0.6229074835334834, 'recall': 0.557741388764269, 'f1-score': 0.30950830607434465, 'support': 17424}, 'weighted avg': {'precision': 0.8197100012407087, 'recall': 0.32306014692378326, 'f1-score': 0.25774371611934005, 'support': 17424}}\n",
      "====================================\n",
      "Found 'CC002-610' and its infection value is '11250'\n",
      "{'Nonanomalies': {'precision': 0.32814526588845655, 'recall': 0.9995061728395062, 'f1-score': 0.49408031246185763, 'support': 4050}, 'Anomalies': {'precision': 0.9996069182389937, 'recall': 0.3802901151487962, 'f1-score': 0.550969559094356, 'support': 13374}, 'accuracy': 0.5242194674012856, 'macro avg': {'precision': 0.6638760920637251, 'recall': 0.6898981439941512, 'f1-score': 0.5225249357781068, 'support': 17424}, 'weighted avg': {'precision': 0.8435337035913998, 'recall': 0.5242194674012856, 'f1-score': 0.5377463354452732, 'support': 17424}}\n",
      "====================================\n",
      "Found 'CC003-178' and its infection value is '11250'\n",
      "{'Nonanomalies': {'precision': 0.4642898085521036, 'recall': 1.0, 'f1-score': 0.6341501604947937, 'support': 4050}, 'Anomalies': {'precision': 1.0, 'recall': 0.6505906983699716, 'f1-score': 0.788312570781427, 'support': 13374}, 'accuracy': 0.7318067033976124, 'macro avg': {'precision': 0.7321449042760518, 'recall': 0.8252953491849858, 'f1-score': 0.7112313656381104, 'support': 17424}, 'weighted avg': {'precision': 0.87548058566552, 'recall': 0.7318067033976124, 'f1-score': 0.7524793659110834, 'support': 17424}}\n",
      "====================================\n",
      "Found 'CC003-179' and its infection value is '11250'\n",
      "{'Nonanomalies': {'precision': 0.23582159077675557, 'recall': 1.0, 'f1-score': 0.3816434225405202, 'support': 4050}, 'Anomalies': {'precision': 1.0, 'recall': 0.018692986391505906, 'f1-score': 0.03669994128009395, 'support': 13374}, 'accuracy': 0.2467860422405877, 'macro avg': {'precision': 0.6179107953883778, 'recall': 0.509346493195753, 'f1-score': 0.20917168191030708, 'support': 17424}, 'weighted avg': {'precision': 0.8223758862859194, 'recall': 0.2467860422405877, 'f1-score': 0.11687791987885005, 'support': 17424}}\n",
      "====================================\n",
      "Found 'CC003-180' and its infection value is '11250'\n",
      "{'Nonanomalies': {'precision': 0.23294604854480616, 'recall': 1.0, 'f1-score': 0.3778690054114574, 'support': 4050}, 'Anomalies': {'precision': 1.0, 'recall': 0.002841333931508898, 'f1-score': 0.005666567253206084, 'support': 13374}, 'accuracy': 0.23461891643709826, 'macro avg': {'precision': 0.616473024272403, 'recall': 0.5014206669657545, 'f1-score': 0.19176778633233174, 'support': 17424}, 'weighted avg': {'precision': 0.82170750095308, 'recall': 0.23461891643709826, 'f1-score': 0.09218056372594012, 'support': 17424}}\n",
      "====================================\n",
      "Found 'CC005-433' and its infection value is '11250'\n",
      "{'Nonanomalies': {'precision': 0.23578751164958062, 'recall': 0.9995061728395062, 'f1-score': 0.38156282401734376, 'support': 4050}, 'Anomalies': {'precision': 0.9921875, 'recall': 0.018992074173770003, 'f1-score': 0.037270726338958185, 'support': 13374}, 'accuracy': 0.246900826446281, 'macro avg': {'precision': 0.6139875058247903, 'recall': 0.5092491235066381, 'f1-score': 0.20941677517815097, 'support': 17424}, 'weighted avg': {'precision': 0.8163713870053261, 'recall': 0.246900826446281, 'f1-score': 0.11729729862990523, 'support': 17424}}\n",
      "====================================\n",
      "Found 'CC005-434' and its infection value is '11250'\n",
      "{'Nonanomalies': {'precision': 0.42412818096135724, 'recall': 1.0, 'f1-score': 0.5956320317670417, 'support': 4050}, 'Anomalies': {'precision': 1.0, 'recall': 0.5888290713324361, 'f1-score': 0.7412113511224059, 'support': 13374}, 'accuracy': 0.684400826446281, 'macro avg': {'precision': 0.7120640904806786, 'recall': 0.794414535666218, 'f1-score': 0.6684216914447239, 'support': 17424}, 'weighted avg': {'precision': 0.8661454966077535, 'recall': 0.684400826446281, 'f1-score': 0.707373182883814, 'support': 17424}}\n",
      "====================================\n",
      "Found 'CC005-435' and its infection value is '11250'\n",
      "{'Nonanomalies': {'precision': 0.23294604854480616, 'recall': 1.0, 'f1-score': 0.3778690054114574, 'support': 4050}, 'Anomalies': {'precision': 1.0, 'recall': 0.002841333931508898, 'f1-score': 0.005666567253206084, 'support': 13374}, 'accuracy': 0.23461891643709826, 'macro avg': {'precision': 0.616473024272403, 'recall': 0.5014206669657545, 'f1-score': 0.19176778633233174, 'support': 17424}, 'weighted avg': {'precision': 0.82170750095308, 'recall': 0.23461891643709826, 'f1-score': 0.09218056372594012, 'support': 17424}}\n",
      "====================================\n",
      "No match found for mouse 'CC011-564'\n",
      "====================================\n",
      "No match found for mouse 'CC011-565'\n",
      "====================================\n",
      "No match found for mouse 'CC011-566'\n",
      "====================================\n",
      "Found 'CC013-642' and its infection value is '11250'\n"
     ]
    },
    {
     "name": "stdout",
     "output_type": "stream",
     "text": [
      "{'Nonanomalies': {'precision': 0.2499689247980112, 'recall': 0.9930864197530864, 'f1-score': 0.3994041708043694, 'support': 4050}, 'Anomalies': {'precision': 0.9790104947526237, 'recall': 0.09765216090922686, 'f1-score': 0.1775904269785151, 'support': 13374}, 'accuracy': 0.30578512396694213, 'macro avg': {'precision': 0.6144897097753175, 'recall': 0.5453692903311567, 'f1-score': 0.28849729889144227, 'support': 17424}, 'weighted avg': {'precision': 0.8095535182652396, 'recall': 0.30578512396694213, 'f1-score': 0.22914837363225188, 'support': 17424}}\n",
      "====================================\n",
      "Found 'CC013-643' and its infection value is '11250'\n",
      "{'Nonanomalies': {'precision': 0.23414127846632884, 'recall': 0.9469135802469136, 'f1-score': 0.37544666895100104, 'support': 4050}, 'Anomalies': {'precision': 0.7942583732057417, 'recall': 0.06206071481979961, 'f1-score': 0.11512587558083086, 'support': 13374}, 'accuracy': 0.26773415977961434, 'macro avg': {'precision': 0.5141998258360353, 'recall': 0.5044871475333567, 'f1-score': 0.24528627226591596, 'support': 17424}, 'weighted avg': {'precision': 0.6640658666805682, 'recall': 0.26773415977961434, 'f1-score': 0.1756343244530295, 'support': 17424}}\n",
      "====================================\n",
      "Found 'CC013-644' and its infection value is '11250'\n",
      "{'Nonanomalies': {'precision': 0.24053371799495132, 'recall': 0.9881481481481481, 'f1-score': 0.3868909512761021, 'support': 4050}, 'Anomalies': {'precision': 0.9389312977099237, 'recall': 0.05518169582772544, 'f1-score': 0.10423728813559323, 'support': 13374}, 'accuracy': 0.27203856749311295, 'macro avg': {'precision': 0.5897325078524375, 'recall': 0.5216649219879368, 'f1-score': 0.24556411970584768, 'support': 17424}, 'weighted avg': {'precision': 0.7765971495323732, 'recall': 0.27203856749311295, 'f1-score': 0.16993674496060823, 'support': 17424}}\n",
      "====================================\n",
      "No match found for mouse 'B6-103'\n",
      "====================================\n",
      "Found 'CC001-364' and its infection value is '10250'\n"
     ]
    },
    {
     "name": "stderr",
     "output_type": "stream",
     "text": [
      "/Users/yoddmena/opt/anaconda3/lib/python3.8/site-packages/sklearn/metrics/_classification.py:1245: UndefinedMetricWarning: Precision and F-score are ill-defined and being set to 0.0 in labels with no predicted samples. Use `zero_division` parameter to control this behavior.\n",
      "  _warn_prf(average, modifier, msg_start, len(result))\n",
      "/Users/yoddmena/opt/anaconda3/lib/python3.8/site-packages/sklearn/metrics/_classification.py:1245: UndefinedMetricWarning: Precision and F-score are ill-defined and being set to 0.0 in labels with no predicted samples. Use `zero_division` parameter to control this behavior.\n",
      "  _warn_prf(average, modifier, msg_start, len(result))\n",
      "/Users/yoddmena/opt/anaconda3/lib/python3.8/site-packages/sklearn/metrics/_classification.py:1245: UndefinedMetricWarning: Precision and F-score are ill-defined and being set to 0.0 in labels with no predicted samples. Use `zero_division` parameter to control this behavior.\n",
      "  _warn_prf(average, modifier, msg_start, len(result))\n",
      "/Users/yoddmena/opt/anaconda3/lib/python3.8/site-packages/sklearn/metrics/_classification.py:1245: UndefinedMetricWarning: Precision is ill-defined and being set to 0.0 due to no predicted samples. Use `zero_division` parameter to control this behavior.\n",
      "  _warn_prf(average, modifier, msg_start, len(result))\n",
      "/Users/yoddmena/opt/anaconda3/lib/python3.8/site-packages/sklearn/metrics/_classification.py:1245: UndefinedMetricWarning: Precision and F-score are ill-defined and being set to 0.0 in labels with no predicted samples. Use `zero_division` parameter to control this behavior.\n",
      "  _warn_prf(average, modifier, msg_start, len(result))\n"
     ]
    },
    {
     "name": "stdout",
     "output_type": "stream",
     "text": [
      "{'Nonanomalies': {'precision': 0.17504591368227732, 'recall': 1.0, 'f1-score': 0.29793884927224773, 'support': 3050}, 'Anomalies': {'precision': 0.0, 'recall': 0.0, 'f1-score': 0.0, 'support': 14374}, 'accuracy': 0.17504591368227732, 'macro avg': {'precision': 0.08752295684113866, 'recall': 0.5, 'f1-score': 0.14896942463612386, 'support': 17424}, 'weighted avg': {'precision': 0.03064107189686328, 'recall': 0.17504591368227732, 'f1-score': 0.05215297809230691, 'support': 17424}}\n",
      "====================================\n",
      "Found 'CC001-366' and its infection value is '10250'\n"
     ]
    },
    {
     "name": "stderr",
     "output_type": "stream",
     "text": [
      "/Users/yoddmena/opt/anaconda3/lib/python3.8/site-packages/sklearn/metrics/_classification.py:1245: UndefinedMetricWarning: Precision and F-score are ill-defined and being set to 0.0 in labels with no predicted samples. Use `zero_division` parameter to control this behavior.\n",
      "  _warn_prf(average, modifier, msg_start, len(result))\n",
      "/Users/yoddmena/opt/anaconda3/lib/python3.8/site-packages/sklearn/metrics/_classification.py:1245: UndefinedMetricWarning: Precision and F-score are ill-defined and being set to 0.0 in labels with no predicted samples. Use `zero_division` parameter to control this behavior.\n",
      "  _warn_prf(average, modifier, msg_start, len(result))\n",
      "/Users/yoddmena/opt/anaconda3/lib/python3.8/site-packages/sklearn/metrics/_classification.py:1245: UndefinedMetricWarning: Precision and F-score are ill-defined and being set to 0.0 in labels with no predicted samples. Use `zero_division` parameter to control this behavior.\n",
      "  _warn_prf(average, modifier, msg_start, len(result))\n",
      "/Users/yoddmena/opt/anaconda3/lib/python3.8/site-packages/sklearn/metrics/_classification.py:1245: UndefinedMetricWarning: Precision is ill-defined and being set to 0.0 due to no predicted samples. Use `zero_division` parameter to control this behavior.\n",
      "  _warn_prf(average, modifier, msg_start, len(result))\n",
      "/Users/yoddmena/opt/anaconda3/lib/python3.8/site-packages/sklearn/metrics/_classification.py:1245: UndefinedMetricWarning: Precision and F-score are ill-defined and being set to 0.0 in labels with no predicted samples. Use `zero_division` parameter to control this behavior.\n",
      "  _warn_prf(average, modifier, msg_start, len(result))\n"
     ]
    },
    {
     "name": "stdout",
     "output_type": "stream",
     "text": [
      "{'Nonanomalies': {'precision': 0.17504591368227732, 'recall': 1.0, 'f1-score': 0.29793884927224773, 'support': 3050}, 'Anomalies': {'precision': 0.0, 'recall': 0.0, 'f1-score': 0.0, 'support': 14374}, 'accuracy': 0.17504591368227732, 'macro avg': {'precision': 0.08752295684113866, 'recall': 0.5, 'f1-score': 0.14896942463612386, 'support': 17424}, 'weighted avg': {'precision': 0.03064107189686328, 'recall': 0.17504591368227732, 'f1-score': 0.05215297809230691, 'support': 17424}}\n",
      "====================================\n",
      "Found 'CC003-225' and its infection value is '10250'\n",
      "{'Nonanomalies': {'precision': 0.2264459128368847, 'recall': 1.0, 'f1-score': 0.3692717476844845, 'support': 3050}, 'Anomalies': {'precision': 1.0, 'recall': 0.275149575622652, 'f1-score': 0.4315565497299362, 'support': 14374}, 'accuracy': 0.40203168044077137, 'macro avg': {'precision': 0.6132229564184424, 'recall': 0.637574787811326, 'f1-score': 0.40041414870721037, 'support': 17424}, 'weighted avg': {'precision': 0.8645925180298726, 'recall': 0.40203168044077137, 'f1-score': 0.4206538496473703, 'support': 17424}}\n",
      "====================================\n",
      "Found 'CC017-455' and its infection value is '10250'\n",
      "{'Nonanomalies': {'precision': 0.19442850768151973, 'recall': 1.0, 'f1-score': 0.3255590542776325, 'support': 3050}, 'Anomalies': {'precision': 1.0, 'recall': 0.12084318909141506, 'f1-score': 0.21562907330395384, 'support': 14374}, 'accuracy': 0.27473599632690543, 'macro avg': {'precision': 0.5972142538407599, 'recall': 0.5604215945457075, 'f1-score': 0.27059406379079315, 'support': 17424}, 'weighted avg': {'precision': 0.858988002090716, 'recall': 0.27473599632690543, 'f1-score': 0.2348718672645668, 'support': 17424}}\n",
      "====================================\n",
      "Found 'CC017-456' and its infection value is '10250'\n"
     ]
    },
    {
     "name": "stderr",
     "output_type": "stream",
     "text": [
      "/Users/yoddmena/opt/anaconda3/lib/python3.8/site-packages/sklearn/metrics/_classification.py:1245: UndefinedMetricWarning: Precision and F-score are ill-defined and being set to 0.0 in labels with no predicted samples. Use `zero_division` parameter to control this behavior.\n",
      "  _warn_prf(average, modifier, msg_start, len(result))\n",
      "/Users/yoddmena/opt/anaconda3/lib/python3.8/site-packages/sklearn/metrics/_classification.py:1245: UndefinedMetricWarning: Precision and F-score are ill-defined and being set to 0.0 in labels with no predicted samples. Use `zero_division` parameter to control this behavior.\n",
      "  _warn_prf(average, modifier, msg_start, len(result))\n",
      "/Users/yoddmena/opt/anaconda3/lib/python3.8/site-packages/sklearn/metrics/_classification.py:1245: UndefinedMetricWarning: Precision and F-score are ill-defined and being set to 0.0 in labels with no predicted samples. Use `zero_division` parameter to control this behavior.\n",
      "  _warn_prf(average, modifier, msg_start, len(result))\n",
      "/Users/yoddmena/opt/anaconda3/lib/python3.8/site-packages/sklearn/metrics/_classification.py:1245: UndefinedMetricWarning: Precision is ill-defined and being set to 0.0 due to no predicted samples. Use `zero_division` parameter to control this behavior.\n",
      "  _warn_prf(average, modifier, msg_start, len(result))\n",
      "/Users/yoddmena/opt/anaconda3/lib/python3.8/site-packages/sklearn/metrics/_classification.py:1245: UndefinedMetricWarning: Precision and F-score are ill-defined and being set to 0.0 in labels with no predicted samples. Use `zero_division` parameter to control this behavior.\n",
      "  _warn_prf(average, modifier, msg_start, len(result))\n"
     ]
    },
    {
     "name": "stdout",
     "output_type": "stream",
     "text": [
      "{'Nonanomalies': {'precision': 0.17504591368227732, 'recall': 1.0, 'f1-score': 0.29793884927224773, 'support': 3050}, 'Anomalies': {'precision': 0.0, 'recall': 0.0, 'f1-score': 0.0, 'support': 14374}, 'accuracy': 0.17504591368227732, 'macro avg': {'precision': 0.08752295684113866, 'recall': 0.5, 'f1-score': 0.14896942463612386, 'support': 17424}, 'weighted avg': {'precision': 0.03064107189686328, 'recall': 0.17504591368227732, 'f1-score': 0.05215297809230691, 'support': 17424}}\n",
      "====================================\n",
      "Found 'CC036-299' and its infection value is '10250'\n",
      "{'Nonanomalies': {'precision': 0.48840579710144927, 'recall': 0.9944262295081967, 'f1-score': 0.6550755939524838, 'support': 3050}, 'Anomalies': {'precision': 0.9984840378098805, 'recall': 0.7789759287602616, 'f1-score': 0.8751758636861029, 'support': 14374}, 'accuracy': 0.8166896235078053, 'macro avg': {'precision': 0.7434449174556649, 'recall': 0.8867010791342291, 'f1-score': 0.7651257288192934, 'support': 17424}, 'weighted avg': {'precision': 0.9091969261156245, 'recall': 0.8166896235078053, 'f1-score': 0.8366482108688659, 'support': 17424}}\n",
      "====================================\n",
      "No match found for mouse 'B6-100'\n",
      "====================================\n",
      "No match found for mouse 'B6-101'\n",
      "====================================\n",
      "Found 'CC002-557' and its infection value is '14200'\n",
      "{'Nonanomalies': {'precision': 0.4295796256520405, 'recall': 1.0, 'f1-score': 0.60098733633827, 'support': 7000}, 'Anomalies': {'precision': 1.0, 'recall': 0.1083077513430545, 'f1-score': 0.1954470700251017, 'support': 10424}, 'accuracy': 0.46654040404040403, 'macro avg': {'precision': 0.7147898128260203, 'recall': 0.5541538756715273, 'f1-score': 0.39821720318168585, 'support': 17424}, 'weighted avg': {'precision': 0.770836626467188, 'recall': 0.46654040404040403, 'f1-score': 0.3583707307340192, 'support': 17424}}\n",
      "====================================\n",
      "Found 'CC002-558' and its infection value is '14200'\n",
      "{'Nonanomalies': {'precision': 0.7884702678166137, 'recall': 0.9925714285714285, 'f1-score': 0.8788262079433341, 'support': 7000}, 'Anomalies': {'precision': 0.9939619136089178, 'recall': 0.8211818879508825, 'f1-score': 0.8993486026476151, 'support': 10424}, 'accuracy': 0.8900367309458218, 'macro avg': {'precision': 0.8912160907127658, 'recall': 0.9068766582611556, 'f1-score': 0.8890874052954746, 'support': 17424}, 'weighted avg': {'precision': 0.9114067299228452, 'recall': 0.8900367309458218, 'f1-score': 0.8911038389349218, 'support': 17424}}\n",
      "====================================\n",
      "Found 'CC002-559' and its infection value is '14200'\n",
      "{'Nonanomalies': {'precision': 0.399734778597786, 'recall': 0.9904285714285714, 'f1-score': 0.5695859349326322, 'support': 7000}, 'Anomalies': {'precision': 0.1625, 'recall': 0.0012471220260936301, 'f1-score': 0.0024752475247524753, 'support': 10424}, 'accuracy': 0.3986455463728191, 'macro avg': {'precision': 0.281117389298893, 'recall': 0.49583784672733255, 'f1-score': 0.28603059122869234, 'support': 17424}, 'weighted avg': {'precision': 0.2578078196846018, 'recall': 0.3986455463728191, 'f1-score': 0.23030897180477763, 'support': 17424}}\n",
      "====================================\n",
      "Found 'CC015-390' and its infection value is '14200'\n"
     ]
    },
    {
     "name": "stderr",
     "output_type": "stream",
     "text": [
      "/Users/yoddmena/opt/anaconda3/lib/python3.8/site-packages/sklearn/metrics/_classification.py:1245: UndefinedMetricWarning: Precision and F-score are ill-defined and being set to 0.0 in labels with no predicted samples. Use `zero_division` parameter to control this behavior.\n",
      "  _warn_prf(average, modifier, msg_start, len(result))\n",
      "/Users/yoddmena/opt/anaconda3/lib/python3.8/site-packages/sklearn/metrics/_classification.py:1245: UndefinedMetricWarning: Precision and F-score are ill-defined and being set to 0.0 in labels with no predicted samples. Use `zero_division` parameter to control this behavior.\n",
      "  _warn_prf(average, modifier, msg_start, len(result))\n",
      "/Users/yoddmena/opt/anaconda3/lib/python3.8/site-packages/sklearn/metrics/_classification.py:1245: UndefinedMetricWarning: Precision and F-score are ill-defined and being set to 0.0 in labels with no predicted samples. Use `zero_division` parameter to control this behavior.\n",
      "  _warn_prf(average, modifier, msg_start, len(result))\n",
      "/Users/yoddmena/opt/anaconda3/lib/python3.8/site-packages/sklearn/metrics/_classification.py:1245: UndefinedMetricWarning: Precision is ill-defined and being set to 0.0 due to no predicted samples. Use `zero_division` parameter to control this behavior.\n",
      "  _warn_prf(average, modifier, msg_start, len(result))\n",
      "/Users/yoddmena/opt/anaconda3/lib/python3.8/site-packages/sklearn/metrics/_classification.py:1245: UndefinedMetricWarning: Precision and F-score are ill-defined and being set to 0.0 in labels with no predicted samples. Use `zero_division` parameter to control this behavior.\n",
      "  _warn_prf(average, modifier, msg_start, len(result))\n"
     ]
    },
    {
     "name": "stdout",
     "output_type": "stream",
     "text": [
      "{'Nonanomalies': {'precision': 0.4017447199265381, 'recall': 1.0, 'f1-score': 0.5732066819521782, 'support': 7000}, 'Anomalies': {'precision': 0.0, 'recall': 0.0, 'f1-score': 0.0, 'support': 10424}, 'accuracy': 0.4017447199265381, 'macro avg': {'precision': 0.20087235996326905, 'recall': 0.5, 'f1-score': 0.2866033409760891, 'support': 17424}, 'weighted avg': {'precision': 0.16139881998885255, 'recall': 0.4017447199265381, 'f1-score': 0.23028275790089803, 'support': 17424}}\n",
      "====================================\n",
      "Found 'CC015-391' and its infection value is '14200'\n",
      "{'Nonanomalies': {'precision': 0.402622799953986, 'recall': 1.0, 'f1-score': 0.5740998933814484, 'support': 7000}, 'Anomalies': {'precision': 1.0, 'recall': 0.0036454336147352263, 'f1-score': 0.0072643853947619965, 'support': 10424}, 'accuracy': 0.40392561983471076, 'macro avg': {'precision': 0.701311399976993, 'recall': 0.5018227168073676, 'f1-score': 0.2906821393881052, 'support': 17424}, 'weighted avg': {'precision': 0.7600068640770146, 'recall': 0.40392561983471076, 'f1-score': 0.23498755779529026, 'support': 17424}}\n",
      "====================================\n",
      "Found 'CC015-392' and its infection value is '14200'\n",
      "{'Nonanomalies': {'precision': 0.3891080365027966, 'recall': 0.9441428571428572, 'f1-score': 0.5510944340212632, 'support': 7000}, 'Anomalies': {'precision': 0.10933940774487472, 'recall': 0.004604758250191865, 'f1-score': 0.008837337752002211, 'support': 10424}, 'accuracy': 0.38205922865013775, 'macro avg': {'precision': 0.24922372212383564, 'recall': 0.47437380769652454, 'f1-score': 0.27996588588663274, 'support': 17424}, 'weighted avg': {'precision': 0.22173497714945764, 'recall': 0.38205922865013775, 'f1-score': 0.2266862630208743, 'support': 17424}}\n",
      "====================================\n",
      "Found 'CC038-582' and its infection value is '14200'\n",
      "{'Nonanomalies': {'precision': 0.43425874169306256, 'recall': 0.9988571428571429, 'f1-score': 0.6053417600969655, 'support': 7000}, 'Anomalies': {'precision': 0.9939531368102796, 'recall': 0.12615118956254798, 'f1-score': 0.22388694985953864, 'support': 10424}, 'accuracy': 0.4767561983471074, 'macro avg': {'precision': 0.7141059392516711, 'recall': 0.5625041662098454, 'f1-score': 0.41461435497825205, 'support': 17424}, 'weighted avg': {'precision': 0.7690988687994601, 'recall': 0.4767561983471074, 'f1-score': 0.37713440576300444, 'support': 17424}}\n",
      "====================================\n",
      "Found 'CC038-583' and its infection value is '14200'\n",
      "{'Nonanomalies': {'precision': 0.40853052877592755, 'recall': 0.9988571428571429, 'f1-score': 0.5798880364918101, 'support': 7000}, 'Anomalies': {'precision': 0.9741100323624595, 'recall': 0.02887567152724482, 'f1-score': 0.05608869840678282, 'support': 10424}, 'accuracy': 0.4185606060606061, 'macro avg': {'precision': 0.6913202805691936, 'recall': 0.5138664071921939, 'f1-score': 0.3179883674492965, 'support': 17424}, 'weighted avg': {'precision': 0.7468914530978977, 'recall': 0.4185606060606061, 'f1-score': 0.26652231678345817, 'support': 17424}}\n",
      "====================================\n",
      "Found 'CC051-495' and its infection value is '14200'\n",
      "{'Nonanomalies': {'precision': 0.4190781760967483, 'recall': 0.9702857142857143, 'f1-score': 0.5853406299823329, 'support': 7000}, 'Anomalies': {'precision': 0.8290879211175021, 'recall': 0.09679585571757483, 'f1-score': 0.17335280474186068, 'support': 10424}, 'accuracy': 0.4477157943067034, 'macro avg': {'precision': 0.6240830486071252, 'recall': 0.5335407850016446, 'f1-score': 0.3793467173620968, 'support': 17424}, 'weighted avg': {'precision': 0.664368670936988, 'recall': 0.4477157943067034, 'f1-score': 0.33886673820623775, 'support': 17424}}\n",
      "====================================\n",
      "Found 'CC051-496' and its infection value is '14200'\n",
      "{'Nonanomalies': {'precision': 0.43435551917385556, 'recall': 0.9854285714285714, 'f1-score': 0.6029456754512478, 'support': 7000}, 'Anomalies': {'precision': 0.9338950097213221, 'recall': 0.13823867996930161, 'f1-score': 0.24082894626890614, 'support': 10424}, 'accuracy': 0.4785927456382002, 'macro avg': {'precision': 0.6841252644475888, 'recall': 0.5618336256989365, 'f1-score': 0.42188731086007697, 'support': 17424}, 'weighted avg': {'precision': 0.7332076569990846, 'recall': 0.4785927456382002, 'f1-score': 0.38630743021498004, 'support': 17424}}\n",
      "====================================\n",
      "Found 'CC006-507' and its infection value is '10500'\n",
      "{'Nonanomalies': {'precision': 0.19516673576970917, 'recall': 0.9984848484848485, 'f1-score': 0.3265124114353664, 'support': 3300}, 'Anomalies': {'precision': 0.9907578558225508, 'recall': 0.03794958935145851, 'f1-score': 0.07309921581997954, 'support': 14124}, 'accuracy': 0.21986914600550964, 'macro avg': {'precision': 0.59296229579613, 'recall': 0.5182172189181535, 'f1-score': 0.19980581362767297, 'support': 17424}, 'weighted avg': {'precision': 0.8400777194489065, 'recall': 0.21986914600550964, 'f1-score': 0.12109413923198463, 'support': 17424}}\n",
      "====================================\n",
      "Found 'CC006-508' and its infection value is '10500'\n",
      "{'Nonanomalies': {'precision': 0.4287384695335845, 'recall': 1.0, 'f1-score': 0.6001636810039102, 'support': 3300}, 'Anomalies': {'precision': 1.0, 'recall': 0.6886859246672331, 'f1-score': 0.815647142677456, 'support': 14124}, 'accuracy': 0.7476469237832875, 'macro avg': {'precision': 0.7143692347667923, 'recall': 0.8443429623336165, 'f1-score': 0.7079054118406831, 'support': 17424}, 'weighted avg': {'precision': 0.8918065283207546, 'recall': 0.7476469237832875, 'f1-score': 0.7748358809968602, 'support': 17424}}\n",
      "====================================\n",
      "Found 'CC017-413' and its infection value is '10500'\n",
      "{'Nonanomalies': {'precision': 0.18941568132246583, 'recall': 1.0, 'f1-score': 0.3185020750892771, 'support': 3300}, 'Anomalies': {'precision': 1.0, 'recall': 0.0001416029453412631, 'f1-score': 0.0002831657935721365, 'support': 14124}, 'accuracy': 0.1895087235996327, 'macro avg': {'precision': 0.594707840661233, 'recall': 0.5000708014726706, 'f1-score': 0.1593926204414246, 'support': 17424}, 'weighted avg': {'precision': 0.8464802426747094, 'recall': 0.1895087235996327, 'f1-score': 0.06055189861472838, 'support': 17424}}\n",
      "====================================\n",
      "Found 'CC036-276' and its infection value is '10500'\n",
      "{'Nonanomalies': {'precision': 0.48493311774217257, 'recall': 0.9996969696969698, 'f1-score': 0.6530733445511235, 'support': 3300}, 'Anomalies': {'precision': 0.9999058469070708, 'recall': 0.7519116397621071, 'f1-score': 0.8583552232774297, 'support': 14124}, 'accuracy': 0.7988406795224977, 'macro avg': {'precision': 0.7424194823246217, 'recall': 0.8758043047295384, 'f1-score': 0.7557142839142766, 'support': 17424}, 'weighted avg': {'precision': 0.9023731330500825, 'recall': 0.7988406795224977, 'f1-score': 0.8194760795792656, 'support': 17424}}\n",
      "====================================\n",
      "Found 'CC036-279' and its infection value is '10500'\n",
      "{'Nonanomalies': {'precision': 0.19760516193076064, 'recall': 0.9651515151515152, 'f1-score': 0.3280461427541456, 'support': 3300}, 'Anomalies': {'precision': 0.9119448698315467, 'recall': 0.08432455395072218, 'f1-score': 0.1543745949449125, 'support': 14124}, 'accuracy': 0.25114784205693297, 'macro avg': {'precision': 0.5547750158811536, 'recall': 0.5247380345511187, 'f1-score': 0.24121036884952907, 'support': 17424}, 'weighted avg': {'precision': 0.7766532584867009, 'recall': 0.25114784205693297, 'f1-score': 0.18726693354514604, 'support': 17424}}\n",
      "====================================\n",
      "No match found for mouse 'CC036-280'\n",
      "====================================\n",
      "Found 'CC036-281' and its infection value is '10500'\n",
      "{'Nonanomalies': {'precision': 0.5591324974584887, 'recall': 1.0, 'f1-score': 0.7172353836122582, 'support': 3300}, 'Anomalies': {'precision': 1.0, 'recall': 0.8157745681110167, 'f1-score': 0.8985416829135148, 'support': 14124}, 'accuracy': 0.8506657483930211, 'macro avg': {'precision': 0.7795662487292443, 'recall': 0.9078872840555083, 'f1-score': 0.8078885332628865, 'support': 17424}, 'weighted avg': {'precision': 0.9165023669428956, 'recall': 0.8506657483930211, 'f1-score': 0.8642033686519132, 'support': 17424}}\n",
      "====================================\n",
      "Found 'CC057-732' and its infection value is '10500'\n"
     ]
    },
    {
     "name": "stdout",
     "output_type": "stream",
     "text": [
      "{'Nonanomalies': {'precision': 0.1994056643823155, 'recall': 0.9963636363636363, 'f1-score': 0.3323058264692506, 'support': 3300}, 'Anomalies': {'precision': 0.9871657754010695, 'recall': 0.06534975927499292, 'f1-score': 0.12258450096287936, 'support': 14124}, 'accuracy': 0.241678145087236, 'macro avg': {'precision': 0.5932857198916925, 'recall': 0.5308566978193147, 'f1-score': 0.227445163716065, 'support': 17424}, 'weighted avg': {'precision': 0.8379687846778207, 'recall': 0.241678145087236, 'f1-score': 0.16230444897544968, 'support': 17424}}\n",
      "====================================\n",
      "Found 'CC061-554' and its infection value is '10500'\n",
      "{'Nonanomalies': {'precision': 0.41354048250599973, 'recall': 0.9921212121212121, 'f1-score': 0.5837567977177498, 'support': 3300}, 'Anomalies': {'precision': 0.9972651730303986, 'recall': 0.6712687623902577, 'f1-score': 0.80242054927849, 'support': 14124}, 'accuracy': 0.7320362718089991, 'macro avg': {'precision': 0.7054028277681992, 'recall': 0.8316949872557349, 'f1-score': 0.6930886734981199, 'support': 17424}, 'weighted avg': {'precision': 0.8867112543704746, 'recall': 0.7320362718089991, 'f1-score': 0.7610069599677438, 'support': 17424}}\n",
      "====================================\n",
      "Found 'CC061-555' and its infection value is '10500'\n",
      "{'Nonanomalies': {'precision': 0.1896551724137931, 'recall': 1.0, 'f1-score': 0.3188405797101449, 'support': 3300}, 'Anomalies': {'precision': 1.0, 'recall': 0.0016992353440951572, 'f1-score': 0.0033927056827820186, 'support': 14124}, 'accuracy': 0.19077134986225897, 'macro avg': {'precision': 0.5948275862068966, 'recall': 0.5008496176720476, 'f1-score': 0.16111664269646345, 'support': 17424}, 'weighted avg': {'precision': 0.8465256008359457, 'recall': 0.19077134986225897, 'f1-score': 0.06313662121826741, 'support': 17424}}\n",
      "====================================\n",
      "Found 'CC061-556' and its infection value is '10500'\n",
      "{'Nonanomalies': {'precision': 0.46261747790713986, 'recall': 0.9993939393939394, 'f1-score': 0.6324671588838815, 'support': 3300}, 'Anomalies': {'precision': 0.9998057309373483, 'recall': 0.7287595581988106, 'f1-score': 0.843032065195135, 'support': 14124}, 'accuracy': 0.780016069788797, 'macro avg': {'precision': 0.7312116044222441, 'recall': 0.864076748796375, 'f1-score': 0.7377496120395082, 'support': 17424}, 'weighted avg': {'precision': 0.8980655314998088, 'recall': 0.780016069788797, 'f1-score': 0.803152348090731, 'support': 17424}}\n",
      "====================================\n",
      "Found 'B6-117' and its infection value is '10500'\n",
      "{'Nonanomalies': {'precision': 0.19054217910964835, 'recall': 1.0, 'f1-score': 0.32009311799796303, 'support': 3300}, 'Anomalies': {'precision': 1.0, 'recall': 0.007434154630416313, 'f1-score': 0.014758591608686485, 'support': 14124}, 'accuracy': 0.19542011019283748, 'macro avg': {'precision': 0.5952710895548242, 'recall': 0.5037170773152082, 'f1-score': 0.16742585480332475, 'support': 17424}, 'weighted avg': {'precision': 0.8466935945283425, 'recall': 0.19542011019283748, 'f1-score': 0.07258710039453432, 'support': 17424}}\n",
      "====================================\n",
      "Found 'CC001-304' and its infection value is '11300'\n",
      "{'Nonanomalies': {'precision': 0.2786461873046079, 'recall': 1.0, 'f1-score': 0.43584564685872224, 'support': 4100}, 'Anomalies': {'precision': 1.0, 'recall': 0.2033923746622636, 'f1-score': 0.33803168267431705, 'support': 13324}, 'accuracy': 0.39084022038567495, 'macro avg': {'precision': 0.639323093652304, 'recall': 0.6016961873311318, 'f1-score': 0.3869386647665196, 'support': 17424}, 'weighted avg': {'precision': 0.830259949951153, 'recall': 0.39084022038567495, 'f1-score': 0.36104805395278705, 'support': 17424}}\n",
      "====================================\n",
      "No match found for mouse 'CC001-306'\n",
      "====================================\n",
      "Found 'CC013-671' and its infection value is '11300'\n",
      "{'Nonanomalies': {'precision': 0.2401593252108716, 'recall': 1.0, 'f1-score': 0.3873039863971283, 'support': 4100}, 'Anomalies': {'precision': 1.0, 'recall': 0.026418492945061545, 'f1-score': 0.05147704007019597, 'support': 13324}, 'accuracy': 0.25550964187327824, 'macro avg': {'precision': 0.6200796626054358, 'recall': 0.5132092464725307, 'f1-score': 0.21939051323366215, 'support': 17424}, 'weighted avg': {'precision': 0.8212036979662863, 'recall': 0.25550964187327824, 'f1-score': 0.13049968010350765, 'support': 17424}}\n",
      "====================================\n",
      "Found 'CC013-672' and its infection value is '11300'\n",
      "{'Nonanomalies': {'precision': 0.6058814836707551, 'recall': 1.0, 'f1-score': 0.7545780804269807, 'support': 4100}, 'Anomalies': {'precision': 1.0, 'recall': 0.7998348844190933, 'f1-score': 0.8887869563404363, 'support': 13324}, 'accuracy': 0.8469352617079889, 'macro avg': {'precision': 0.8029407418353776, 'recall': 0.8999174422095466, 'f1-score': 0.8216825183837084, 'support': 17424}, 'weighted avg': {'precision': 0.9072609092659605, 'recall': 0.8469352617079889, 'f1-score': 0.857206584942068, 'support': 17424}}\n",
      "====================================\n",
      "Found 'CC013-673' and its infection value is '11300'\n",
      "{'Nonanomalies': {'precision': 0.5459387483355526, 'recall': 1.0, 'f1-score': 0.706287683031869, 'support': 4100}, 'Anomalies': {'precision': 1.0, 'recall': 0.7440708495947163, 'f1-score': 0.8532575953180136, 'support': 13324}, 'accuracy': 0.8042929292929293, 'macro avg': {'precision': 0.7729693741677763, 'recall': 0.8720354247973581, 'f1-score': 0.7797726391749413, 'support': 17424}, 'weighted avg': {'precision': 0.8931559267777643, 'recall': 0.8042929292929293, 'f1-score': 0.8186744548007275, 'support': 17424}}\n",
      "====================================\n",
      "Found 'CC015-439' and its infection value is '11300'\n",
      "{'Nonanomalies': {'precision': 0.619054808998943, 'recall': 1.0, 'f1-score': 0.7647113680872889, 'support': 4100}, 'Anomalies': {'precision': 1.0, 'recall': 0.8106424497148004, 'f1-score': 0.895419689119171, 'support': 13324}, 'accuracy': 0.8551997245179064, 'macro avg': {'precision': 0.8095274044994716, 'recall': 0.9053212248574002, 'f1-score': 0.8300655286032299, 'support': 17424}, 'weighted avg': {'precision': 0.9103606931184381, 'recall': 0.8551997245179064, 'f1-score': 0.8646630249645156, 'support': 17424}}\n",
      "====================================\n",
      "No match found for mouse 'CC015-442'\n",
      "====================================\n",
      "No match found for mouse 'CC024-361'\n",
      "====================================\n",
      "Found 'CC024-362' and its infection value is '11300'\n",
      "{'Nonanomalies': {'precision': 0.2342695657188996, 'recall': 0.9907317073170732, 'f1-score': 0.3789355846821214, 'support': 4100}, 'Anomalies': {'precision': 0.5529411764705883, 'recall': 0.003527469228459922, 'f1-score': 0.007010217018420464, 'support': 13324}, 'accuracy': 0.23582415059687786, 'macro avg': {'precision': 0.3936053710947439, 'recall': 0.49712958827276654, 'f1-score': 0.19297290085027094, 'support': 17424}, 'weighted avg': {'precision': 0.4779553176504595, 'recall': 0.23582415059687786, 'f1-score': 0.09452709072257415, 'support': 17424}}\n",
      "====================================\n",
      "Found 'CC025-598' and its infection value is '11300'\n"
     ]
    },
    {
     "name": "stderr",
     "output_type": "stream",
     "text": [
      "/Users/yoddmena/opt/anaconda3/lib/python3.8/site-packages/sklearn/metrics/_classification.py:1245: UndefinedMetricWarning: Precision and F-score are ill-defined and being set to 0.0 in labels with no predicted samples. Use `zero_division` parameter to control this behavior.\n",
      "  _warn_prf(average, modifier, msg_start, len(result))\n",
      "/Users/yoddmena/opt/anaconda3/lib/python3.8/site-packages/sklearn/metrics/_classification.py:1245: UndefinedMetricWarning: Precision and F-score are ill-defined and being set to 0.0 in labels with no predicted samples. Use `zero_division` parameter to control this behavior.\n",
      "  _warn_prf(average, modifier, msg_start, len(result))\n",
      "/Users/yoddmena/opt/anaconda3/lib/python3.8/site-packages/sklearn/metrics/_classification.py:1245: UndefinedMetricWarning: Precision and F-score are ill-defined and being set to 0.0 in labels with no predicted samples. Use `zero_division` parameter to control this behavior.\n",
      "  _warn_prf(average, modifier, msg_start, len(result))\n",
      "/Users/yoddmena/opt/anaconda3/lib/python3.8/site-packages/sklearn/metrics/_classification.py:1245: UndefinedMetricWarning: Precision is ill-defined and being set to 0.0 due to no predicted samples. Use `zero_division` parameter to control this behavior.\n",
      "  _warn_prf(average, modifier, msg_start, len(result))\n",
      "/Users/yoddmena/opt/anaconda3/lib/python3.8/site-packages/sklearn/metrics/_classification.py:1245: UndefinedMetricWarning: Precision and F-score are ill-defined and being set to 0.0 in labels with no predicted samples. Use `zero_division` parameter to control this behavior.\n",
      "  _warn_prf(average, modifier, msg_start, len(result))\n"
     ]
    },
    {
     "name": "stdout",
     "output_type": "stream",
     "text": [
      "{'Nonanomalies': {'precision': 0.23530762167125804, 'recall': 1.0, 'f1-score': 0.3809700799107973, 'support': 4100}, 'Anomalies': {'precision': 0.0, 'recall': 0.0, 'f1-score': 0.0, 'support': 13324}, 'accuracy': 0.23530762167125804, 'macro avg': {'precision': 0.11765381083562902, 'recall': 0.5, 'f1-score': 0.19048503995539864, 'support': 17424}, 'weighted avg': {'precision': 0.05536967681658391, 'recall': 0.23530762167125804, 'f1-score': 0.08964516343171883, 'support': 17424}}\n",
      "====================================\n",
      "Found 'CC025-599' and its infection value is '11300'\n",
      "{'Nonanomalies': {'precision': 0.23665223665223664, 'recall': 1.0, 'f1-score': 0.38273045507584597, 'support': 4100}, 'Anomalies': {'precision': 1.0, 'recall': 0.007430201140798559, 'f1-score': 0.014750800864188333, 'support': 13324}, 'accuracy': 0.24098943985307622, 'macro avg': {'precision': 0.6183261183261183, 'recall': 0.5037151005703993, 'f1-score': 0.19874062797001715, 'support': 17424}, 'weighted avg': {'precision': 0.8203784532985634, 'recall': 0.24098943985307622, 'f1-score': 0.10133921812014542, 'support': 17424}}\n",
      "====================================\n",
      "Found 'CC025-600' and its infection value is '11300'\n",
      "{'Nonanomalies': {'precision': 0.237578360807987, 'recall': 0.9982926829268293, 'f1-score': 0.383814703675919, 'support': 4100}, 'Anomalies': {'precision': 0.9642857142857143, 'recall': 0.014184929450615431, 'f1-score': 0.027958579881656804, 'support': 13324}, 'accuracy': 0.24575298438934803, 'macro avg': {'precision': 0.6009320375468507, 'recall': 0.5062388061887223, 'f1-score': 0.2058866417787879, 'support': 17424}, 'weighted avg': {'precision': 0.793285935287856, 'recall': 0.24575298438934803, 'f1-score': 0.11169423802883742, 'support': 17424}}\n",
      "====================================\n",
      "Found 'CC038-659' and its infection value is '11300'\n",
      "{'Nonanomalies': {'precision': 0.7440844557699309, 'recall': 0.9970731707317073, 'f1-score': 0.8521992912236814, 'support': 4100}, 'Anomalies': {'precision': 0.9989941324392289, 'recall': 0.8944761332933053, 'f1-score': 0.9438504791320187, 'support': 13324}, 'accuracy': 0.9186179981634527, 'macro avg': {'precision': 0.8715392941045799, 'recall': 0.9457746520125063, 'f1-score': 0.8980248851778501, 'support': 17424}, 'weighted avg': {'precision': 0.9390119426811869, 'recall': 0.9186179981634527, 'f1-score': 0.9222842560819623, 'support': 17424}}\n",
      "====================================\n",
      "Found 'CC038-660' and its infection value is '11300'\n",
      "{'Nonanomalies': {'precision': 0.23447401774397972, 'recall': 0.9926829268292683, 'f1-score': 0.37934569857395845, 'support': 4100}, 'Anomalies': {'precision': 0.5454545454545454, 'recall': 0.002701891323926749, 'f1-score': 0.005377147124719941, 'support': 13324}, 'accuracy': 0.23565197428833792, 'macro avg': {'precision': 0.38996428159926255, 'recall': 0.4976924090765975, 'f1-score': 0.1923614228493392, 'support': 17424}, 'weighted avg': {'precision': 0.4722784570928994, 'recall': 0.23565197428833792, 'f1-score': 0.09337479754608576, 'support': 17424}}\n",
      "====================================\n",
      "Found 'CC038-661' and its infection value is '11300'\n",
      "{'Nonanomalies': {'precision': 0.2459065555089066, 'recall': 1.0, 'f1-score': 0.39474317623838634, 'support': 4100}, 'Anomalies': {'precision': 1.0, 'recall': 0.056364455118583005, 'f1-score': 0.10671403197158082, 'support': 13324}, 'accuracy': 0.2784090909090909, 'macro avg': {'precision': 0.6229532777544533, 'recall': 0.5281822275592915, 'f1-score': 0.2507286041049836, 'support': 17424}, 'weighted avg': {'precision': 0.822556065058914, 'recall': 0.2784090909090909, 'f1-score': 0.17448948488101051, 'support': 17424}}\n",
      "====================================\n",
      "Found 'CC015-514' and its infection value is '11500'\n",
      "{'Nonanomalies': {'precision': 0.452583938532786, 'recall': 1.0, 'f1-score': 0.623143250489095, 'support': 4300}, 'Anomalies': {'precision': 1.0, 'recall': 0.6037031392868029, 'f1-score': 0.7528863971112273, 'support': 13124}, 'accuracy': 0.7015036730945822, 'macro avg': {'precision': 0.726291969266393, 'recall': 0.8018515696434014, 'f1-score': 0.6880148238001611, 'support': 17424}, 'weighted avg': {'precision': 0.864905356731576, 'recall': 0.7015036730945822, 'f1-score': 0.720867599448511, 'support': 17424}}\n",
      "====================================\n",
      "Found 'CC015-515' and its infection value is '11500'\n",
      "{'Nonanomalies': {'precision': 0.24725432695072164, 'recall': 1.0, 'f1-score': 0.39647780185330317, 'support': 4300}, 'Anomalies': {'precision': 1.0, 'recall': 0.002514477293508077, 'f1-score': 0.005016341111195561, 'support': 13124}, 'accuracy': 0.2486799816345271, 'macro avg': {'precision': 0.6236271634753608, 'recall': 0.5012572386467541, 'f1-score': 0.20074707148224938, 'support': 17424}, 'weighted avg': {'precision': 0.8142328745344413, 'recall': 0.2486799816345271, 'f1-score': 0.10162356569745949, 'support': 17424}}\n",
      "====================================\n",
      "Found 'CC024-409' and its infection value is '11500'\n",
      "{'Nonanomalies': {'precision': 0.24912260177819373, 'recall': 0.9904651162790697, 'f1-score': 0.39811179659749485, 'support': 4300}, 'Anomalies': {'precision': 0.875, 'recall': 0.021868332825358123, 'f1-score': 0.042670234909307166, 'support': 13124}, 'accuracy': 0.2609044995408632, 'macro avg': {'precision': 0.5620613008890969, 'recall': 0.5061667245522139, 'f1-score': 0.220391015753401, 'support': 17424}, 'weighted avg': {'precision': 0.7205421939650042, 'recall': 0.2609044995408632, 'f1-score': 0.1303882511661487, 'support': 17424}}\n",
      "====================================\n",
      "No match found for mouse 'CC036-271'\n",
      "====================================\n",
      "Found 'CC036-272' and its infection value is '11500'\n",
      "{'Nonanomalies': {'precision': 0.532969757064948, 'recall': 1.0, 'f1-score': 0.6953428201811125, 'support': 4300}, 'Anomalies': {'precision': 1.0, 'recall': 0.7128924108503505, 'f1-score': 0.8323843416370107, 'support': 13124}, 'accuracy': 0.7837465564738292, 'macro avg': {'precision': 0.766484878532474, 'recall': 0.8564462054251752, 'f1-score': 0.7638635809090616, 'support': 17424}, 'weighted avg': {'precision': 0.8847434547393984, 'recall': 0.7837465564738292, 'f1-score': 0.798564406934281, 'support': 17424}}\n",
      "====================================\n",
      "Found 'CC053-426' and its infection value is '11500'\n",
      "{'Nonanomalies': {'precision': 0.24543937388502043, 'recall': 0.9918604651162791, 'f1-score': 0.39350463625040366, 'support': 4300}, 'Anomalies': {'precision': 0.2553191489361702, 'recall': 0.0009143553794574825, 'f1-score': 0.0018221851036367776, 'support': 13124}, 'accuracy': 0.2454660238751148, 'macro avg': {'precision': 0.2503792614105953, 'recall': 0.4963874102478683, 'f1-score': 0.19766341067702023, 'support': 17424}, 'weighted avg': {'precision': 0.2528809583530697, 'recall': 0.2454660238751148, 'f1-score': 0.09848394703723971, 'support': 17424}}\n",
      "====================================\n",
      "Found 'CC053-427' and its infection value is '11500'\n",
      "{'Nonanomalies': {'precision': 0.2473396606269773, 'recall': 1.0, 'f1-score': 0.39658750288217665, 'support': 4300}, 'Anomalies': {'precision': 1.0, 'recall': 0.002971654983236818, 'f1-score': 0.005925700828078705, 'support': 13124}, 'accuracy': 0.24902433425160697, 'macro avg': {'precision': 0.6236698303134887, 'recall': 0.5014858274916184, 'f1-score': 0.20125660185512767, 'support': 17424}, 'weighted avg': {'precision': 0.8142539336946741, 'recall': 0.24902433425160697, 'f1-score': 0.10233558081158543, 'support': 17424}}\n",
      "====================================\n",
      "Found 'CC053-428' and its infection value is '11500'\n",
      "{'Nonanomalies': {'precision': 0.24728276496635804, 'recall': 1.0, 'f1-score': 0.3965143621190465, 'support': 4300}, 'Anomalies': {'precision': 1.0, 'recall': 0.0026668698567509906, 'f1-score': 0.005319553157534768, 'support': 13124}, 'accuracy': 0.2487947658402204, 'macro avg': {'precision': 0.623641382483179, 'recall': 0.5013334349283755, 'f1-score': 0.20091695763829065, 'support': 17424}, 'weighted avg': {'precision': 0.8142398926397693, 'recall': 0.2487947658402204, 'f1-score': 0.10186097180620904, 'support': 17424}}\n",
      "====================================\n",
      "Found 'CC057-730' and its infection value is '11500'\n",
      "{'Nonanomalies': {'precision': 0.23877729257641922, 'recall': 0.9537209302325581, 'f1-score': 0.38193247962747384, 'support': 4300}, 'Anomalies': {'precision': 0.20080321285140562, 'recall': 0.0038098140810728437, 'f1-score': 0.007477753682793689, 'support': 13124}, 'accuracy': 0.2382346189164371, 'macro avg': {'precision': 0.21979025271391242, 'recall': 0.47876537215681547, 'f1-score': 0.19470511665513376, 'support': 17424}, 'weighted avg': {'precision': 0.2101746856944703, 'recall': 0.2382346189164371, 'f1-score': 0.09988795349696522, 'support': 17424}}\n",
      "====================================\n",
      "Found 'CC057-731' and its infection value is '11500'\n"
     ]
    },
    {
     "name": "stdout",
     "output_type": "stream",
     "text": [
      "{'Nonanomalies': {'precision': 0.5333752357008171, 'recall': 0.9867441860465116, 'f1-score': 0.6924520603835169, 'support': 4300}, 'Anomalies': {'precision': 0.9939803569542718, 'recall': 0.7171594026211521, 'f1-score': 0.8331784180941, 'support': 13124}, 'accuracy': 0.7836891643709826, 'macro avg': {'precision': 0.7636777963275445, 'recall': 0.8519517943338318, 'f1-score': 0.7628152392388085, 'support': 17424}, 'weighted avg': {'precision': 0.8803094420443857, 'recall': 0.7836891643709826, 'f1-score': 0.7984491172357719, 'support': 17424}}\n",
      "====================================\n",
      "Found 'CC058-296' and its infection value is '11500'\n",
      "{'Nonanomalies': {'precision': 0.2761898644742758, 'recall': 1.0, 'f1-score': 0.4328350697065781, 'support': 4300}, 'Anomalies': {'precision': 1.0, 'recall': 0.14134410240780249, 'f1-score': 0.2476800854529675, 'support': 13124}, 'accuracy': 0.3532483930211203, 'macro avg': {'precision': 0.6380949322371379, 'recall': 0.5706720512039012, 'f1-score': 0.3402575775797728, 'support': 17424}, 'weighted avg': {'precision': 0.8213737613199831, 'recall': 0.3532483930211203, 'f1-score': 0.2933737512180344, 'support': 17424}}\n",
      "====================================\n",
      "Found 'CC058-297' and its infection value is '11500'\n",
      "{'Nonanomalies': {'precision': 0.6954060174700744, 'recall': 0.9997674418604651, 'f1-score': 0.8202633085289066, 'support': 4300}, 'Anomalies': {'precision': 0.9999110478562533, 'recall': 0.8565224017067967, 'f1-score': 0.9226791430682098, 'support': 13124}, 'accuracy': 0.8918732782369146, 'macro avg': {'precision': 0.8476585326631638, 'recall': 0.9281449217836308, 'f1-score': 0.8714712257985582, 'support': 17424}, 'weighted avg': {'precision': 0.9247634565648983, 'recall': 0.8918732782369146, 'f1-score': 0.8974043445994883, 'support': 17424}}\n",
      "====================================\n",
      "Found 'CC058-298' and its infection value is '11500'\n",
      "{'Nonanomalies': {'precision': 0.2811352910330362, 'recall': 0.9974418604651163, 'f1-score': 0.43863775823276746, 'support': 4300}, 'Anomalies': {'precision': 0.9949261992619927, 'recall': 0.16435537945748246, 'f1-score': 0.28210829191734244, 'support': 13124}, 'accuracy': 0.369949494949495, 'macro avg': {'precision': 0.6380307451475145, 'recall': 0.5808986199612993, 'f1-score': 0.360373025075055, 'support': 17424}, 'weighted avg': {'precision': 0.818772566032854, 'recall': 0.369949494949495, 'f1-score': 0.32073757940335756, 'support': 17424}}\n",
      "====================================\n",
      "No match found for mouse 'CC061-542'\n",
      "====================================\n",
      "Found 'CC061-543' and its infection value is '11500'\n",
      "{'Nonanomalies': {'precision': 0.45329959940965636, 'recall': 1.0, 'f1-score': 0.6238212679529958, 'support': 4300}, 'Anomalies': {'precision': 1.0, 'recall': 0.6048460835111247, 'f1-score': 0.7537745703162093, 'support': 13124}, 'accuracy': 0.7023645546372819, 'macro avg': {'precision': 0.7266497997048282, 'recall': 0.8024230417555623, 'f1-score': 0.6887979191346025, 'support': 17424}, 'weighted avg': {'precision': 0.8650819718469652, 'recall': 0.7023645546372819, 'f1-score': 0.7217039091498975, 'support': 17424}}\n",
      "====================================\n",
      "Found 'CC061-544' and its infection value is '11500'\n",
      "{'Nonanomalies': {'precision': 0.2634158294535653, 'recall': 1.0, 'f1-score': 0.41698991466252905, 'support': 4300}, 'Anomalies': {'precision': 1.0, 'recall': 0.08381590978360257, 'f1-score': 0.1546681664791901, 'support': 13124}, 'accuracy': 0.30991735537190085, 'macro avg': {'precision': 0.6317079147267827, 'recall': 0.5419079548918013, 'f1-score': 0.28582904057085956, 'support': 17424}, 'weighted avg': {'precision': 0.8182213077737793, 'recall': 0.30991735537190085, 'f1-score': 0.21940551250698836, 'support': 17424}}\n",
      "====================================\n",
      "Found 'CC001-290' and its infection value is '14300'\n",
      "{'Nonanomalies': {'precision': 0.6195433470387542, 'recall': 0.9974647887323944, 'f1-score': 0.7643408342776968, 'support': 7100}, 'Anomalies': {'precision': 0.9969964959118972, 'recall': 0.5787485470747772, 'f1-score': 0.7323650180793038, 'support': 10324}, 'accuracy': 0.7493686868686869, 'macro avg': {'precision': 0.8082699214753257, 'recall': 0.7881066679035857, 'f1-score': 0.7483529261785002, 'support': 17424}, 'weighted avg': {'precision': 0.8431904033384747, 'recall': 0.7493686868686869, 'f1-score': 0.745394649335536, 'support': 17424}}\n",
      "====================================\n",
      "Found 'CC001-292' and its infection value is '14300'\n",
      "{'Nonanomalies': {'precision': 0.8084574002251971, 'recall': 0.9101408450704226, 'f1-score': 0.8562909958258796, 'support': 7100}, 'Anomalies': {'precision': 0.9323507581380553, 'recall': 0.8517047655947307, 'f1-score': 0.8902050113895217, 'support': 10324}, 'accuracy': 0.8755165289256198, 'macro avg': {'precision': 0.8704040791816262, 'recall': 0.8809228053325766, 'f1-score': 0.8732480036077006, 'support': 17424}, 'weighted avg': {'precision': 0.8818662057286606, 'recall': 0.8755165289256198, 'f1-score': 0.876385595038405, 'support': 17424}}\n",
      "====================================\n",
      "Found 'CC005-409' and its infection value is '14300'\n",
      "{'Nonanomalies': {'precision': 0.4074499225162142, 'recall': 0.9998591549295774, 'f1-score': 0.5789666843371528, 'support': 7100}, 'Anomalies': {'precision': 0.0, 'recall': 0.0, 'f1-score': 0.0, 'support': 10324}, 'accuracy': 0.4074265381083563, 'macro avg': {'precision': 0.2037249612581071, 'recall': 0.4999295774647887, 'f1-score': 0.2894833421685764, 'support': 17424}, 'weighted avg': {'precision': 0.16602929579115708, 'recall': 0.4074265381083563, 'f1-score': 0.23591961999505195, 'support': 17424}}\n",
      "====================================\n",
      "Found 'CC005-410' and its infection value is '14300'\n"
     ]
    },
    {
     "name": "stderr",
     "output_type": "stream",
     "text": [
      "/Users/yoddmena/opt/anaconda3/lib/python3.8/site-packages/sklearn/metrics/_classification.py:1245: UndefinedMetricWarning: Precision and F-score are ill-defined and being set to 0.0 in labels with no predicted samples. Use `zero_division` parameter to control this behavior.\n",
      "  _warn_prf(average, modifier, msg_start, len(result))\n",
      "/Users/yoddmena/opt/anaconda3/lib/python3.8/site-packages/sklearn/metrics/_classification.py:1245: UndefinedMetricWarning: Precision and F-score are ill-defined and being set to 0.0 in labels with no predicted samples. Use `zero_division` parameter to control this behavior.\n",
      "  _warn_prf(average, modifier, msg_start, len(result))\n",
      "/Users/yoddmena/opt/anaconda3/lib/python3.8/site-packages/sklearn/metrics/_classification.py:1245: UndefinedMetricWarning: Precision and F-score are ill-defined and being set to 0.0 in labels with no predicted samples. Use `zero_division` parameter to control this behavior.\n",
      "  _warn_prf(average, modifier, msg_start, len(result))\n",
      "/Users/yoddmena/opt/anaconda3/lib/python3.8/site-packages/sklearn/metrics/_classification.py:1245: UndefinedMetricWarning: Precision is ill-defined and being set to 0.0 due to no predicted samples. Use `zero_division` parameter to control this behavior.\n",
      "  _warn_prf(average, modifier, msg_start, len(result))\n",
      "/Users/yoddmena/opt/anaconda3/lib/python3.8/site-packages/sklearn/metrics/_classification.py:1245: UndefinedMetricWarning: Precision and F-score are ill-defined and being set to 0.0 in labels with no predicted samples. Use `zero_division` parameter to control this behavior.\n",
      "  _warn_prf(average, modifier, msg_start, len(result))\n"
     ]
    },
    {
     "name": "stdout",
     "output_type": "stream",
     "text": [
      "{'Nonanomalies': {'precision': 0.40748393021120294, 'recall': 1.0, 'f1-score': 0.5790246289349209, 'support': 7100}, 'Anomalies': {'precision': 0.0, 'recall': 0.0, 'f1-score': 0.0, 'support': 10324}, 'accuracy': 0.40748393021120294, 'macro avg': {'precision': 0.20374196510560147, 'recall': 0.5, 'f1-score': 0.28951231446746045, 'support': 17424}, 'weighted avg': {'precision': 0.1660431533803685, 'recall': 0.40748393021120294, 'f1-score': 0.235943231487485, 'support': 17424}}\n",
      "====================================\n",
      "Found 'CC005-411' and its infection value is '14300'\n",
      "{'Nonanomalies': {'precision': 0.4112127881385382, 'recall': 1.0, 'f1-score': 0.5827792826069113, 'support': 7100}, 'Anomalies': {'precision': 1.0, 'recall': 0.015304145679969005, 'f1-score': 0.030146918526998665, 'support': 10324}, 'accuracy': 0.41655188246097336, 'macro avg': {'precision': 0.7056063940692691, 'recall': 0.5076520728399845, 'f1-score': 0.30646310056695497, 'support': 17424}, 'weighted avg': {'precision': 0.7600786728525953, 'recall': 0.41655188246097336, 'f1-score': 0.2553357262041899, 'support': 17424}}\n",
      "====================================\n",
      "Found 'CC019-1445' and its infection value is '14300'\n",
      "{'Nonanomalies': {'precision': 0.4076242967045585, 'recall': 1.0, 'f1-score': 0.5791663267803246, 'support': 7100}, 'Anomalies': {'precision': 1.0, 'recall': 0.000581170089112747, 'f1-score': 0.0011616650532429817, 'support': 10324}, 'accuracy': 0.4078282828282828, 'macro avg': {'precision': 0.7038121483522792, 'recall': 0.5002905850445564, 'f1-score': 0.2901639959167838, 'support': 17424}, 'weighted avg': {'precision': 0.7586164202595481, 'recall': 0.4078282828282828, 'f1-score': 0.2366892762941911, 'support': 17424}}\n",
      "====================================\n",
      "Found 'CC019-1451' and its infection value is '14300'\n",
      "{'Nonanomalies': {'precision': 0.41634902949627633, 'recall': 1.0, 'f1-score': 0.5879186850494762, 'support': 7100}, 'Anomalies': {'precision': 1.0, 'recall': 0.035935683843471525, 'f1-score': 0.06937821411874709, 'support': 10324}, 'accuracy': 0.42877640036730946, 'macro avg': {'precision': 0.7081745147481382, 'recall': 0.5179678419217357, 'f1-score': 0.32864844958411166, 'support': 17424}, 'weighted avg': {'precision': 0.7621716086675598, 'recall': 0.42877640036730946, 'f1-score': 0.28067512318716864, 'support': 17424}}\n",
      "====================================\n",
      "Found 'CC019-1452' and its infection value is '14300'\n",
      "{'Nonanomalies': {'precision': 0.40858606203602466, 'recall': 1.0, 'f1-score': 0.580136454630878, 'support': 7100}, 'Anomalies': {'precision': 1.0, 'recall': 0.004552499031383185, 'f1-score': 0.009063735416064025, 'support': 10324}, 'accuracy': 0.4101813590449954, 'macro avg': {'precision': 0.7042930310180123, 'recall': 0.5022762495156916, 'f1-score': 0.294600095023471, 'support': 17424}, 'weighted avg': {'precision': 0.7590083241767548, 'recall': 0.4101813590449954, 'f1-score': 0.2417666914781152, 'support': 17424}}\n",
      "====================================\n",
      "Found 'CC023-567' and its infection value is '14300'\n",
      "{'Nonanomalies': {'precision': 0.40938473969756434, 'recall': 0.9990140845070422, 'f1-score': 0.5807745844591828, 'support': 7100}, 'Anomalies': {'precision': 0.9285714285714286, 'recall': 0.008814413018209996, 'f1-score': 0.017463058913836118, 'support': 10324}, 'accuracy': 0.4123048668503214, 'macro avg': {'precision': 0.6689780841344964, 'recall': 0.5039142487626261, 'f1-score': 0.2991188216865095, 'support': 17424}, 'weighted avg': {'precision': 0.7170111960757655, 'recall': 0.4123048668503214, 'f1-score': 0.24700345327632245, 'support': 17424}}\n",
      "====================================\n",
      "Found 'CC023-568' and its infection value is '14300'\n",
      "{'Nonanomalies': {'precision': 0.41199001799083046, 'recall': 0.9998591549295774, 'f1-score': 0.5835354075048292, 'support': 7100}, 'Anomalies': {'precision': 0.9948186528497409, 'recall': 0.018597442851607904, 'f1-score': 0.036512313397356666, 'support': 10324}, 'accuracy': 0.41844582185491275, 'macro avg': {'precision': 0.7034043354202857, 'recall': 0.5092282988905926, 'f1-score': 0.310023860451093, 'support': 17424}, 'weighted avg': {'precision': 0.7573253500778019, 'recall': 0.41844582185491275, 'f1-score': 0.25941543370056236, 'support': 17424}}\n",
      "====================================\n",
      "Found 'CC023-569' and its infection value is '14300'\n",
      "{'Nonanomalies': {'precision': 0.4084685306639052, 'recall': 1.0, 'f1-score': 0.5800179723878768, 'support': 7100}, 'Anomalies': {'precision': 1.0, 'recall': 0.004068190623789229, 'f1-score': 0.008103415010611615, 'support': 10324}, 'accuracy': 0.40989439853076215, 'macro avg': {'precision': 0.7042342653319527, 'recall': 0.5020340953118946, 'f1-score': 0.2940606936992442, 'support': 17424}, 'weighted avg': {'precision': 0.7589604320313205, 'recall': 0.40989439853076215, 'f1-score': 0.24114940659570017, 'support': 17424}}\n",
      "====================================\n",
      "Found 'CC023-571' and its infection value is '14300'\n",
      "{'Nonanomalies': {'precision': 0.42104014706754433, 'recall': 1.0, 'f1-score': 0.5925802278512706, 'support': 7100}, 'Anomalies': {'precision': 1.0, 'recall': 0.05433940333204185, 'f1-score': 0.10307762976573266, 'support': 10324}, 'accuracy': 0.43968089990817266, 'macro avg': {'precision': 0.7105200735337722, 'recall': 0.527169701666021, 'f1-score': 0.34782892880850164, 'support': 17424}, 'weighted avg': {'precision': 0.764083163692583, 'recall': 0.43968089990817266, 'f1-score': 0.3025420722822225, 'support': 17424}}\n",
      "====================================\n",
      "Found 'CC023-572' and its infection value is '14300'\n",
      "{'Nonanomalies': {'precision': 0.40801981909316126, 'recall': 0.9974647887323944, 'f1-score': 0.5791388968393507, 'support': 7100}, 'Anomalies': {'precision': 0.7313432835820896, 'recall': 0.004746222394420767, 'f1-score': 0.009431238571841015, 'support': 10324}, 'accuracy': 0.40926308539944906, 'macro avg': {'precision': 0.5696815513376254, 'recall': 0.5011055055634076, 'f1-score': 0.29428506770559587, 'support': 17424}, 'weighted avg': {'precision': 0.5995941675426387, 'recall': 0.40926308539944906, 'f1-score': 0.24157795423410675, 'support': 17424}}\n",
      "====================================\n",
      "Found 'CC023-577' and its infection value is '14300'\n",
      "{'Nonanomalies': {'precision': 0.4094342886800069, 'recall': 1.0, 'f1-score': 0.5809909578167833, 'support': 7100}, 'Anomalies': {'precision': 1.0, 'recall': 0.008039519566059666, 'f1-score': 0.015950802344575767, 'support': 10324}, 'accuracy': 0.41224747474747475, 'macro avg': {'precision': 0.7047171443400034, 'recall': 0.5040197597830298, 'f1-score': 0.29847088008067957, 'support': 17424}, 'weighted avg': {'precision': 0.7593539629033546, 'recall': 0.41224747474747475, 'f1-score': 0.24619558562354005, 'support': 17424}}\n",
      "====================================\n",
      "No match found for mouse 'CC023-578'\n",
      "====================================\n",
      "No match found for mouse 'B6-102'\n",
      "====================================\n",
      "No match found for mouse 'CC003-184'\n",
      "====================================\n",
      "Found 'CC003-187' and its infection value is '10250'\n",
      "{'Nonanomalies': {'precision': 0.17579250720461095, 'recall': 1.0, 'f1-score': 0.29901960784313725, 'support': 3050}, 'Anomalies': {'precision': 1.0, 'recall': 0.005148184221511061, 'f1-score': 0.010243632336655591, 'support': 14374}, 'accuracy': 0.17929292929292928, 'macro avg': {'precision': 0.5878962536023055, 'recall': 0.5025740921107555, 'f1-score': 0.15463162008989642, 'support': 17424}, 'weighted avg': {'precision': 0.8557258463598522, 'recall': 0.17929292929292928, 'f1-score': 0.060792686818678617, 'support': 17424}}\n",
      "====================================\n",
      "Found 'CC003-190' and its infection value is '10250'\n",
      "{'Nonanomalies': {'precision': 0.17642276422764228, 'recall': 0.9960655737704918, 'f1-score': 0.2997533300444006, 'support': 3050}, 'Anomalies': {'precision': 0.9411764705882353, 'recall': 0.013357450953109782, 'f1-score': 0.026341061874056798, 'support': 14374}, 'accuracy': 0.185376492194674, 'macro avg': {'precision': 0.5587996174079388, 'recall': 0.5047115123618008, 'f1-score': 0.16304719595922867, 'support': 17424}, 'weighted avg': {'precision': 0.8073094593164373, 'recall': 0.185376492194674, 'f1-score': 0.07420076216787845, 'support': 17424}}\n",
      "====================================\n",
      "Found 'CC012-1348' and its infection value is '10250'\n"
     ]
    },
    {
     "name": "stdout",
     "output_type": "stream",
     "text": [
      "{'Nonanomalies': {'precision': 0.1828118431325446, 'recall': 0.9980327868852459, 'f1-score': 0.3090198467082889, 'support': 3050}, 'Anomalies': {'precision': 0.9922380336351876, 'recall': 0.05336023375539168, 'f1-score': 0.10127417970555225, 'support': 14374}, 'accuracy': 0.21872130394857667, 'macro avg': {'precision': 0.5875249383838661, 'recall': 0.5256965103203188, 'f1-score': 0.20514701320692058, 'support': 17424}, 'weighted avg': {'precision': 0.8505512865602873, 'recall': 0.21872130394857667, 'f1-score': 0.13763920979958041, 'support': 17424}}\n",
      "====================================\n",
      "Found 'CC012-1349' and its infection value is '10250'\n",
      "{'Nonanomalies': {'precision': 0.18647301372392147, 'recall': 0.9934426229508196, 'f1-score': 0.3140059070418156, 'support': 3050}, 'Anomalies': {'precision': 0.9829787234042553, 'recall': 0.08035341588980104, 'f1-score': 0.1485626085278796, 'support': 14374}, 'accuracy': 0.24018595041322313, 'macro avg': {'precision': 0.5847258685640884, 'recall': 0.5368980194203103, 'f1-score': 0.2312842577848476, 'support': 17424}, 'weighted avg': {'precision': 0.8435536537001106, 'recall': 0.24018595041322313, 'f1-score': 0.1775227818788613, 'support': 17424}}\n",
      "====================================\n",
      "Found 'CC012-1350' and its infection value is '10250'\n",
      "{'Nonanomalies': {'precision': 0.1762394545244424, 'recall': 1.0, 'f1-score': 0.2996659461583808, 'support': 3050}, 'Anomalies': {'precision': 1.0, 'recall': 0.00820926673159872, 'f1-score': 0.016284846812034227, 'support': 14374}, 'accuracy': 0.18181818181818182, 'macro avg': {'precision': 0.5881197272622212, 'recall': 0.5041046333657994, 'f1-score': 0.15797539648520753, 'support': 17424}, 'weighted avg': {'precision': 0.8558040826618198, 'recall': 0.18181818181818182, 'f1-score': 0.06588955026740366, 'support': 17424}}\n",
      "====================================\n",
      "Found 'CC012-1354' and its infection value is '10250'\n",
      "{'Nonanomalies': {'precision': 0.1757778675749004, 'recall': 0.9983606557377049, 'f1-score': 0.2989250478574584, 'support': 3050}, 'Anomalies': {'precision': 0.9504950495049505, 'recall': 0.006678725476554891, 'f1-score': 0.013264248704663213, 'support': 14374}, 'accuracy': 0.1802685950413223, 'macro avg': {'precision': 0.5631364585399254, 'recall': 0.5025196906071299, 'f1-score': 0.1560946482810608, 'support': 17424}, 'weighted avg': {'precision': 0.8148839725486458, 'recall': 0.1802685950413223, 'f1-score': 0.06326800429557376, 'support': 17424}}\n",
      "====================================\n",
      "Found 'CC012-1357' and its infection value is '10250'\n",
      "{'Nonanomalies': {'precision': 0.1736730116740468, 'recall': 0.9901639344262295, 'f1-score': 0.29551347913303, 'support': 3050}, 'Anomalies': {'precision': 0.14285714285714285, 'recall': 0.00034785028523723387, 'f1-score': 0.0006940106877645915, 'support': 14374}, 'accuracy': 0.1736111111111111, 'macro avg': {'precision': 0.15826507726559483, 'recall': 0.49525589235573336, 'f1-score': 0.1481037449103973, 'support': 17424}, 'weighted avg': {'precision': 0.148251334770111, 'recall': 0.1736111111111111, 'f1-score': 0.0523009539130894, 'support': 17424}}\n",
      "====================================\n",
      "Found 'CC012-1359' and its infection value is '10250'\n",
      "{'Nonanomalies': {'precision': 0.16871806781235485, 'recall': 0.9527868852459016, 'f1-score': 0.28667258557758707, 'support': 3050}, 'Anomalies': {'precision': 0.28, 'recall': 0.0038959231946570196, 'f1-score': 0.007684918347742555, 'support': 14374}, 'accuracy': 0.16999540863177226, 'macro avg': {'precision': 0.22435903390617745, 'recall': 0.4783414042202793, 'f1-score': 0.1471787519626648, 'support': 17424}, 'weighted avg': {'precision': 0.26052055250388445, 'recall': 0.16999540863177226, 'f1-score': 0.05652056946407783, 'support': 17424}}\n",
      "====================================\n",
      "Found 'CC025-620' and its infection value is '10250'\n",
      "{'Nonanomalies': {'precision': 0.1751363766867643, 'recall': 1.0, 'f1-score': 0.29806987539701935, 'support': 3050}, 'Anomalies': {'precision': 1.0, 'recall': 0.000626130513427021, 'f1-score': 0.0012514774386428423, 'support': 14374}, 'accuracy': 0.17556244260789716, 'macro avg': {'precision': 0.5875681883433821, 'recall': 0.5003130652567135, 'f1-score': 0.1496606764178311, 'support': 17424}, 'weighted avg': {'precision': 0.8556109933938608, 'recall': 0.17556244260789716, 'f1-score': 0.05320832510697666, 'support': 17424}}\n",
      "====================================\n",
      "Found 'CC037-488' and its infection value is '10250'\n",
      "{'Nonanomalies': {'precision': 0.2818540063801839, 'recall': 0.9849180327868853, 'f1-score': 0.438284213597899, 'support': 3050}, 'Anomalies': {'precision': 0.9932013006207508, 'recall': 0.46751078335884233, 'f1-score': 0.6357615894039735, 'support': 14374}, 'accuracy': 0.5580808080808081, 'macro avg': {'precision': 0.6375276535004674, 'recall': 0.7262144080728639, 'f1-score': 0.5370229015009362, 'support': 17424}, 'weighted avg': {'precision': 0.868682863554995, 'recall': 0.5580808080808081, 'f1-score': 0.6011939817244208, 'support': 17424}}\n",
      "====================================\n",
      "Found 'CC037-489' and its infection value is '10250'\n",
      "{'Nonanomalies': {'precision': 0.1883884765379293, 'recall': 0.9819672131147541, 'f1-score': 0.31612835127717964, 'support': 3050}, 'Anomalies': {'precision': 0.9639580602883355, 'recall': 0.10233755391679421, 'f1-score': 0.1850314465408805, 'support': 14374}, 'accuracy': 0.2563131313131313, 'macro avg': {'precision': 0.5761732684131324, 'recall': 0.5421523835157741, 'f1-score': 0.2505798989090301, 'support': 17424}, 'weighted avg': {'precision': 0.8281977738765622, 'recall': 0.2563131313131313, 'f1-score': 0.20797942401136446, 'support': 17424}}\n",
      "====================================\n",
      "Found 'CC037-490' and its infection value is '10250'\n",
      "{'Nonanomalies': {'precision': 0.1866314106505965, 'recall': 0.9950819672131147, 'f1-score': 0.3143123446561723, 'support': 3050}, 'Anomalies': {'precision': 0.9870912220309811, 'recall': 0.07979685543342145, 'f1-score': 0.14765705458290423, 'support': 14374}, 'accuracy': 0.2400137741046832, 'macro avg': {'precision': 0.5868613163407888, 'recall': 0.5374394113232681, 'f1-score': 0.23098469961953827, 'support': 17424}, 'weighted avg': {'precision': 0.8469740029819584, 'recall': 0.2400137741046832, 'f1-score': 0.17682938210376442, 'support': 17424}}\n",
      "====================================\n",
      "Found 'CC037-491' and its infection value is '10250'\n",
      "{'Nonanomalies': {'precision': 0.1835149617677163, 'recall': 0.999344262295082, 'f1-score': 0.3100869830611934, 'support': 3050}, 'Anomalies': {'precision': 0.9975460122699387, 'recall': 0.05656045637957423, 'f1-score': 0.10705115544143788, 'support': 14374}, 'accuracy': 0.2215909090909091, 'macro avg': {'precision': 0.5905304870188275, 'recall': 0.5279523593373281, 'f1-score': 0.20856906925131566, 'support': 17424}, 'weighted avg': {'precision': 0.8550532032690331, 'recall': 0.2215909090909091, 'f1-score': 0.14259174739737535, 'support': 17424}}\n",
      "====================================\n",
      "Found 'CC037-492' and its infection value is '10250'\n",
      "{'Nonanomalies': {'precision': 0.2895295025067489, 'recall': 0.9845901639344262, 'f1-score': 0.4474742959320518, 'support': 3050}, 'Anomalies': {'precision': 0.9933352240499149, 'recall': 0.48733824961736466, 'f1-score': 0.6538784654158498, 'support': 14374}, 'accuracy': 0.5743801652892562, 'macro avg': {'precision': 0.6414323632783319, 'recall': 0.7359642067758955, 'f1-score': 0.5506763806739507, 'support': 17424}, 'weighted avg': {'precision': 0.8701369084675771, 'recall': 0.5743801652892562, 'f1-score': 0.6177482589807268, 'support': 17424}}\n",
      "====================================\n",
      "Found 'CC037-493' and its infection value is '10250'\n",
      "{'Nonanomalies': {'precision': 0.2695536897923111, 'recall': 1.0, 'f1-score': 0.42464323007309435, 'support': 3050}, 'Anomalies': {'precision': 1.0, 'recall': 0.42500347850285236, 'f1-score': 0.5964946541034029, 'support': 14374}, 'accuracy': 0.5256542699724518, 'macro avg': {'precision': 0.6347768448961555, 'recall': 0.7125017392514261, 'f1-score': 0.5105689420882487, 'support': 17424}, 'weighted avg': {'precision': 0.872138358233847, 'recall': 0.5256542699724518, 'f1-score': 0.5664127645664171, 'support': 17424}}\n",
      "====================================\n",
      "No match found for mouse 'C57Bl6-104'\n",
      "====================================\n",
      "Found 'C57Bl6-105' and its infection value is '10000'\n"
     ]
    },
    {
     "name": "stdout",
     "output_type": "stream",
     "text": [
      "{'Nonanomalies': {'precision': 0.16586638212105045, 'recall': 0.9992857142857143, 'f1-score': 0.28450861762163815, 'support': 2800}, 'Anomalies': {'precision': 0.9963963963963964, 'recall': 0.03781455142231947, 'f1-score': 0.07286382502141117, 'support': 14624}, 'accuracy': 0.19232093663911845, 'macro avg': {'precision': 0.5811313892587234, 'recall': 0.5185501328540169, 'f1-score': 0.17868622132152467, 'support': 17424}, 'weighted avg': {'precision': 0.8629319772061435, 'recall': 0.19232093663911845, 'f1-score': 0.10687469619224654, 'support': 17424}}\n",
      "====================================\n",
      "Found 'C57Bl6-106' and its infection value is '10000'\n",
      "{'Nonanomalies': {'precision': 0.1612304120719675, 'recall': 0.9921428571428571, 'f1-score': 0.2773839241138292, 'support': 2800}, 'Anomalies': {'precision': 0.8865979381443299, 'recall': 0.011761487964989058, 'f1-score': 0.023215008773113777, 'support': 14624}, 'accuracy': 0.1693067033976125, 'macro avg': {'precision': 0.5239141751081486, 'recall': 0.5019521725539231, 'f1-score': 0.1502994664434715, 'support': 17424}, 'weighted avg': {'precision': 0.7700329087020311, 'recall': 0.1693067033976125, 'f1-score': 0.06405941665614887, 'support': 17424}}\n",
      "====================================\n",
      "Found 'CC019-1513' and its infection value is '10000'\n",
      "{'Nonanomalies': {'precision': 0.16104911998159438, 'recall': 1.0, 'f1-score': 0.27741999405528583, 'support': 2800}, 'Anomalies': {'precision': 1.0, 'recall': 0.002598468271334792, 'f1-score': 0.005183467466921293, 'support': 14624}, 'accuracy': 0.16287878787878787, 'macro avg': {'precision': 0.5805245599907972, 'recall': 0.5012992341356673, 'f1-score': 0.14130173076110356, 'support': 17424}, 'weighted avg': {'precision': 0.8651823654699532, 'recall': 0.16287878787878787, 'f1-score': 0.048931302318127715, 'support': 17424}}\n",
      "====================================\n",
      "Found 'CC019-1514' and its infection value is '10000'\n"
     ]
    },
    {
     "name": "stderr",
     "output_type": "stream",
     "text": [
      "/Users/yoddmena/opt/anaconda3/lib/python3.8/site-packages/sklearn/metrics/_classification.py:1245: UndefinedMetricWarning: Precision and F-score are ill-defined and being set to 0.0 in labels with no predicted samples. Use `zero_division` parameter to control this behavior.\n",
      "  _warn_prf(average, modifier, msg_start, len(result))\n",
      "/Users/yoddmena/opt/anaconda3/lib/python3.8/site-packages/sklearn/metrics/_classification.py:1245: UndefinedMetricWarning: Precision and F-score are ill-defined and being set to 0.0 in labels with no predicted samples. Use `zero_division` parameter to control this behavior.\n",
      "  _warn_prf(average, modifier, msg_start, len(result))\n",
      "/Users/yoddmena/opt/anaconda3/lib/python3.8/site-packages/sklearn/metrics/_classification.py:1245: UndefinedMetricWarning: Precision and F-score are ill-defined and being set to 0.0 in labels with no predicted samples. Use `zero_division` parameter to control this behavior.\n",
      "  _warn_prf(average, modifier, msg_start, len(result))\n",
      "/Users/yoddmena/opt/anaconda3/lib/python3.8/site-packages/sklearn/metrics/_classification.py:1245: UndefinedMetricWarning: Precision is ill-defined and being set to 0.0 due to no predicted samples. Use `zero_division` parameter to control this behavior.\n",
      "  _warn_prf(average, modifier, msg_start, len(result))\n",
      "/Users/yoddmena/opt/anaconda3/lib/python3.8/site-packages/sklearn/metrics/_classification.py:1245: UndefinedMetricWarning: Precision and F-score are ill-defined and being set to 0.0 in labels with no predicted samples. Use `zero_division` parameter to control this behavior.\n",
      "  _warn_prf(average, modifier, msg_start, len(result))\n"
     ]
    },
    {
     "name": "stdout",
     "output_type": "stream",
     "text": [
      "{'Nonanomalies': {'precision': 0.16069788797061524, 'recall': 1.0, 'f1-score': 0.2768987341772152, 'support': 2800}, 'Anomalies': {'precision': 0.0, 'recall': 0.0, 'f1-score': 0.0, 'support': 14624}, 'accuracy': 0.16069788797061524, 'macro avg': {'precision': 0.08034894398530762, 'recall': 0.5, 'f1-score': 0.1384493670886076, 'support': 17424}, 'weighted avg': {'precision': 0.025823811198216407, 'recall': 0.16069788797061524, 'f1-score': 0.044497041764015303, 'support': 17424}}\n",
      "====================================\n",
      "Found 'CC024-363' and its infection value is '10000'\n",
      "{'Nonanomalies': {'precision': 0.21712467008228536, 'recall': 0.9989285714285714, 'f1-score': 0.3567147047570463, 'support': 2800}, 'Anomalies': {'precision': 0.9993394980184941, 'recall': 0.3103801969365427, 'f1-score': 0.4736512574350413, 'support': 14624}, 'accuracy': 0.42102846648301195, 'macro avg': {'precision': 0.6082320840503898, 'recall': 0.6546543841825571, 'f1-score': 0.4151829810960438, 'support': 17424}, 'weighted avg': {'precision': 0.8736392272298472, 'recall': 0.42102846648301195, 'f1-score': 0.4548598003931229, 'support': 17424}}\n",
      "====================================\n",
      "Found 'CC024-364' and its infection value is '10000'\n",
      "{'Nonanomalies': {'precision': 0.16129032258064516, 'recall': 1.0, 'f1-score': 0.27777777777777773, 'support': 2800}, 'Anomalies': {'precision': 1.0, 'recall': 0.00437636761487965, 'f1-score': 0.008714596949891068, 'support': 14624}, 'accuracy': 0.16437098255280075, 'macro avg': {'precision': 0.5806451612903226, 'recall': 0.5021881838074398, 'f1-score': 0.1432461873638344, 'support': 17424}, 'weighted avg': {'precision': 0.8652211262181937, 'recall': 0.16437098255280075, 'f1-score': 0.051952481839588185, 'support': 17424}}\n",
      "====================================\n",
      "Found 'CC024-365' and its infection value is '10000'\n",
      "{'Nonanomalies': {'precision': 0.16101207590569291, 'recall': 1.0, 'f1-score': 0.2773650321941555, 'support': 2800}, 'Anomalies': {'precision': 1.0, 'recall': 0.002324945295404814, 'f1-score': 0.004639104925637877, 'support': 14624}, 'accuracy': 0.1626492194674013, 'macro avg': {'precision': 0.5805060379528465, 'recall': 0.5011624726477024, 'f1-score': 0.14100206855989666, 'support': 17424}, 'weighted avg': {'precision': 0.8651764125651941, 'recall': 0.1626492194674013, 'f1-score': 0.04846558543251628, 'support': 17424}}\n",
      "====================================\n",
      "Found 'CC025-603' and its infection value is '10000'\n",
      "{'Nonanomalies': {'precision': 0.15982050396962375, 'recall': 0.9921428571428571, 'f1-score': 0.2752948171638093, 'support': 2800}, 'Anomalies': {'precision': 0.47619047619047616, 'recall': 0.0013676148796498905, 'f1-score': 0.002727396699849993, 'support': 14624}, 'accuracy': 0.16058310376492194, 'macro avg': {'precision': 0.31800549008004997, 'recall': 0.4967552360112535, 'f1-score': 0.13901110693182966, 'support': 17424}, 'weighted avg': {'precision': 0.425350489837263, 'recall': 0.16058310376492194, 'f1-score': 0.046528405498006915, 'support': 17424}}\n",
      "====================================\n",
      "Found 'CC027-392' and its infection value is '10000'\n",
      "{'Nonanomalies': {'precision': 0.5131964809384164, 'recall': 1.0, 'f1-score': 0.6782945736434108, 'support': 2800}, 'Anomalies': {'precision': 1.0, 'recall': 0.8183807439824945, 'f1-score': 0.9001203369434415, 'support': 14624}, 'accuracy': 0.8475665748393021, 'macro avg': {'precision': 0.7565982404692082, 'recall': 0.9091903719912473, 'f1-score': 0.7892074552934262, 'support': 17424}, 'weighted avg': {'precision': 0.9217717026301403, 'recall': 0.8475665748393021, 'f1-score': 0.8644734052836569, 'support': 17424}}\n",
      "====================================\n",
      "Found 'CC027-393' and its infection value is '10000'\n",
      "{'Nonanomalies': {'precision': 0.5021520803443329, 'recall': 1.0, 'f1-score': 0.6685768863419294, 'support': 2800}, 'Anomalies': {'precision': 1.0, 'recall': 0.8101750547045952, 'f1-score': 0.8951344817165306, 'support': 14624}, 'accuracy': 0.8406795224977043, 'macro avg': {'precision': 0.7510760401721664, 'recall': 0.9050875273522976, 'f1-score': 0.78185568402923, 'support': 17424}, 'weighted avg': {'precision': 0.9199968907807697, 'recall': 0.8406795224977043, 'f1-score': 0.858727154636131, 'support': 17424}}\n",
      "====================================\n",
      "Found 'CC042-330' and its infection value is '10000'\n",
      "{'Nonanomalies': {'precision': 0.1634654679199019, 'recall': 1.0, 'f1-score': 0.28099754127151383, 'support': 2800}, 'Anomalies': {'precision': 1.0, 'recall': 0.020172319474835887, 'f1-score': 0.03954688652054427, 'support': 14624}, 'accuracy': 0.1776285583103765, 'macro avg': {'precision': 0.581732733959951, 'recall': 0.510086159737418, 'f1-score': 0.16027221389602905, 'support': 17424}, 'weighted avg': {'precision': 0.8655706674802414, 'recall': 0.1776285583103765, 'f1-score': 0.07834749678814727, 'support': 17424}}\n",
      "====================================\n",
      "Found 'CC042-331' and its infection value is '10000'\n",
      "{'Nonanomalies': {'precision': 0.16137244691315164, 'recall': 0.9960714285714286, 'f1-score': 0.2777473485037096, 'support': 2800}, 'Anomalies': {'precision': 0.9219858156028369, 'recall': 0.008889496717724288, 'f1-score': 0.017609210971892986, 'support': 14624}, 'accuracy': 0.16752754820936638, 'macro avg': {'precision': 0.5416791312579943, 'recall': 0.5024804626445765, 'f1-score': 0.1476782797378013, 'support': 17424}, 'weighted avg': {'precision': 0.7997568536921896, 'recall': 0.16752754820936638, 'f1-score': 0.05941286025386534, 'support': 17424}}\n",
      "====================================\n",
      "Found 'CC042-332' and its infection value is '10000'\n",
      "{'Nonanomalies': {'precision': 0.16302765647743814, 'recall': 1.0, 'f1-score': 0.28035043804755944, 'support': 2800}, 'Anomalies': {'precision': 1.0, 'recall': 0.017026805251641138, 'f1-score': 0.0334834935789686, 'support': 14624}, 'accuracy': 0.17498852157943068, 'macro avg': {'precision': 0.5815138282387191, 'recall': 0.5085134026258206, 'f1-score': 0.15691696581326403, 'support': 17424}, 'weighted avg': {'precision': 0.865500312106108, 'recall': 0.17498852157943068, 'f1-score': 0.07315449016483029, 'support': 17424}}\n",
      "====================================\n",
      "Found 'CC006-510' and its infection value is '10500'\n",
      "{'Nonanomalies': {'precision': 0.18951358180669614, 'recall': 1.0, 'f1-score': 0.3186404673393521, 'support': 3300}, 'Anomalies': {'precision': 1.0, 'recall': 0.000778816199376947, 'f1-score': 0.001556420233463035, 'support': 14124}, 'accuracy': 0.1900252525252525, 'macro avg': {'precision': 0.5947567909033481, 'recall': 0.5003894080996885, 'f1-score': 0.16009844378640756, 'support': 17424}, 'weighted avg': {'precision': 0.8464987844330863, 'recall': 0.1900252525252525, 'f1-score': 0.0616102170338208, 'support': 17424}}\n",
      "====================================\n",
      "Found 'CC017-426' and its infection value is '10500'\n"
     ]
    },
    {
     "name": "stderr",
     "output_type": "stream",
     "text": [
      "/Users/yoddmena/opt/anaconda3/lib/python3.8/site-packages/sklearn/metrics/_classification.py:1245: UndefinedMetricWarning: Precision and F-score are ill-defined and being set to 0.0 in labels with no predicted samples. Use `zero_division` parameter to control this behavior.\n",
      "  _warn_prf(average, modifier, msg_start, len(result))\n",
      "/Users/yoddmena/opt/anaconda3/lib/python3.8/site-packages/sklearn/metrics/_classification.py:1245: UndefinedMetricWarning: Precision and F-score are ill-defined and being set to 0.0 in labels with no predicted samples. Use `zero_division` parameter to control this behavior.\n",
      "  _warn_prf(average, modifier, msg_start, len(result))\n",
      "/Users/yoddmena/opt/anaconda3/lib/python3.8/site-packages/sklearn/metrics/_classification.py:1245: UndefinedMetricWarning: Precision and F-score are ill-defined and being set to 0.0 in labels with no predicted samples. Use `zero_division` parameter to control this behavior.\n",
      "  _warn_prf(average, modifier, msg_start, len(result))\n",
      "/Users/yoddmena/opt/anaconda3/lib/python3.8/site-packages/sklearn/metrics/_classification.py:1245: UndefinedMetricWarning: Precision is ill-defined and being set to 0.0 due to no predicted samples. Use `zero_division` parameter to control this behavior.\n",
      "  _warn_prf(average, modifier, msg_start, len(result))\n",
      "/Users/yoddmena/opt/anaconda3/lib/python3.8/site-packages/sklearn/metrics/_classification.py:1245: UndefinedMetricWarning: Precision and F-score are ill-defined and being set to 0.0 in labels with no predicted samples. Use `zero_division` parameter to control this behavior.\n",
      "  _warn_prf(average, modifier, msg_start, len(result))\n"
     ]
    },
    {
     "name": "stdout",
     "output_type": "stream",
     "text": [
      "{'Nonanomalies': {'precision': 0.1893939393939394, 'recall': 1.0, 'f1-score': 0.3184713375796178, 'support': 3300}, 'Anomalies': {'precision': 0.0, 'recall': 0.0, 'f1-score': 0.0, 'support': 14124}, 'accuracy': 0.1893939393939394, 'macro avg': {'precision': 0.0946969696969697, 'recall': 0.5, 'f1-score': 0.1592356687898089, 'support': 17424}, 'weighted avg': {'precision': 0.035870064279155185, 'recall': 0.1893939393939394, 'f1-score': 0.06031654120826095, 'support': 17424}}\n",
      "====================================\n",
      "Found 'CC036-290' and its infection value is '10500'\n",
      "{'Nonanomalies': {'precision': 0.19070735090152566, 'recall': 1.0, 'f1-score': 0.32032615026208505, 'support': 3300}, 'Anomalies': {'precision': 1.0, 'recall': 0.008496176720475786, 'f1-score': 0.016849199663016005, 'support': 14124}, 'accuracy': 0.1962809917355372, 'macro avg': {'precision': 0.5953536754507628, 'recall': 0.5042480883602379, 'f1-score': 0.16858767496255053, 'support': 17424}, 'weighted avg': {'precision': 0.8467248770646829, 'recall': 0.1962809917355372, 'f1-score': 0.07432589485223362, 'support': 17424}}\n",
      "====================================\n",
      "Found 'CC043-607' and its infection value is '10500'\n",
      "{'Nonanomalies': {'precision': 0.18930088393984618, 'recall': 0.9993939393939394, 'f1-score': 0.31830904352861694, 'support': 3300}, 'Anomalies': {'precision': 0.0, 'recall': 0.0, 'f1-score': 0.0, 'support': 14124}, 'accuracy': 0.1892791551882461, 'macro avg': {'precision': 0.09465044196992309, 'recall': 0.4996969696969697, 'f1-score': 0.15915452176430847, 'support': 17424}, 'weighted avg': {'precision': 0.03585244014012238, 'recall': 0.1892791551882461, 'f1-score': 0.060285803698601696, 'support': 17424}}\n",
      "====================================\n",
      "Found 'CC058-317' and its infection value is '10500'\n",
      "{'Nonanomalies': {'precision': 0.22643080124869927, 'recall': 0.9890909090909091, 'f1-score': 0.3685012701100763, 'support': 3300}, 'Anomalies': {'precision': 0.9880358923230309, 'recall': 0.2104927782497876, 'f1-score': 0.34704955349325867, 'support': 14124}, 'accuracy': 0.35795454545454547, 'macro avg': {'precision': 0.607233346785865, 'recall': 0.5997918436703483, 'f1-score': 0.3577754118016675, 'support': 17424}, 'weighted avg': {'precision': 0.8437925038619832, 'recall': 0.35795454545454547, 'f1-score': 0.3511123786100802, 'support': 17424}}\n",
      "====================================\n",
      "Found 'CC058-318' and its infection value is '10500'\n",
      "{'Nonanomalies': {'precision': 0.2533978346003225, 'recall': 1.0, 'f1-score': 0.4043374379709612, 'support': 3300}, 'Anomalies': {'precision': 1.0, 'recall': 0.31159728122344943, 'f1-score': 0.4751417004048583, 'support': 14124}, 'accuracy': 0.44197658402203854, 'macro avg': {'precision': 0.6266989173001613, 'recall': 0.6557986406117247, 'f1-score': 0.4397395691879098, 'support': 17424}, 'weighted avg': {'precision': 0.8585980747349096, 'recall': 0.44197658402203854, 'f1-score': 0.46173180221662025, 'support': 17424}}\n",
      "====================================\n",
      "Found 'CC058-319' and its infection value is '10500'\n",
      "{'Nonanomalies': {'precision': 0.2612727854173329, 'recall': 0.9903030303030304, 'f1-score': 0.41346153846153844, 'support': 3300}, 'Anomalies': {'precision': 0.9934906427990235, 'recall': 0.34579439252336447, 'f1-score': 0.5130252100840336, 'support': 14124}, 'accuracy': 0.46786042240587694, 'macro avg': {'precision': 0.6273817141081782, 'recall': 0.6680487114131974, 'f1-score': 0.463243374272786, 'support': 17424}, 'weighted avg': {'precision': 0.8548130182949155, 'recall': 0.46786042240587694, 'f1-score': 0.49416845409492466, 'support': 17424}}\n",
      "====================================\n",
      "Found 'CC061-565' and its infection value is '10500'\n",
      "{'Nonanomalies': {'precision': 0.189369535204786, 'recall': 0.9975757575757576, 'f1-score': 0.3183136724037904, 'support': 3300}, 'Anomalies': {'precision': 0.8, 'recall': 0.0022656471254602095, 'f1-score': 0.00451849759954815, 'support': 14124}, 'accuracy': 0.19077134986225897, 'macro avg': {'precision': 0.494684767602393, 'recall': 0.49992070235060887, 'f1-score': 0.16141608500166926, 'support': 17424}, 'weighted avg': {'precision': 0.6843502907584822, 'recall': 0.19077134986225897, 'f1-score': 0.06394940191853342, 'support': 17424}}\n",
      "====================================\n",
      "Found 'CC001-325' and its infection value is '10100'\n",
      "{'Nonanomalies': {'precision': 0.17490952955367914, 'recall': 1.0, 'f1-score': 0.29774127310061604, 'support': 2900}, 'Anomalies': {'precision': 1.0, 'recall': 0.05811071330212063, 'f1-score': 0.10983862571577303, 'support': 14524}, 'accuracy': 0.21487603305785125, 'macro avg': {'precision': 0.5874547647768396, 'recall': 0.5290553566510603, 'f1-score': 0.20378994940819453, 'support': 17424}, 'weighted avg': {'precision': 0.8626743363008305, 'recall': 0.21487603305785125, 'f1-score': 0.1411125971009914, 'support': 17424}}\n",
      "====================================\n",
      "Found 'CC025-645' and its infection value is '10100'\n",
      "{'Nonanomalies': {'precision': 0.17238304701896215, 'recall': 1.0, 'f1-score': 0.29407290980074025, 'support': 2900}, 'Anomalies': {'precision': 1.0, 'recall': 0.04137978518314514, 'f1-score': 0.07947107438016529, 'support': 14524}, 'accuracy': 0.2009297520661157, 'macro avg': {'precision': 0.5861915235094811, 'recall': 0.5206898925915726, 'f1-score': 0.18677199209045275, 'support': 17424}, 'weighted avg': {'precision': 0.8622538358789594, 'recall': 0.2009297520661157, 'f1-score': 0.11518878114782297, 'support': 17424}}\n",
      "====================================\n",
      "Found 'CC027-426' and its infection value is '10100'\n",
      "{'Nonanomalies': {'precision': 0.4406625132958517, 'recall': 1.0, 'f1-score': 0.6117498154203144, 'support': 2900}, 'Anomalies': {'precision': 1.0, 'recall': 0.7465574221977417, 'f1-score': 0.8548902116923561, 'support': 14524}, 'accuracy': 0.7887396694214877, 'macro avg': {'precision': 0.7203312566479259, 'recall': 0.8732787110988709, 'f1-score': 0.7333200135563352, 'support': 17424}, 'weighted avg': {'precision': 0.9069054917675602, 'recall': 0.7887396694214877, 'f1-score': 0.8144226296681986, 'support': 17424}}\n",
      "====================================\n",
      "Found 'CC038-669' and its infection value is '10100'\n",
      "{'Nonanomalies': {'precision': 0.16658050433683727, 'recall': 1.0, 'f1-score': 0.2855876704909153, 'support': 2900}, 'Anomalies': {'precision': 1.0, 'recall': 0.0010327733406774993, 'f1-score': 0.0020634156406905565, 'support': 14524}, 'accuracy': 0.1672979797979798, 'macro avg': {'precision': 0.5832902521684187, 'recall': 0.5005163866703387, 'f1-score': 0.14382554306580295, 'support': 17424}, 'weighted avg': {'precision': 0.8612880775124442, 'recall': 0.1672979797979798, 'f1-score': 0.04925236990295249, 'support': 17424}}\n",
      "====================================\n",
      "Found 'CC042-347' and its infection value is '10100'\n",
      "{'Nonanomalies': {'precision': 0.346931451130518, 'recall': 1.0, 'f1-score': 0.5151434408029132, 'support': 2900}, 'Anomalies': {'precision': 1.0, 'recall': 0.6241393555494354, 'f1-score': 0.7685785747594218, 'support': 14524}, 'accuracy': 0.6866965105601469, 'macro avg': {'precision': 0.673465725565259, 'recall': 0.8120696777747177, 'f1-score': 0.6418610077811675, 'support': 17424}, 'weighted avg': {'precision': 0.8913051657643768, 'recall': 0.6866965105601469, 'f1-score': 0.7263975664677623, 'support': 17424}}\n",
      "====================================\n",
      "Found 'CC042-348' and its infection value is '10100'\n",
      "{'Nonanomalies': {'precision': 0.5850312689126488, 'recall': 1.0, 'f1-score': 0.7381952399134529, 'support': 2900}, 'Anomalies': {'precision': 1.0, 'recall': 0.8583723492150923, 'f1-score': 0.9237894112852433, 'support': 14524}, 'accuracy': 0.8819444444444444, 'macro avg': {'precision': 0.7925156344563244, 'recall': 0.9291861746075462, 'f1-score': 0.8309923255993481, 'support': 17424}, 'weighted avg': {'precision': 0.9309338085311457, 'recall': 0.8819444444444444, 'f1-score': 0.8928996559490293, 'support': 17424}}\n",
      "====================================\n",
      "Found 'CC042-349' and its infection value is '10100'\n",
      "{'Nonanomalies': {'precision': 0.16655180335400874, 'recall': 1.0, 'f1-score': 0.2855454903505317, 'support': 2900}, 'Anomalies': {'precision': 1.0, 'recall': 0.0008262186725419994, 'f1-score': 0.0016510731975784257, 'support': 14524}, 'accuracy': 0.16712580348943984, 'macro avg': {'precision': 0.5832759016770044, 'recall': 0.500413109336271, 'f1-score': 0.14359828177405506, 'support': 17424}, 'weighted avg': {'precision': 0.8612833006041452, 'recall': 0.16712580348943984, 'f1-score': 0.048901636199389975, 'support': 17424}}\n",
      "====================================\n",
      "Found 'CC043-562' and its infection value is '10100'\n"
     ]
    },
    {
     "name": "stdout",
     "output_type": "stream",
     "text": [
      "{'Nonanomalies': {'precision': 0.16644665097859151, 'recall': 1.0, 'f1-score': 0.2853909363775033, 'support': 2900}, 'Anomalies': {'precision': 1.0, 'recall': 6.885155604516663e-05, 'f1-score': 0.0001376936316695353, 'support': 14524}, 'accuracy': 0.16649449035812672, 'macro avg': {'precision': 0.5832233254892958, 'recall': 0.5000344257780226, 'f1-score': 0.14276431500458642, 'support': 17424}, 'weighted avg': {'precision': 0.8612657993479061, 'recall': 0.16649449035812672, 'f1-score': 0.04761441562219512, 'support': 17424}}\n",
      "====================================\n",
      "No match found for mouse 'CC043-563'\n",
      "====================================\n",
      "Found 'CC043-564' and its infection value is '10100'\n",
      "{'Nonanomalies': {'precision': 0.16624569460390357, 'recall': 0.9986206896551724, 'f1-score': 0.2850393700787402, 'support': 2900}, 'Anomalies': {'precision': 0.0, 'recall': 0.0, 'f1-score': 0.0, 'support': 14524}, 'accuracy': 0.16620752984389348, 'macro avg': {'precision': 0.08312284730195178, 'recall': 0.4993103448275862, 'f1-score': 0.1425196850393701, 'support': 17424}, 'weighted avg': {'precision': 0.02766945100730718, 'recall': 0.16620752984389348, 'f1-score': 0.04744112564441842, 'support': 17424}}\n",
      "====================================\n",
      "Found 'CC051-615' and its infection value is '10100'\n",
      "{'Nonanomalies': {'precision': 0.20254581060288152, 'recall': 0.9986206896551724, 'f1-score': 0.3367833469008024, 'support': 2900}, 'Anomalies': {'precision': 0.9987204094689699, 'recall': 0.2149545579730102, 'f1-score': 0.3537677053824363, 'support': 14524}, 'accuracy': 0.3453856749311295, 'macro avg': {'precision': 0.6006331100359257, 'recall': 0.6067876238140912, 'f1-score': 0.3452755261416194, 'support': 17424}, 'weighted avg': {'precision': 0.8662074195291365, 'recall': 0.3453856749311295, 'f1-score': 0.3509408780410257, 'support': 17424}}\n",
      "====================================\n",
      "Found 'CC053-366' and its infection value is '10100'\n"
     ]
    },
    {
     "name": "stderr",
     "output_type": "stream",
     "text": [
      "/Users/yoddmena/opt/anaconda3/lib/python3.8/site-packages/sklearn/metrics/_classification.py:1245: UndefinedMetricWarning: Precision and F-score are ill-defined and being set to 0.0 in labels with no predicted samples. Use `zero_division` parameter to control this behavior.\n",
      "  _warn_prf(average, modifier, msg_start, len(result))\n",
      "/Users/yoddmena/opt/anaconda3/lib/python3.8/site-packages/sklearn/metrics/_classification.py:1245: UndefinedMetricWarning: Precision and F-score are ill-defined and being set to 0.0 in labels with no predicted samples. Use `zero_division` parameter to control this behavior.\n",
      "  _warn_prf(average, modifier, msg_start, len(result))\n",
      "/Users/yoddmena/opt/anaconda3/lib/python3.8/site-packages/sklearn/metrics/_classification.py:1245: UndefinedMetricWarning: Precision and F-score are ill-defined and being set to 0.0 in labels with no predicted samples. Use `zero_division` parameter to control this behavior.\n",
      "  _warn_prf(average, modifier, msg_start, len(result))\n",
      "/Users/yoddmena/opt/anaconda3/lib/python3.8/site-packages/sklearn/metrics/_classification.py:1245: UndefinedMetricWarning: Precision is ill-defined and being set to 0.0 due to no predicted samples. Use `zero_division` parameter to control this behavior.\n",
      "  _warn_prf(average, modifier, msg_start, len(result))\n",
      "/Users/yoddmena/opt/anaconda3/lib/python3.8/site-packages/sklearn/metrics/_classification.py:1245: UndefinedMetricWarning: Precision and F-score are ill-defined and being set to 0.0 in labels with no predicted samples. Use `zero_division` parameter to control this behavior.\n",
      "  _warn_prf(average, modifier, msg_start, len(result))\n"
     ]
    },
    {
     "name": "stdout",
     "output_type": "stream",
     "text": [
      "{'Nonanomalies': {'precision': 0.16643709825528008, 'recall': 1.0, 'f1-score': 0.2853768943121433, 'support': 2900}, 'Anomalies': {'precision': 0.0, 'recall': 0.0, 'f1-score': 0.0, 'support': 14524}, 'accuracy': 0.16643709825528008, 'macro avg': {'precision': 0.08321854912764004, 'recall': 0.5, 'f1-score': 0.14268844715607165, 'support': 17424}, 'weighted avg': {'precision': 0.027701307675637755, 'recall': 0.16643709825528008, 'f1-score': 0.04749730219841687, 'support': 17424}}\n",
      "====================================\n",
      "Found 'CC053-370' and its infection value is '10100'\n",
      "{'Nonanomalies': {'precision': 0.16653267485930862, 'recall': 1.0, 'f1-score': 0.2855173771783007, 'support': 2900}, 'Anomalies': {'precision': 1.0, 'recall': 0.0006885155604516662, 'f1-score': 0.001376083665886886, 'support': 14524}, 'accuracy': 0.16701101928374656, 'macro avg': {'precision': 0.5832663374296543, 'recall': 0.5003442577802258, 'f1-score': 0.1434467304220938, 'support': 17424}, 'weighted avg': {'precision': 0.8612801169129932, 'recall': 0.16701101928374656, 'f1-score': 0.04866773605259488, 'support': 17424}}\n",
      "====================================\n",
      "Found 'CC053-371' and its infection value is '10100'\n"
     ]
    },
    {
     "name": "stderr",
     "output_type": "stream",
     "text": [
      "/Users/yoddmena/opt/anaconda3/lib/python3.8/site-packages/sklearn/metrics/_classification.py:1245: UndefinedMetricWarning: Precision and F-score are ill-defined and being set to 0.0 in labels with no predicted samples. Use `zero_division` parameter to control this behavior.\n",
      "  _warn_prf(average, modifier, msg_start, len(result))\n",
      "/Users/yoddmena/opt/anaconda3/lib/python3.8/site-packages/sklearn/metrics/_classification.py:1245: UndefinedMetricWarning: Precision and F-score are ill-defined and being set to 0.0 in labels with no predicted samples. Use `zero_division` parameter to control this behavior.\n",
      "  _warn_prf(average, modifier, msg_start, len(result))\n",
      "/Users/yoddmena/opt/anaconda3/lib/python3.8/site-packages/sklearn/metrics/_classification.py:1245: UndefinedMetricWarning: Precision and F-score are ill-defined and being set to 0.0 in labels with no predicted samples. Use `zero_division` parameter to control this behavior.\n",
      "  _warn_prf(average, modifier, msg_start, len(result))\n",
      "/Users/yoddmena/opt/anaconda3/lib/python3.8/site-packages/sklearn/metrics/_classification.py:1245: UndefinedMetricWarning: Precision is ill-defined and being set to 0.0 due to no predicted samples. Use `zero_division` parameter to control this behavior.\n",
      "  _warn_prf(average, modifier, msg_start, len(result))\n",
      "/Users/yoddmena/opt/anaconda3/lib/python3.8/site-packages/sklearn/metrics/_classification.py:1245: UndefinedMetricWarning: Precision and F-score are ill-defined and being set to 0.0 in labels with no predicted samples. Use `zero_division` parameter to control this behavior.\n",
      "  _warn_prf(average, modifier, msg_start, len(result))\n"
     ]
    },
    {
     "name": "stdout",
     "output_type": "stream",
     "text": [
      "{'Nonanomalies': {'precision': 0.16643709825528008, 'recall': 1.0, 'f1-score': 0.2853768943121433, 'support': 2900}, 'Anomalies': {'precision': 0.0, 'recall': 0.0, 'f1-score': 0.0, 'support': 14524}, 'accuracy': 0.16643709825528008, 'macro avg': {'precision': 0.08321854912764004, 'recall': 0.5, 'f1-score': 0.14268844715607165, 'support': 17424}, 'weighted avg': {'precision': 0.027701307675637755, 'recall': 0.16643709825528008, 'f1-score': 0.04749730219841687, 'support': 17424}}\n",
      "====================================\n",
      "Found 'CC057-704' and its infection value is '10100'\n"
     ]
    },
    {
     "name": "stderr",
     "output_type": "stream",
     "text": [
      "/Users/yoddmena/opt/anaconda3/lib/python3.8/site-packages/sklearn/metrics/_classification.py:1245: UndefinedMetricWarning: Precision and F-score are ill-defined and being set to 0.0 in labels with no predicted samples. Use `zero_division` parameter to control this behavior.\n",
      "  _warn_prf(average, modifier, msg_start, len(result))\n",
      "/Users/yoddmena/opt/anaconda3/lib/python3.8/site-packages/sklearn/metrics/_classification.py:1245: UndefinedMetricWarning: Precision and F-score are ill-defined and being set to 0.0 in labels with no predicted samples. Use `zero_division` parameter to control this behavior.\n",
      "  _warn_prf(average, modifier, msg_start, len(result))\n",
      "/Users/yoddmena/opt/anaconda3/lib/python3.8/site-packages/sklearn/metrics/_classification.py:1245: UndefinedMetricWarning: Precision and F-score are ill-defined and being set to 0.0 in labels with no predicted samples. Use `zero_division` parameter to control this behavior.\n",
      "  _warn_prf(average, modifier, msg_start, len(result))\n",
      "/Users/yoddmena/opt/anaconda3/lib/python3.8/site-packages/sklearn/metrics/_classification.py:1245: UndefinedMetricWarning: Precision is ill-defined and being set to 0.0 due to no predicted samples. Use `zero_division` parameter to control this behavior.\n",
      "  _warn_prf(average, modifier, msg_start, len(result))\n",
      "/Users/yoddmena/opt/anaconda3/lib/python3.8/site-packages/sklearn/metrics/_classification.py:1245: UndefinedMetricWarning: Precision and F-score are ill-defined and being set to 0.0 in labels with no predicted samples. Use `zero_division` parameter to control this behavior.\n",
      "  _warn_prf(average, modifier, msg_start, len(result))\n"
     ]
    },
    {
     "name": "stdout",
     "output_type": "stream",
     "text": [
      "{'Nonanomalies': {'precision': 0.16643709825528008, 'recall': 1.0, 'f1-score': 0.2853768943121433, 'support': 2900}, 'Anomalies': {'precision': 0.0, 'recall': 0.0, 'f1-score': 0.0, 'support': 14524}, 'accuracy': 0.16643709825528008, 'macro avg': {'precision': 0.08321854912764004, 'recall': 0.5, 'f1-score': 0.14268844715607165, 'support': 17424}, 'weighted avg': {'precision': 0.027701307675637755, 'recall': 0.16643709825528008, 'f1-score': 0.04749730219841687, 'support': 17424}}\n",
      "====================================\n",
      "Found 'CC057-705' and its infection value is '10100'\n",
      "{'Nonanomalies': {'precision': 0.16669540725412427, 'recall': 1.0, 'f1-score': 0.28575651574124256, 'support': 2900}, 'Anomalies': {'precision': 1.0, 'recall': 0.0018589920132194987, 'f1-score': 0.003711085148787025, 'support': 14524}, 'accuracy': 0.16798668503213957, 'macro avg': {'precision': 0.5833477036270621, 'recall': 0.5009294960066097, 'f1-score': 0.1447338004450148, 'support': 17424}, 'weighted avg': {'precision': 0.8613072016205785, 'recall': 0.16798668503213957, 'f1-score': 0.05065390819275632, 'support': 17424}}\n",
      "====================================\n",
      "Found 'C57Bl6-108' and its infection value is '10200'\n",
      "{'Nonanomalies': {'precision': 0.17704337562702863, 'recall': 1.0, 'f1-score': 0.3008272750062672, 'support': 3000}, 'Anomalies': {'precision': 1.0, 'recall': 0.033208541320022184, 'f1-score': 0.06428235925652552, 'support': 14424}, 'accuracy': 0.19966712580348944, 'macro avg': {'precision': 0.5885216878135143, 'recall': 0.5166042706600111, 'f1-score': 0.18255481713139637, 'support': 17424}, 'weighted avg': {'precision': 0.8583063663269678, 'recall': 0.19966712580348944, 'f1-score': 0.10500978965420832, 'support': 17424}}\n",
      "====================================\n",
      "Found 'CC017-394' and its infection value is '10200'\n",
      "{'Nonanomalies': {'precision': 0.1724137931034483, 'recall': 1.0, 'f1-score': 0.29411764705882354, 'support': 3000}, 'Anomalies': {'precision': 1.0, 'recall': 0.0016638935108153079, 'f1-score': 0.0033222591362126247, 'support': 14424}, 'accuracy': 0.17355371900826447, 'macro avg': {'precision': 0.5862068965517242, 'recall': 0.5008319467554077, 'f1-score': 0.1487199530975181, 'support': 17424}, 'weighted avg': {'precision': 0.8575092618979766, 'recall': 0.17355371900826447, 'f1-score': 0.05339033556916905, 'support': 17424}}\n",
      "====================================\n",
      "Found 'CC017-395' and its infection value is '10200'\n",
      "{'Nonanomalies': {'precision': 0.17223561832586978, 'recall': 1.0, 'f1-score': 0.29385836027034967, 'support': 3000}, 'Anomalies': {'precision': 1.0, 'recall': 0.00041597337770382697, 'f1-score': 0.0008316008316008316, 'support': 14424}, 'accuracy': 0.1725206611570248, 'macro avg': {'precision': 0.5861178091629349, 'recall': 0.5002079866888519, 'f1-score': 0.14734498055097525, 'support': 17424}, 'weighted avg': {'precision': 0.8574785844224982, 'recall': 0.1725206611570248, 'f1-score': 0.05128386657518706, 'support': 17424}}\n",
      "====================================\n",
      "Found 'CC024-371' and its infection value is '10200'\n",
      "{'Nonanomalies': {'precision': 0.17388025063819912, 'recall': 0.999, 'f1-score': 0.29620478355406205, 'support': 3000}, 'Anomalies': {'precision': 0.9840425531914894, 'recall': 0.012825845812534665, 'f1-score': 0.02532165343553244, 'support': 14424}, 'accuracy': 0.18262167125803488, 'macro avg': {'precision': 0.5789614019148442, 'recall': 0.5059129229062673, 'f1-score': 0.16076321849479724, 'support': 17424}, 'weighted avg': {'precision': 0.8445517986196419, 'recall': 0.18262167125803488, 'f1-score': 0.07196131082508643, 'support': 17424}}\n",
      "====================================\n",
      "Found 'CC027-400' and its infection value is '10200'\n",
      "{'Nonanomalies': {'precision': 0.4586454670539673, 'recall': 1.0, 'f1-score': 0.6288648988575621, 'support': 3000}, 'Anomalies': {'precision': 1.0, 'recall': 0.7545063782584581, 'f1-score': 0.8600782392223496, 'support': 14424}, 'accuracy': 0.7967745638200183, 'macro avg': {'precision': 0.7293227335269836, 'recall': 0.877253189129229, 'f1-score': 0.7444715690399559, 'support': 17424}, 'weighted avg': {'precision': 0.906791574905986, 'recall': 0.7967745638200183, 'f1-score': 0.8202687797931507, 'support': 17424}}\n",
      "====================================\n",
      "Found 'CC027-401' and its infection value is '10200'\n",
      "{'Nonanomalies': {'precision': 0.5163511187607573, 'recall': 1.0, 'f1-score': 0.681044267877412, 'support': 3000}, 'Anomalies': {'precision': 1.0, 'recall': 0.805185801442041, 'f1-score': 0.8920808049773408, 'support': 14424}, 'accuracy': 0.8387281910009182, 'macro avg': {'precision': 0.7581755593803787, 'recall': 0.9025929007210205, 'f1-score': 0.7865625364273764, 'support': 17424}, 'weighted avg': {'precision': 0.916727120998753, 'recall': 0.8387281910009182, 'f1-score': 0.8557453130524219, 'support': 17424}}\n",
      "====================================\n",
      "Found 'CC027-403' and its infection value is '10200'\n",
      "{'Nonanomalies': {'precision': 0.3142677561282212, 'recall': 1.0, 'f1-score': 0.4782400765184122, 'support': 3000}, 'Anomalies': {'precision': 1.0, 'recall': 0.5461730449251248, 'f1-score': 0.7064837234328759, 'support': 14424}, 'accuracy': 0.6243112947658402, 'macro avg': {'precision': 0.6571338780641106, 'recall': 0.7730865224625624, 'f1-score': 0.592361899975644, 'support': 17424}, 'weighted avg': {'precision': 0.8819331536033439, 'recall': 0.6243112947658402, 'f1-score': 0.667185574859449, 'support': 17424}}\n",
      "====================================\n",
      "Found 'CC041-1752' and its infection value is '10200'\n",
      "{'Nonanomalies': {'precision': 0.17897625581672832, 'recall': 1.0, 'f1-score': 0.3036129946361705, 'support': 3000}, 'Anomalies': {'precision': 1.0, 'recall': 0.04589572933998891, 'f1-score': 0.08776348932785365, 'support': 14424}, 'accuracy': 0.21016988062442607, 'macro avg': {'precision': 0.5894881279083641, 'recall': 0.5229478646699944, 'f1-score': 0.19568824198201207, 'support': 17424}, 'weighted avg': {'precision': 0.8586391625028802, 'recall': 0.21016988062442607, 'f1-score': 0.12492766035201289, 'support': 17424}}\n",
      "====================================\n",
      "Found 'CC041-1753' and its infection value is '10200'\n",
      "{'Nonanomalies': {'precision': 0.173120203127705, 'recall': 1.0, 'f1-score': 0.29514486693885583, 'support': 3000}, 'Anomalies': {'precision': 1.0, 'recall': 0.00658624514697726, 'f1-score': 0.013086300709415247, 'support': 14424}, 'accuracy': 0.1776285583103765, 'macro avg': {'precision': 0.5865601015638525, 'recall': 0.5032931225734887, 'f1-score': 0.15411558382413554, 'support': 17424}, 'weighted avg': {'precision': 0.8576308889682688, 'recall': 0.1776285583103765, 'f1-score': 0.061650103434869895, 'support': 17424}}\n",
      "====================================\n",
      "Found 'CC041-1754' and its infection value is '10200'\n",
      "{'Nonanomalies': {'precision': 0.17411491584445735, 'recall': 1.0, 'f1-score': 0.2965892239248641, 'support': 3000}, 'Anomalies': {'precision': 1.0, 'recall': 0.013449805879090405, 'f1-score': 0.02654261868928718, 'support': 14424}, 'accuracy': 0.18331037649219467, 'macro avg': {'precision': 0.5870574579222286, 'recall': 0.5067249029395452, 'f1-score': 0.16156592130707564, 'support': 17424}, 'weighted avg': {'precision': 0.8578021549318969, 'recall': 0.18331037649219467, 'f1-score': 0.07303824631249257, 'support': 17424}}\n",
      "====================================\n",
      "Found 'CC041-1758' and its infection value is '10200'\n",
      "{'Nonanomalies': {'precision': 0.1723147616312464, 'recall': 1.0, 'f1-score': 0.29397354238118567, 'support': 3000}, 'Anomalies': {'precision': 1.0, 'recall': 0.0009706045479755962, 'f1-score': 0.0019393267765618507, 'support': 14424}, 'accuracy': 0.17297979797979798, 'macro avg': {'precision': 0.5861573808156232, 'recall': 0.5004853022739878, 'f1-score': 0.14795643457887375, 'support': 17424}, 'weighted avg': {'precision': 0.8574922110246637, 'recall': 0.17297979797979798, 'f1-score': 0.05222069998672436, 'support': 17424}}\n",
      "====================================\n",
      "Found 'CC041-1759' and its infection value is '10200'\n"
     ]
    },
    {
     "name": "stderr",
     "output_type": "stream",
     "text": [
      "/Users/yoddmena/opt/anaconda3/lib/python3.8/site-packages/sklearn/metrics/_classification.py:1245: UndefinedMetricWarning: Precision and F-score are ill-defined and being set to 0.0 in labels with no predicted samples. Use `zero_division` parameter to control this behavior.\n",
      "  _warn_prf(average, modifier, msg_start, len(result))\n",
      "/Users/yoddmena/opt/anaconda3/lib/python3.8/site-packages/sklearn/metrics/_classification.py:1245: UndefinedMetricWarning: Precision and F-score are ill-defined and being set to 0.0 in labels with no predicted samples. Use `zero_division` parameter to control this behavior.\n",
      "  _warn_prf(average, modifier, msg_start, len(result))\n",
      "/Users/yoddmena/opt/anaconda3/lib/python3.8/site-packages/sklearn/metrics/_classification.py:1245: UndefinedMetricWarning: Precision and F-score are ill-defined and being set to 0.0 in labels with no predicted samples. Use `zero_division` parameter to control this behavior.\n",
      "  _warn_prf(average, modifier, msg_start, len(result))\n",
      "/Users/yoddmena/opt/anaconda3/lib/python3.8/site-packages/sklearn/metrics/_classification.py:1245: UndefinedMetricWarning: Precision is ill-defined and being set to 0.0 due to no predicted samples. Use `zero_division` parameter to control this behavior.\n",
      "  _warn_prf(average, modifier, msg_start, len(result))\n",
      "/Users/yoddmena/opt/anaconda3/lib/python3.8/site-packages/sklearn/metrics/_classification.py:1245: UndefinedMetricWarning: Precision and F-score are ill-defined and being set to 0.0 in labels with no predicted samples. Use `zero_division` parameter to control this behavior.\n",
      "  _warn_prf(average, modifier, msg_start, len(result))\n"
     ]
    },
    {
     "name": "stdout",
     "output_type": "stream",
     "text": [
      "{'Nonanomalies': {'precision': 0.1721763085399449, 'recall': 1.0, 'f1-score': 0.2937720329024677, 'support': 3000}, 'Anomalies': {'precision': 0.0, 'recall': 0.0, 'f1-score': 0.0, 'support': 14424}, 'accuracy': 0.1721763085399449, 'macro avg': {'precision': 0.08608815426997245, 'recall': 0.5, 'f1-score': 0.14688601645123384, 'support': 17424}, 'weighted avg': {'precision': 0.029644681222442303, 'recall': 0.1721763085399449, 'f1-score': 0.050580584177422123, 'support': 17424}}\n",
      "====================================\n",
      "Found 'CC041-1760' and its infection value is '10200'\n",
      "{'Nonanomalies': {'precision': 0.17456068893285231, 'recall': 1.0, 'f1-score': 0.29723570791637766, 'support': 3000}, 'Anomalies': {'precision': 1.0, 'recall': 0.016500277315585135, 'f1-score': 0.03246487518755968, 'support': 14424}, 'accuracy': 0.1858356290174472, 'macro avg': {'precision': 0.5872803444664262, 'recall': 0.5082501386577926, 'f1-score': 0.16485029155196868, 'support': 17424}, 'weighted avg': {'precision': 0.8578789064967033, 'recall': 0.1858356290174472, 'f1-score': 0.07805213977585479, 'support': 17424}}\n",
      "====================================\n"
     ]
    }
   ],
   "source": [
    "# fig,ax = plt.subplots(2,1,figsize=(15,10), sharex = False)\n",
    "#fig.set_facecolor(\"white\")\n",
    "\n",
    "train_end = 7200 #(5 days)\n",
    "shift = 2*360 # since the period is 6 hours (360) and we do this twice\n",
    "\n",
    "# LISTS\n",
    "# First anomalies after infection\n",
    "min_scores = []\n",
    "first_anom_train = []\n",
    "first_anom_inf = []\n",
    "score_train = []\n",
    "score_infec = []\n",
    "recall_anom = []\n",
    "precision_anom = []\n",
    "f1_anom = []\n",
    "tpr = []\n",
    "\n",
    "for i in range(0, df_temp.shape[1]): #df_temp.shape[1]\n",
    "    #ax[0].cla()  # clear axis 0-1\n",
    "    #ax[1].cla()\n",
    "    \n",
    "    #mice_min = range(0, df_temp.shape[0]) # Get the specific minutes for the current temperature time series\n",
    "    \n",
    "    temp_value = df_temp.iloc[:, i] # extract the temperature values for the current column\n",
    "    mice_temp = df_temp.iloc[:, i].to_frame() # converting temp list to data frame\n",
    "    \n",
    "    names = mice_temp.columns[0] # get the column name for the current file\n",
    "    \n",
    "    ##################################################################\n",
    "    # Finding Infection Time\n",
    "    matching_columns = set(mice_temp.columns).intersection(infection_data.columns)\n",
    "    \n",
    "    if matching_columns:\n",
    "        column_name = matching_columns.pop()\n",
    "        infection_time = infection_data.loc['Aprprox Infection Minute', column_name]\n",
    "        print(f\"Found '{column_name}' and its infection value is '{infection_time}'\")\n",
    "        ##################################################################\n",
    "        # Filing in missing data\n",
    "        temp_value_fw = temp_value.fillna(method='ffill') # foward fill\n",
    "        temp_value_bw = temp_value_fw.fillna(method='bfill') # backward fill after forward fill\n",
    "\n",
    "        # Time Delay Embedding\n",
    "        temp_tde = tde.tde(temp_value_bw) # using the tde file\n",
    "        temp_tde = temp_tde.T # transporting the data\n",
    "\n",
    "        ##################################################################\n",
    "        # Fit the Data on the first 3 days (3*24*60) \n",
    "        model.fit(temp_tde[:train_end+1,:])\n",
    "\n",
    "        # Predict the Data\n",
    "        predict_train_data = model.predict(temp_tde[:train_end+1,:]) # predict on training data\n",
    "        predict_test_data = model.predict(temp_tde[train_end+1:,:]) # predicting on test data\n",
    "\n",
    "        # Scores\n",
    "        scores_train_data = model.score_samples(temp_tde[:train_end+1,:]) # scores on training data \n",
    "        scores_test_data = model.score_samples(temp_tde[train_end+1:,:]) # scores on test data\n",
    "\n",
    "        threshold = model.offset_\n",
    "\n",
    "        ##################################################################\n",
    "        # Combine training and testing scores and predictions\n",
    "        combined_scores= np.concatenate((scores_train_data, scores_test_data), axis=0)\n",
    "        combined_predictions = np.concatenate((predict_train_data, predict_test_data), axis=0)\n",
    "\n",
    "        time = np.arange(temp_tde.shape[0])+(shift) # 2 times the time delay shift\n",
    "\n",
    "        # Minimum score\n",
    "        min_score = scores_train_data.min()\n",
    "\n",
    "        # Find the indices of the anomalies\n",
    "        anomaly_indices = np.where(combined_scores <= min_score)[0] #finding the values where its -1 (anomaly)\n",
    "        time_2 = anomaly_indices + (shift) # shifting the time for plotting\n",
    "        \n",
    "        ##################################################################\n",
    "        # Find the index at which the first score is less than min_score\n",
    "        boolean = combined_scores < min_score\n",
    "        anom_train = np.argmax(boolean) # first anomaly after training period\n",
    "        anom_infec = np.argmax(boolean[infection_time-shift:]) + infection_time # first anomaly after infection period\n",
    "\n",
    "        \n",
    "        # Set up for classification report\n",
    "        dataset_len_train = len(combined_scores)+shift-train_end # finding the length of the testing dataset\n",
    "        train_to_inf = combined_scores[train_end-shift : infection_time-shift]\n",
    "        post_inf = combined_scores[infection_time-shift : ]\n",
    "        true_neg = np.zeros(len(train_to_inf))\n",
    "        true_pos = np.ones(len(post_inf))\n",
    "        y_true = np.append(true_neg, true_pos, axis=0)  # Appends along row\n",
    "        \n",
    "        #y_true = np.ones(dataset_len_train) # creating an array of zeroes of that length\n",
    "        ones_and_zeros_array = boolean.astype(int) # turning boolean outcomes into ones and zeros\n",
    "        y_pred = ones_and_zeros_array[train_end-shift: ]\n",
    "        target_names = ['Nonanomalies', 'Anomalies']\n",
    "        print(classification_report(y_true, y_pred, target_names=target_names, output_dict=True))\n",
    "        recall = recall_score(y_true, y_pred)\n",
    "        precision = precision_score(y_true, y_pred)\n",
    "        f1_score = precision_recall_fscore_support(y_true, y_pred)\n",
    "        cm = confusion_matrix(y_true, y_pred, labels = [0,1])\n",
    "        \n",
    "        \n",
    "        # Get the corresponding value\n",
    "        value = combined_scores[anom_train]\n",
    "        value_1 = combined_scores[anom_infec-shift]\n",
    "\n",
    "        # Calculating the time first anomaly was found after training and infection\n",
    "        time_aft_train = (anom_train + shift) - train_end\n",
    "        time_aft_infection = anom_infec - infection_time\n",
    "\n",
    "        # Calculating the amount of false negatives (between end of train and infection time)\n",
    "        #count_false_neg = np.count_nonzero(boolean[train_end:infection_time])\n",
    "        count_false_neg = np.count_nonzero(ones_and_zeros_array[infection_time-shift : ] == 0)\n",
    "        \n",
    "        # Calculating the amount of true positives (infection time)\n",
    "        #count_true_pos = np.count_nonzero(boolean[infection_time:]) \n",
    "        count_true_pos = np.count_nonzero(ones_and_zeros_array[infection_time-shift : ] == 1)\n",
    "        \n",
    "        # Calculating true positive rate\n",
    "        # Check if the denominator is zero\n",
    "        if (count_true_pos + count_false_neg) == 0:\n",
    "            print(\"N/A\")\n",
    "            continue  # Skip this iteration and move to the next number\n",
    "        \n",
    "        TPR = count_true_pos / (count_true_pos + count_false_neg)\n",
    "        \n",
    "       \n",
    "        \n",
    "        ##################################################################\n",
    "        '''\n",
    "        # Plotting 2nd Graph\n",
    "        ax[1].plot(time, combined_scores, '-', color='#6693F5', alpha=0.75)  # Plot the scores with blue color #[:100]\n",
    "        ax[1].plot(time_2, combined_scores[anomaly_indices], '', color='purple') #coloring anomalies\n",
    "        ax[1].grid()\n",
    "        ax[1].set_ylabel(\"Score\", fontsize=14)\n",
    "        ax[1].set_xlabel(\"Minutes\", fontsize=14)\n",
    "        ax[1].set_title(f\"Anomalies found using our threshold for '{names}'\", fontsize=14)\n",
    "        #ax[1].set_xlim(infection_time-5,infection_time+30)\n",
    "        ax[1].set_xlim(-10,26000)\n",
    "        ax[1].set_ylim(0,700)\n",
    "\n",
    "        ##################################################################\n",
    "        # Plotting Horizontal and Vertical Lines\n",
    "        ax[1].axvline(x = anom_train+shift, color='blue', linestyle='--', label='First anomaly after training') # when the first value is less the minimum value\n",
    "        ax[1].axvline(x = train_end, color='green', linestyle='-', label='End of training data')\n",
    "        ax[1].axhline(y=min_score, color='red', linestyle='-', label='Threshold')\n",
    "        ax[1].axvline(x = anom_infec, color='orange', linestyle ='-', label='First anomaly after infection')\n",
    "        #ax[1].axhline(y=value, color='blue', linestyle='--', label='value')\n",
    "        #ax[1].axhline(y=value_1, color='orange', linestyle='-', label='value_1')\n",
    "        ax[1].legend()\n",
    "\n",
    "        ##################################################################\n",
    "        # Print Values\n",
    "        print(\"Minimum Score: \", min_score)\n",
    "        print(\"After Training Min: \", anom_train+shift)\n",
    "        print(\"After Infection Min: \", anom_infec)\n",
    "        print(f\"First anomaly found after training: {time_aft_train} minutes with score {value}\")\n",
    "        print(f\"First anomaly found after infection: {time_aft_infection} minutes with score {value_1}\")\n",
    "        print(f\"True Positve Rate: {TPR*100}%\")\n",
    "        \n",
    "        '''\n",
    "\n",
    "        ##################################################################\n",
    "        # Appending to Lists\n",
    "        min_scores.append(min_score)\n",
    "        first_anom_train.append(time_aft_train)\n",
    "        first_anom_inf.append(time_aft_infection)\n",
    "        score_train.append(value)\n",
    "        score_infec.append(value_1)\n",
    "        recall_anom.append(recall)\n",
    "        precision_anom.append(precision)\n",
    "        f1_anom.append(f1_score)\n",
    "        tpr.append(TPR)\n",
    "    \n",
    "    else:\n",
    "        print(f\"No match found for mouse '{names}'\")\n",
    "    \n",
    "    print(\"====================================\")\n",
    "   "
   ]
  },
  {
   "cell_type": "code",
   "execution_count": 10,
   "id": "6968b961",
   "metadata": {},
   "outputs": [],
   "source": [
    "# Make all lists into arrays\n",
    "ms = np.array(min_scores)\n",
    "st = np.array(score_train)\n",
    "si = np.array(score_infec)\n",
    "\n",
    "fat = np.array(first_anom_train)\n",
    "fai = np.array(first_anom_inf)\n",
    "\n",
    "ra = np.array(recall_anom)\n",
    "#tprs = np.array(tpr)"
   ]
  },
  {
   "cell_type": "code",
   "execution_count": 14,
   "id": "c582eb38",
   "metadata": {},
   "outputs": [],
   "source": [
    "# Create the data for the table (calculates statistics)\n",
    "data1 = {\n",
    "    'column_1': [round(np.mean(ms),2),round(np.mean(st),2), round(np.mean(si),2)], \n",
    "    'column_2': [round(np.std(ms),2), round(np.std(st),2), round(np.std(si),2)],\n",
    "    'column_3': [round(np.percentile(ms, 25),2), round(np.percentile(st, 25),2), round(np.percentile(si, 25),2)], \n",
    "    'column_4': [round(np.percentile(ms, 50),2), round(np.percentile(st, 50),2), round(np.percentile(si, 50),2)], \n",
    "    'column_5': [round(np.percentile(ms, 75),2), round(np.percentile(st, 75),2), round(np.percentile(si, 75),2)]\n",
    "}\n",
    "                 \n",
    "data2 = {'column 1':[round(np.mean(fat),2), round(np.mean(fai),2)], \n",
    "         'column 2':[round(np.std(fat),2), round(np.std(fai),2)],\n",
    "         'column 3':[round(np.percentile(fat, 25),2), round(np.percentile(fai, 25),2)],\n",
    "         'column 4':[round(np.percentile(fat, 50),2), round(np.percentile(fai, 50),2)], \n",
    "         'column 5':[round(np.percentile(fat, 75),2), round(np.percentile(fai, 75),2)]\n",
    "}\n",
    "\n",
    "data3= {'row 1': [round(np.mean(ra)*100,2), \n",
    "                     round(np.std(ra)*100,2), \n",
    "                     round(np.percentile(ra, 25)*100,2), \n",
    "                     round(np.percentile(ra, 50)*100,2), \n",
    "                     round(np.percentile(ra, 75)*100,2)]\n",
    "}\n",
    "                     \n"
   ]
  },
  {
   "cell_type": "code",
   "execution_count": 15,
   "id": "1ba323c5",
   "metadata": {},
   "outputs": [
    {
     "name": "stderr",
     "output_type": "stream",
     "text": [
      "<ipython-input-15-116e8070c92e>:8: UserWarning: Pandas doesn't allow columns to be created via a new attribute name - see https://pandas.pydata.org/pandas-docs/stable/indexing.html#attribute-access\n",
      "  df.index1 = row_names1\n",
      "<ipython-input-15-116e8070c92e>:11: UserWarning: Pandas doesn't allow columns to be created via a new attribute name - see https://pandas.pydata.org/pandas-docs/stable/indexing.html#attribute-access\n",
      "  df.index2 = row_names2\n",
      "<ipython-input-15-116e8070c92e>:14: UserWarning: Pandas doesn't allow columns to be created via a new attribute name - see https://pandas.pydata.org/pandas-docs/stable/indexing.html#attribute-access\n",
      "  df.index3 = row_names3\n",
      "<ipython-input-15-116e8070c92e>:18: UserWarning: Pandas doesn't allow columns to be created via a new attribute name - see https://pandas.pydata.org/pandas-docs/stable/indexing.html#attribute-access\n",
      "  df.columns1 = column_names1\n",
      "<ipython-input-15-116e8070c92e>:21: UserWarning: Pandas doesn't allow columns to be created via a new attribute name - see https://pandas.pydata.org/pandas-docs/stable/indexing.html#attribute-access\n",
      "  df.columns2 = column_names2\n",
      "<ipython-input-15-116e8070c92e>:24: UserWarning: Pandas doesn't allow columns to be created via a new attribute name - see https://pandas.pydata.org/pandas-docs/stable/indexing.html#attribute-access\n",
      "  df.columns3 = column_names3\n"
     ]
    }
   ],
   "source": [
    "# Create a DataFrame\n",
    "df1 = pd.DataFrame(data1)\n",
    "df2 = pd.DataFrame(data2)\n",
    "df3 = pd.DataFrame(data3)\n",
    "\n",
    "# Set row names (index)\n",
    "row_names1 = ['Minimum Score', 'First Anomaly Score Post-Training', 'First Anomaly Score Post-Infection  ']\n",
    "df.index1 = row_names1\n",
    "\n",
    "row_names2 = ['First Anomaly Time Post-Training', 'First Anomaly Time Post-Infection']\n",
    "df.index2 = row_names2\n",
    "\n",
    "row_names3 = ['Precision']\n",
    "df.index3 = row_names3\n",
    "\n",
    "# Set column names\n",
    "column_names1 = ['Mean', 'Standard Deviation', 'Quartile 1 (25%)', 'Quartile 2 (Med)', 'Quartile 3 (75%)']\n",
    "df.columns1 = column_names1\n",
    "\n",
    "column_names2 = ['Mean', 'Standard Deviation', 'Quartile 1 (25%)', 'Quartile 2 (Med)', 'Quartile 3 (75%)']\n",
    "df.columns2 = column_names2\n",
    "\n",
    "column_names3 = ['Mean', 'Standard Deviation', 'Quartile 1 (25%)', 'Quartile 2 (Med)', 'Quartile 3 (75%)']\n",
    "df.columns3 = column_names3\n"
   ]
  },
  {
   "cell_type": "code",
   "execution_count": 22,
   "id": "e05a09c1",
   "metadata": {},
   "outputs": [
    {
     "data": {
      "image/png": "[encoded data removed]",
      "text/plain": [
       "<Figure size 432x288 with 1 Axes>"
      ]
     },
     "metadata": {
      "needs_background": "light"
     },
     "output_type": "display_data"
    }
   ],
   "source": [
    "# Saving the Table\n",
    "# Create a table visualization using matplotlib\n",
    "fig, ax = plt.subplots(figsize=(6, 4))\n",
    "ax.axis('off')\n",
    "table1 = ax.table(cellText=df1.values, colLabels=df.columns1, rowLabels=df.index1, loc='center')\n",
    "table1.auto_set_font_size(True)\n",
    "table1.set_fontsize(14)\n",
    "table1.scale(2.5, 2)  # Adjust the scaling factor as per your requirements\n",
    "\n",
    "# Modify the column names as dark color boxes\n",
    "for i, col_name in enumerate(df.columns1):\n",
    "    cell = table1[0, i]\n",
    "    cell.set_text_props(weight='bold', color='white')\n",
    "    cell.set_facecolor('darkgray')\n",
    "    \n",
    "# Save the table as an image file\n",
    "#plt.savefig('table_statistics_4days.png', bbox_inches='tight', facecolor='white')\n"
   ]
  },
  {
   "cell_type": "code",
   "execution_count": 17,
   "id": "0ec0cd26",
   "metadata": {},
   "outputs": [
    {
     "data": {
      "image/png": "[encoded data removed]",
      "text/plain": [
       "<Figure size 432x288 with 1 Axes>"
      ]
     },
     "metadata": {
      "needs_background": "light"
     },
     "output_type": "display_data"
    }
   ],
   "source": [
    "fig, ax = plt.subplots(figsize=(6, 4))\n",
    "ax.axis('off')\n",
    "table2 = ax.table(cellText=df2.values, colLabels=df.columns2, rowLabels=df.index2, loc='center')\n",
    "table2.auto_set_font_size(True)\n",
    "table2.set_fontsize(14)\n",
    "table2.scale(2.5, 2)  # Adjust the scaling factor as per your requirements\n",
    "\n",
    "# Modify the column names as dark color boxes\n",
    "for i, col_name in enumerate(df.columns2):\n",
    "    cell = table2[0, i]\n",
    "    cell.set_text_props(weight='bold', color='white')\n",
    "    cell.set_facecolor('darkgray')"
   ]
  },
  {
   "cell_type": "code",
   "execution_count": 18,
   "id": "8045a4a6",
   "metadata": {},
   "outputs": [
    {
     "ename": "ValueError",
     "evalue": "'rowLabels' must be of length 5",
     "output_type": "error",
     "traceback": [
      "\u001b[0;31m---------------------------------------------------------------------------\u001b[0m",
      "\u001b[0;31mValueError\u001b[0m                                Traceback (most recent call last)",
      "\u001b[0;32m<ipython-input-18-3f0c0008e60f>\u001b[0m in \u001b[0;36m<module>\u001b[0;34m\u001b[0m\n\u001b[1;32m      3\u001b[0m \u001b[0mfig\u001b[0m\u001b[0;34m,\u001b[0m \u001b[0max\u001b[0m \u001b[0;34m=\u001b[0m \u001b[0mplt\u001b[0m\u001b[0;34m.\u001b[0m\u001b[0msubplots\u001b[0m\u001b[0;34m(\u001b[0m\u001b[0mfigsize\u001b[0m\u001b[0;34m=\u001b[0m\u001b[0;34m(\u001b[0m\u001b[0;36m6\u001b[0m\u001b[0;34m,\u001b[0m \u001b[0;36m4\u001b[0m\u001b[0;34m)\u001b[0m\u001b[0;34m)\u001b[0m\u001b[0;34m\u001b[0m\u001b[0;34m\u001b[0m\u001b[0m\n\u001b[1;32m      4\u001b[0m \u001b[0max\u001b[0m\u001b[0;34m.\u001b[0m\u001b[0maxis\u001b[0m\u001b[0;34m(\u001b[0m\u001b[0;34m'off'\u001b[0m\u001b[0;34m)\u001b[0m\u001b[0;34m\u001b[0m\u001b[0;34m\u001b[0m\u001b[0m\n\u001b[0;32m----> 5\u001b[0;31m \u001b[0mtable3\u001b[0m \u001b[0;34m=\u001b[0m \u001b[0max\u001b[0m\u001b[0;34m.\u001b[0m\u001b[0mtable\u001b[0m\u001b[0;34m(\u001b[0m\u001b[0mcellText\u001b[0m\u001b[0;34m=\u001b[0m\u001b[0mdf3\u001b[0m\u001b[0;34m.\u001b[0m\u001b[0mvalues\u001b[0m\u001b[0;34m,\u001b[0m \u001b[0mcolLabels\u001b[0m\u001b[0;34m=\u001b[0m\u001b[0mdf\u001b[0m\u001b[0;34m.\u001b[0m\u001b[0mcolumns3\u001b[0m\u001b[0;34m,\u001b[0m \u001b[0mrowLabels\u001b[0m\u001b[0;34m=\u001b[0m\u001b[0mdf\u001b[0m\u001b[0;34m.\u001b[0m\u001b[0mindex3\u001b[0m\u001b[0;34m,\u001b[0m \u001b[0mloc\u001b[0m\u001b[0;34m=\u001b[0m\u001b[0;34m'center'\u001b[0m\u001b[0;34m)\u001b[0m\u001b[0;34m\u001b[0m\u001b[0;34m\u001b[0m\u001b[0m\n\u001b[0m\u001b[1;32m      6\u001b[0m \u001b[0mtable3\u001b[0m\u001b[0;34m.\u001b[0m\u001b[0mauto_set_font_size\u001b[0m\u001b[0;34m(\u001b[0m\u001b[0;32mTrue\u001b[0m\u001b[0;34m)\u001b[0m\u001b[0;34m\u001b[0m\u001b[0;34m\u001b[0m\u001b[0m\n\u001b[1;32m      7\u001b[0m \u001b[0mtable3\u001b[0m\u001b[0;34m.\u001b[0m\u001b[0mset_fontsize\u001b[0m\u001b[0;34m(\u001b[0m\u001b[0;36m14\u001b[0m\u001b[0;34m)\u001b[0m\u001b[0;34m\u001b[0m\u001b[0;34m\u001b[0m\u001b[0m\n",
      "\u001b[0;32m~/opt/anaconda3/lib/python3.8/site-packages/matplotlib/table.py\u001b[0m in \u001b[0;36mtable\u001b[0;34m(ax, cellText, cellColours, cellLoc, colWidths, rowLabels, rowColours, rowLoc, colLabels, colColours, colLoc, loc, bbox, edges, **kwargs)\u001b[0m\n\u001b[1;32m    771\u001b[0m     \u001b[0;32mif\u001b[0m \u001b[0mrowLabels\u001b[0m \u001b[0;32mis\u001b[0m \u001b[0;32mnot\u001b[0m \u001b[0;32mNone\u001b[0m\u001b[0;34m:\u001b[0m\u001b[0;34m\u001b[0m\u001b[0;34m\u001b[0m\u001b[0m\n\u001b[1;32m    772\u001b[0m         \u001b[0;32mif\u001b[0m \u001b[0mlen\u001b[0m\u001b[0;34m(\u001b[0m\u001b[0mrowLabels\u001b[0m\u001b[0;34m)\u001b[0m \u001b[0;34m!=\u001b[0m \u001b[0mrows\u001b[0m\u001b[0;34m:\u001b[0m\u001b[0;34m\u001b[0m\u001b[0;34m\u001b[0m\u001b[0m\n\u001b[0;32m--> 773\u001b[0;31m             \u001b[0;32mraise\u001b[0m \u001b[0mValueError\u001b[0m\u001b[0;34m(\u001b[0m\u001b[0;34m\"'rowLabels' must be of length {0}\"\u001b[0m\u001b[0;34m.\u001b[0m\u001b[0mformat\u001b[0m\u001b[0;34m(\u001b[0m\u001b[0mrows\u001b[0m\u001b[0;34m)\u001b[0m\u001b[0;34m)\u001b[0m\u001b[0;34m\u001b[0m\u001b[0;34m\u001b[0m\u001b[0m\n\u001b[0m\u001b[1;32m    774\u001b[0m \u001b[0;34m\u001b[0m\u001b[0m\n\u001b[1;32m    775\u001b[0m     \u001b[0;31m# If we have column labels, need to shift\u001b[0m\u001b[0;34m\u001b[0m\u001b[0;34m\u001b[0m\u001b[0;34m\u001b[0m\u001b[0m\n",
      "\u001b[0;31mValueError\u001b[0m: 'rowLabels' must be of length 5"
     ]
    },
    {
     "data": {
      "image/png": "[encoded data removed]",
      "text/plain": [
       "<Figure size 432x288 with 1 Axes>"
      ]
     },
     "metadata": {
      "needs_background": "light"
     },
     "output_type": "display_data"
    }
   ],
   "source": [
    "# Saving the Table\n",
    "# Create a table visualization using matplotlib\n",
    "fig, ax = plt.subplots(figsize=(6, 4))\n",
    "ax.axis('off')\n",
    "table3 = ax.table(cellText=df3.values, colLabels=df.columns3, rowLabels=df.index3, loc='center')\n",
    "table3.auto_set_font_size(True)\n",
    "table3.set_fontsize(14)\n",
    "table3.scale(2.5, 2)  # Adjust the scaling factor as per your requirements\n",
    "\n",
    "# Modify the column names as dark color boxes\n",
    "for i, col_name in enumerate(df.columns3):\n",
    "    cell = table3[0, i]\n",
    "    cell.set_text_props(weight='bold', color='white')\n",
    "    cell.set_facecolor('darkgray')"
   ]
  },
  {
   "cell_type": "code",
   "execution_count": 23,
   "id": "fe3000cc",
   "metadata": {},
   "outputs": [
    {
     "name": "stdout",
     "output_type": "stream",
     "text": [
      "Mean:  19.9\n",
      "SD:  29.79\n",
      "Q1:  0.26\n",
      "Q2:  2.19\n",
      "Q3:  31.04\n"
     ]
    }
   ],
   "source": [
    "print(\"Mean: \", round(np.mean(ra)*100,2))\n",
    "print(\"SD: \", round(np.std(ra)*100,2))\n",
    "print(\"Q1: \", round(np.percentile(ra, 25)*100,2)) \n",
    "print(\"Q2: \", round(np.percentile(ra, 50)*100,2)) \n",
    "print(\"Q3: \", round(np.percentile(ra, 75)*100,2))"
   ]
  },
  {
   "cell_type": "code",
   "execution_count": 25,
   "id": "942de371",
   "metadata": {},
   "outputs": [
    {
     "data": {
      "text/plain": [
       "0.021868332825358123"
      ]
     },
     "execution_count": 25,
     "metadata": {},
     "output_type": "execute_result"
    }
   ],
   "source": [
    "np.percentile(ra,50)"
   ]
  },
  {
   "cell_type": "code",
   "execution_count": 21,
   "id": "8c006be2",
   "metadata": {},
   "outputs": [
    {
     "data": {
      "text/plain": [
       "0.8992599832449036"
      ]
     },
     "execution_count": 21,
     "metadata": {},
     "output_type": "execute_result"
    }
   ],
   "source": [
    "ra.max()"
   ]
  },
  {
   "cell_type": "code",
   "execution_count": 26,
   "id": "9a6360de",
   "metadata": {},
   "outputs": [
    {
     "data": {
      "text/plain": [
       "0"
      ]
     },
     "execution_count": 26,
     "metadata": {},
     "output_type": "execute_result"
    }
   ],
   "source": [
    "fai.min()"
   ]
  },
  {
   "cell_type": "code",
   "execution_count": 27,
   "id": "5166a69d",
   "metadata": {},
   "outputs": [
    {
     "data": {
      "text/plain": [
       "9711"
      ]
     },
     "execution_count": 27,
     "metadata": {},
     "output_type": "execute_result"
    }
   ],
   "source": [
    "fai.max()"
   ]
  },
  {
   "cell_type": "code",
   "execution_count": null,
   "id": "17fb2dc5",
   "metadata": {},
   "outputs": [],
   "source": []
  }
 ],
 "metadata": {
  "kernelspec": {
   "display_name": "Python 3",
   "language": "python",
   "name": "python3"
  },
  "language_info": {
   "codemirror_mode": {
    "name": "ipython",
    "version": 3
   },
   "file_extension": ".py",
   "mimetype": "text/x-python",
   "name": "python",
   "nbconvert_exporter": "python",
   "pygments_lexer": "ipython3",
   "version": "3.8.8"
  }
 },
 "nbformat": 4,
 "nbformat_minor": 5
}
