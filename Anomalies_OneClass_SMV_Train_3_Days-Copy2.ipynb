{
 "cells": [
  {
   "cell_type": "markdown",
   "id": "34d704c8",
   "metadata": {},
   "source": [
    "# One Class Support Vector Machines"
   ]
  },
  {
   "cell_type": "markdown",
   "id": "28bc9459",
   "metadata": {},
   "source": [
    "## Importing Libraries"
   ]
  },
  {
   "cell_type": "code",
   "execution_count": 169,
   "id": "619a4882",
   "metadata": {},
   "outputs": [],
   "source": [
    "# Data Processing\n",
    "import numpy as np\n",
    "import pandas as pd\n",
    "from collections import Counter\n",
    "\n",
    "# Importing tde\n",
    "import tde\n",
    "\n",
    "import matplotlib.pyplot as plt\n",
    "\n",
    "# Model and Performance\n",
    "from sklearn.model_selection import train_test_split\n",
    "from sklearn import svm\n",
    "from sklearn.svm import OneClassSVM\n",
    "from sklearn.metrics import classification_report #for model performance evaluation\n",
    "from sklearn.metrics import confusion_matrix\n",
    "\n",
    "from scipy.stats import scoreatpercentile\n",
    "\n",
    "# To generate the for loops\n",
    "import glob\n",
    "import os\n",
    "from matplotlib import ticker"
   ]
  },
  {
   "cell_type": "markdown",
   "id": "a5f293c2",
   "metadata": {},
   "source": [
    "## Data Management"
   ]
  },
  {
   "cell_type": "code",
   "execution_count": 2,
   "id": "9c9f33e6",
   "metadata": {},
   "outputs": [],
   "source": [
    "# READ INFECTION TIME DATA\n",
    "infection_data = pd.read_excel('/Users/yoddmena/Downloads/Research/Telemetry_edited/MRSA - Master sheet.xlsx', index_col=0)\n",
    "\n",
    "# READ AND EXTRACT DATA FROM FOLDER CONTAINING EXCEL SHEETS\n",
    "folder = \"/Users/yoddmena/Downloads/Research/Telemetry_edited/\"\n",
    "files = glob.glob( folder + \"Ex *.xlsx\" ) "
   ]
  },
  {
   "cell_type": "code",
   "execution_count": 3,
   "id": "82a12322",
   "metadata": {},
   "outputs": [],
   "source": [
    "# CREATE A LIST OF TEMPERATURES\n",
    "temp = []\n",
    "\n",
    "for file in files:\n",
    "    df = pd.read_excel(file)\n",
    "    file_temp = df.iloc[:, 3::2]  # slicing the data for only temperature\n",
    "    \n",
    "    # Ensure that the number of minutes matches the number of temperature columns\n",
    "    num_temp_columns = file_temp.shape[1]\n",
    "    \n",
    "    # Iterate over every other column in file_temp\n",
    "    for j in range(0, num_temp_columns):\n",
    "        # Extract the specific temperature column and its corresponding minutes\n",
    "        column_name = file_temp.columns[j]\n",
    "        temperature = file_temp[column_name]\n",
    "        \n",
    "        # Append the temperature and minutes to each lists\n",
    "        temp.append(temperature)"
   ]
  },
  {
   "cell_type": "markdown",
   "id": "c840b13b",
   "metadata": {},
   "source": [
    "## Creating Data Frames"
   ]
  },
  {
   "cell_type": "code",
   "execution_count": 4,
   "id": "805134d4",
   "metadata": {},
   "outputs": [],
   "source": [
    "##### INFECTION DATA\n",
    "infection_data = infection_data.iloc[:,[1,9]]\n",
    "infection_data = infection_data.T # transpose the data\n",
    "\n",
    "infection_data.columns = infection_data.iloc[0] # Assign the values of the first row as the new column names\n",
    "\n",
    "infection_data = infection_data[1:] # Remove the first row (previous column names)\n",
    "\n",
    "\n",
    "##### TEMPERATURE DATA\n",
    "df_temp = pd.DataFrame(temp)\n",
    "df_temp = df_temp.T # transpose the data\n",
    "\n",
    "df_temp.columns = df_temp.columns.astype(str).str.split(' ').str[0] # Rename columns keeping only the first word\n"
   ]
  },
  {
   "cell_type": "markdown",
   "id": "5aebc84a",
   "metadata": {},
   "source": [
    "## Scores"
   ]
  },
  {
   "cell_type": "code",
   "execution_count": 5,
   "id": "db08d8d1",
   "metadata": {},
   "outputs": [],
   "source": [
    "# IMPORTING THE SVM MODEL\n",
    "# this model is from SckiKit Learn\n",
    "model = svm.OneClassSVM()\n",
    "\n",
    "# SIGMOID DEFINITION\n",
    "# we will use the sigmoid function to make our scores be a numerical value that lies between 0 and 1\n",
    "\n",
    "beta = (2/700) # 700 is the largest value\n",
    "def sigmoid(scores, beta):\n",
    "    return 1 / (1 + np.exp(-beta * scores))"
   ]
  },
  {
   "cell_type": "code",
   "execution_count": 170,
   "id": "99abaff9",
   "metadata": {
    "scrolled": false
   },
   "outputs": [
    {
     "name": "stdout",
     "output_type": "stream",
     "text": [
      "Found 'CC006-315' and its infection value is '10300'\n",
      "              precision    recall  f1-score   support\n",
      "\n",
      "Nonanomalies       0.82      1.00      0.90      5980\n",
      "   Anomalies       1.00      0.91      0.95     14324\n",
      "\n",
      "    accuracy                           0.94     20304\n",
      "   macro avg       0.91      0.95      0.93     20304\n",
      "weighted avg       0.95      0.94      0.94     20304\n",
      "\n",
      "====================================\n",
      "Found 'CC006-316' and its infection value is '10300'\n",
      "              precision    recall  f1-score   support\n",
      "\n",
      "Nonanomalies       0.82      1.00      0.90      5980\n",
      "   Anomalies       1.00      0.91      0.95     14324\n",
      "\n",
      "    accuracy                           0.94     20304\n",
      "   macro avg       0.91      0.95      0.93     20304\n",
      "weighted avg       0.95      0.94      0.94     20304\n",
      "\n",
      "====================================\n",
      "Found 'CC006-317' and its infection value is '10300'\n",
      "              precision    recall  f1-score   support\n",
      "\n",
      "Nonanomalies       0.68      1.00      0.81      5980\n",
      "   Anomalies       1.00      0.81      0.89     14324\n",
      "\n",
      "    accuracy                           0.86     20304\n",
      "   macro avg       0.84      0.90      0.85     20304\n",
      "weighted avg       0.91      0.86      0.87     20304\n",
      "\n",
      "====================================\n",
      "Found 'CC019-1392' and its infection value is '10300'\n",
      "              precision    recall  f1-score   support\n",
      "\n",
      "Nonanomalies       0.31      0.99      0.47      5980\n",
      "   Anomalies       0.95      0.09      0.16     14324\n",
      "\n",
      "    accuracy                           0.35     20304\n",
      "   macro avg       0.63      0.54      0.32     20304\n",
      "weighted avg       0.76      0.35      0.25     20304\n",
      "\n",
      "====================================\n",
      "No match found for mouse 'CC019-1393'\n",
      "====================================\n",
      "Found 'CC043-455' and its infection value is '10300'\n"
     ]
    },
    {
     "name": "stderr",
     "output_type": "stream",
     "text": [
      "/Users/yoddmena/opt/anaconda3/lib/python3.8/site-packages/sklearn/metrics/_classification.py:1245: UndefinedMetricWarning: Precision and F-score are ill-defined and being set to 0.0 in labels with no predicted samples. Use `zero_division` parameter to control this behavior.\n",
      "  _warn_prf(average, modifier, msg_start, len(result))\n",
      "/Users/yoddmena/opt/anaconda3/lib/python3.8/site-packages/sklearn/metrics/_classification.py:1245: UndefinedMetricWarning: Precision and F-score are ill-defined and being set to 0.0 in labels with no predicted samples. Use `zero_division` parameter to control this behavior.\n",
      "  _warn_prf(average, modifier, msg_start, len(result))\n",
      "/Users/yoddmena/opt/anaconda3/lib/python3.8/site-packages/sklearn/metrics/_classification.py:1245: UndefinedMetricWarning: Precision and F-score are ill-defined and being set to 0.0 in labels with no predicted samples. Use `zero_division` parameter to control this behavior.\n",
      "  _warn_prf(average, modifier, msg_start, len(result))\n"
     ]
    },
    {
     "name": "stdout",
     "output_type": "stream",
     "text": [
      "              precision    recall  f1-score   support\n",
      "\n",
      "Nonanomalies       0.29      1.00      0.46      5980\n",
      "   Anomalies       0.00      0.00      0.00     14324\n",
      "\n",
      "    accuracy                           0.29     20304\n",
      "   macro avg       0.15      0.50      0.23     20304\n",
      "weighted avg       0.09      0.29      0.13     20304\n",
      "\n",
      "====================================\n",
      "Found 'CC043-456' and its infection value is '10300'\n",
      "              precision    recall  f1-score   support\n",
      "\n",
      "Nonanomalies       0.36      0.96      0.52      5980\n",
      "   Anomalies       0.95      0.27      0.42     14324\n",
      "\n",
      "    accuracy                           0.48     20304\n",
      "   macro avg       0.65      0.62      0.47     20304\n",
      "weighted avg       0.77      0.48      0.45     20304\n",
      "\n",
      "====================================\n",
      "Found 'CC043-457' and its infection value is '10300'\n"
     ]
    },
    {
     "name": "stderr",
     "output_type": "stream",
     "text": [
      "/Users/yoddmena/opt/anaconda3/lib/python3.8/site-packages/sklearn/metrics/_classification.py:1245: UndefinedMetricWarning: Precision and F-score are ill-defined and being set to 0.0 in labels with no predicted samples. Use `zero_division` parameter to control this behavior.\n",
      "  _warn_prf(average, modifier, msg_start, len(result))\n",
      "/Users/yoddmena/opt/anaconda3/lib/python3.8/site-packages/sklearn/metrics/_classification.py:1245: UndefinedMetricWarning: Precision and F-score are ill-defined and being set to 0.0 in labels with no predicted samples. Use `zero_division` parameter to control this behavior.\n",
      "  _warn_prf(average, modifier, msg_start, len(result))\n",
      "/Users/yoddmena/opt/anaconda3/lib/python3.8/site-packages/sklearn/metrics/_classification.py:1245: UndefinedMetricWarning: Precision and F-score are ill-defined and being set to 0.0 in labels with no predicted samples. Use `zero_division` parameter to control this behavior.\n",
      "  _warn_prf(average, modifier, msg_start, len(result))\n"
     ]
    },
    {
     "name": "stdout",
     "output_type": "stream",
     "text": [
      "              precision    recall  f1-score   support\n",
      "\n",
      "Nonanomalies       0.29      1.00      0.46      5980\n",
      "   Anomalies       0.00      0.00      0.00     14324\n",
      "\n",
      "    accuracy                           0.29     20304\n",
      "   macro avg       0.15      0.50      0.23     20304\n",
      "weighted avg       0.09      0.29      0.13     20304\n",
      "\n",
      "====================================\n",
      "Found 'CC051-489' and its infection value is '10300'\n",
      "              precision    recall  f1-score   support\n",
      "\n",
      "Nonanomalies       0.31      0.99      0.47      5980\n",
      "   Anomalies       0.95      0.06      0.12     14324\n",
      "\n",
      "    accuracy                           0.34     20304\n",
      "   macro avg       0.63      0.53      0.29     20304\n",
      "weighted avg       0.76      0.34      0.22     20304\n",
      "\n",
      "====================================\n",
      "Found 'CC051-490' and its infection value is '10300'\n",
      "              precision    recall  f1-score   support\n",
      "\n",
      "Nonanomalies       0.39      1.00      0.56      5980\n",
      "   Anomalies       1.00      0.35      0.52     14324\n",
      "\n",
      "    accuracy                           0.54     20304\n",
      "   macro avg       0.69      0.67      0.54     20304\n",
      "weighted avg       0.82      0.54      0.53     20304\n",
      "\n",
      "====================================\n",
      "Key 'first_anom_inf' not found for infection time 10300\n",
      "Statistics for Infection Time 10300:\n",
      "Minimum Score:\n",
      "  Average: 225.98793998357507\n",
      "  Standard Deviation: 50.9998831629074\n",
      "  Quartiles: Q1=212.29037014244363, Median=220.4569600410759, Q3=267.52007264767286\n"
     ]
    },
    {
     "data": {
      "text/plain": [
       "'\\n\\nprint(\"Average Minimum Scores by Infection Time:\", average_min_scores_by_infection_time)\\n    \\nfor infection_time, results in results_by_infection_time.items():\\n    print(f\"Results for infection time {infection_time}:\")\\n    print(\"Min Scores:\", results[\\'min_scores\\'])\\n    print(\"First Anomaly Train:\", results[\\'first_anom_train\\'])\\n    # ... print other results ...\\n    print(\"====================================\")\\n    ##################################################################\\n    \\n '"
      ]
     },
     "execution_count": 170,
     "metadata": {},
     "output_type": "execute_result"
    },
    {
     "data": {
      "image/png": "[encoded data removed]",
      "text/plain": [
       "<Figure size 1080x720 with 2 Axes>"
      ]
     },
     "metadata": {},
     "output_type": "display_data"
    }
   ],
   "source": [
    "fig,ax = plt.subplots(2,1,figsize=(15,10), sharex = False)\n",
    "fig.set_facecolor(\"white\")\n",
    "#classifier_tree = DecisionTreeClassifier()\n",
    "train_end = 4320\n",
    "shift = 2*360 # since the period is 6 hours (360) and we do this twice\n",
    "\n",
    "# LISTS\n",
    "\n",
    "# Create a dictionary to store results based on infection time\n",
    "results_by_infection_time = {}\n",
    "\n",
    "# First anomalies after infection\n",
    "'''\n",
    "min_scores = []\n",
    "first_anom_train = []\n",
    "first_anom_inf = []\n",
    "score_train = []\n",
    "score_infec = []\n",
    "tpr = []\n",
    "'''\n",
    "\n",
    "for i in range(0, 10): #df_temp.shape[1]\n",
    "    ax[0].cla()  # clear axis 0-1\n",
    "    ax[1].cla()\n",
    "    \n",
    "    #mice_min = range(0, df_temp.shape[0]) # Get the specific minutes for the current temperature time series\n",
    "    \n",
    "    temp_value = df_temp.iloc[:, i] # extract the temperature values for the current column\n",
    "    mice_temp = df_temp.iloc[:, i].to_frame() # converting temp list to data frame\n",
    "    \n",
    "    names = mice_temp.columns[0] # get the column name for the current file\n",
    "    \n",
    "    ##################################################################\n",
    "    # Finding Infection Time\n",
    "    matching_columns = set(mice_temp.columns).intersection(infection_data.columns)\n",
    "    \n",
    "    if matching_columns:\n",
    "        column_name = matching_columns.pop()\n",
    "        infection_time = infection_data.loc['Aprprox Infection Minute', column_name]\n",
    "        print(f\"Found '{column_name}' and its infection value is '{infection_time}'\")\n",
    "        ##################################################################\n",
    "        # Filing in missing data\n",
    "        temp_value_fw = temp_value.fillna(method='ffill') # foward fill\n",
    "        temp_value_bw = temp_value_fw.fillna(method='bfill') # backward fill after forward fill\n",
    "\n",
    "        # Time Delay Embedding\n",
    "        temp_tde = tde.tde(temp_value_bw) # using the tde file\n",
    "        temp_tde = temp_tde.T # transporting the data\n",
    "\n",
    "        ##################################################################\n",
    "        # Fit the Data on the first 3 days (3*24*60) \n",
    "        model.fit(temp_tde[:train_end+1,:])\n",
    "\n",
    "        # Predict the Data\n",
    "        predict_train_data = model.predict(temp_tde[:train_end+1,:]) # predict on training data\n",
    "        predict_test_data = model.predict(temp_tde[train_end+1:,:]) # predicting on test data\n",
    "\n",
    "        # Scores\n",
    "        scores_train_data = model.score_samples(temp_tde[:train_end+1,:]) # scores on training data \n",
    "        scores_test_data = model.score_samples(temp_tde[train_end+1:,:]) # scores on test data\n",
    "\n",
    "        threshold = model.offset_\n",
    "\n",
    "        ##################################################################\n",
    "        # Combine training and testing scores and predictions\n",
    "        combined_scores= np.concatenate((scores_train_data, scores_test_data), axis=0)\n",
    "        combined_predictions = np.concatenate((predict_train_data, predict_test_data), axis=0)\n",
    "\n",
    "        time = np.arange(temp_tde.shape[0])+(shift) # 2 times the time delay shift\n",
    "\n",
    "        # Minimum score\n",
    "        min_score = scores_train_data.min()\n",
    "\n",
    "        # Find the indices of the anomalies\n",
    "        anomaly_indices = np.where(combined_scores <= min_score)[0] #finding the values where its -1 (anomaly)\n",
    "        time_2 = anomaly_indices + (shift) # shifting the time for plotting\n",
    "        \n",
    "        ##################################################################\n",
    "        # Find the index at which the first score is less than min_score\n",
    "        boolean = combined_scores < min_score\n",
    "        anom_train = np.argmax(boolean) # first anomaly after training period\n",
    "        anom_infec = np.argmax(boolean[infection_time-shift:]) + infection_time # first anomaly after infection period\n",
    "\n",
    "        \n",
    "        # Set up for classification report\n",
    "        dataset_len_train = len(combined_scores)+shift-train_end # finding the length of the testing dataset\n",
    "        train_to_inf = combined_scores[train_end-shift : infection_time-shift]\n",
    "        post_inf = combined_scores[infection_time-shift : ]\n",
    "        true_neg = np.zeros(len(train_to_inf))\n",
    "        true_pos = np.ones(len(post_inf))\n",
    "        y_true = np.append(true_neg, true_pos, axis=0)  # Appends along row\n",
    "        \n",
    "        #y_true = np.ones(dataset_len_train) # creating an array of zeroes of that length\n",
    "        ones_and_zeros_array = boolean.astype(int) # turning boolean outcomes into ones and zeros\n",
    "        y_pred = ones_and_zeros_array[train_end-shift: ]\n",
    "        target_names = ['Nonanomalies', 'Anomalies']\n",
    "        print(classification_report(y_true, y_pred, target_names=target_names))\n",
    "        cm = confusion_matrix(y_true, y_pred, labels = [0,1])\n",
    "        \n",
    "        \n",
    "        # Get the corresponding value\n",
    "        value = combined_scores[anom_train]\n",
    "        value_1 = combined_scores[anom_infec-shift]\n",
    "\n",
    "        # Calculating the time first anomaly was found after training and infection\n",
    "        time_aft_train = (anom_train + shift) - train_end\n",
    "        time_aft_infection = anom_infec - infection_time\n",
    "\n",
    "        # Calculating the amount of false negatives (between end of train and infection time)\n",
    "        #count_false_neg = np.count_nonzero(boolean[train_end:infection_time])\n",
    "        count_false_neg = np.count_nonzero(ones_and_zeros_array[infection_time-shift : ] == 0)\n",
    "        \n",
    "        # Calculating the amount of true positives (infection time)\n",
    "        #count_true_pos = np.count_nonzero(boolean[infection_time:]) \n",
    "        count_true_pos = np.count_nonzero(ones_and_zeros_array[infection_time-shift : ] == 1)\n",
    "        \n",
    "        # Calculating true positive rate\n",
    "        # Check if the denominator is zero\n",
    "        if (count_true_pos + count_false_neg) == 0:\n",
    "            print(\"N/A\")\n",
    "            continue  # Skip this iteration and move to the next number\n",
    "        \n",
    "        TPR = count_true_pos / (count_true_pos + count_false_neg)\n",
    "        \n",
    "        if infection_time in results_by_infection_time:\n",
    "            results_by_infection_time[infection_time]['min_scores'].append(min_score)\n",
    "            results_by_infection_time[infection_time]['first_anom_train'].append(time_aft_train)\n",
    "            results_by_infection_time[infection_time]['score_train'].append(value)\n",
    "            results_by_infection_time[infection_time]['score_infec'].append(value_1)\n",
    "            results_by_infection_time[infection_time]['tpr'].append(TPR)\n",
    "            \n",
    "        else:\n",
    "            results_by_infection_time[infection_time] = {\n",
    "                'min_scores': [min_score],\n",
    "                'first_anom_train': [time_aft_train],\n",
    "                'score_train': [value],\n",
    "                'score_infec': [value_1],\n",
    "                'tpr': [TPR],\n",
    "                \n",
    "            }\n",
    "        \n",
    "        ##################################################################\n",
    "        '''\n",
    "        # Plotting 2nd Graph\n",
    "        ax[1].plot(time, combined_scores, '-', color='#6693F5', alpha=0.75)  # Plot the scores with blue color #[:100]\n",
    "        ax[1].plot(time_2, combined_scores[anomaly_indices], '', color='purple') #coloring anomalies\n",
    "        ax[1].grid()\n",
    "        ax[1].set_ylabel(\"Score\", fontsize=14)\n",
    "        ax[1].set_xlabel(\"Minutes\", fontsize=14)\n",
    "        ax[1].set_title(f\"Anomalies found using our threshold for '{names}'\", fontsize=14)\n",
    "        #ax[1].set_xlim(infection_time-5,infection_time+30)\n",
    "        ax[1].set_xlim(-10,26000)\n",
    "        ax[1].set_ylim(0,700)\n",
    "\n",
    "        ##################################################################\n",
    "        # Plotting Horizontal and Vertical Lines\n",
    "        ax[1].axvline(x = anom_train+shift, color='blue', linestyle='--', label='First anomaly after training') # when the first value is less the minimum value\n",
    "        ax[1].axvline(x = train_end, color='green', linestyle='-', label='End of training data')\n",
    "        ax[1].axhline(y=min_score, color='red', linestyle='-', label='Threshold')\n",
    "        ax[1].axvline(x = anom_infec, color='orange', linestyle ='-', label='First anomaly after infection')\n",
    "        #ax[1].axhline(y=value, color='blue', linestyle='--', label='value')\n",
    "        #ax[1].axhline(y=value_1, color='orange', linestyle='-', label='value_1')\n",
    "        ax[1].legend()\n",
    "\n",
    "        ##################################################################\n",
    "        # Print Values\n",
    "        print(\"Minimum Score: \", min_score)\n",
    "        print(\"After Training Min: \", anom_train+shift)\n",
    "        print(\"After Infection Min: \", anom_infec)\n",
    "        print(f\"First anomaly found after training: {time_aft_train} minutes with score {value}\")\n",
    "        print(f\"First anomaly found after infection: {time_aft_infection} minutes with score {value_1}\")\n",
    "        print(f\"True Positve Rate: {TPR*100}%\")\n",
    "        \n",
    "        '''\n",
    "\n",
    "        ##################################################################\n",
    "        # Appending to Lists\n",
    "        min_scores.append(min_score)\n",
    "        first_anom_train.append(time_aft_train)\n",
    "        first_anom_inf.append(time_aft_infection)\n",
    "        score_train.append(value)\n",
    "        score_infec.append(value_1)\n",
    "        tpr.append(TPR)\n",
    "    \n",
    "    else:\n",
    "        print(f\"No match found for mouse '{names}'\")\n",
    "    \n",
    "    print(\"====================================\")\n",
    "    \n",
    "\n",
    "# Calculate statistics for each infection time\n",
    "statistics_by_infection_time = {}\n",
    "\n",
    "for infection_time, results in results_by_infection_time.items():\n",
    "    min_scores = results['min_scores']\n",
    "    first_anom_train = results['first_anom_train']\n",
    "    #first_anom_inf = results['first_anom_inf']\n",
    "    score_train = results['score_train']\n",
    "    score_infec = results['score_infec']\n",
    "    tpr = results['tpr']\n",
    "    if 'first_anom_inf' in results:\n",
    "        # Access the key and perform calculations\n",
    "        first_anom_inf = results['first_anom_inf']\n",
    "        # ... perform calculations ...\n",
    "    else:\n",
    "        print(f\"Key 'first_anom_inf' not found for infection time {infection_time}\")\n",
    "\n",
    "    statistics = {\n",
    "        'average_min_score': np.mean(min_scores),\n",
    "        'std_min_score': np.std(min_scores),\n",
    "        'q1_min_score': scoreatpercentile(min_scores, 25),\n",
    "        'median_min_score': np.median(min_scores),\n",
    "        'q3_min_score': scoreatpercentile(min_scores, 75),\n",
    "\n",
    "        'average_first_anom_train': np.mean(first_anom_train),\n",
    "        'std_first_anom_train': np.std(first_anom_train),\n",
    "        'q1_first_anom_train': scoreatpercentile(first_anom_train, 25),\n",
    "        'median_first_anom_train': np.median(first_anom_train),\n",
    "        'q3_first_anom_train': scoreatpercentile(first_anom_train, 75),\n",
    "\n",
    "        'average_first_anom_inf': np.mean(first_anom_inf),\n",
    "        'std_first_anom_inf': np.std(first_anom_inf),\n",
    "        'q1_first_anom_inf': scoreatpercentile(first_anom_inf, 25),\n",
    "        'median_first_anom_inf': np.median(first_anom_inf),\n",
    "        'q3_first_anom_inf': scoreatpercentile(first_anom_inf, 75),\n",
    "\n",
    "        'average_score_train': np.mean(score_train),\n",
    "        'std_score_train': np.std(score_train),\n",
    "        'q1_score_train': scoreatpercentile(score_train, 25),\n",
    "        'median_score_train': np.median(score_train),\n",
    "        'q3_score_train': scoreatpercentile(score_train, 75),\n",
    "\n",
    "        'average_score_infec': np.mean(score_infec),\n",
    "        'std_score_infec': np.std(score_infec),\n",
    "        'q1_score_infec': scoreatpercentile(score_infec, 25),\n",
    "        'median_score_infec': np.median(score_infec),\n",
    "        'q3_score_infec': scoreatpercentile(score_infec, 75),\n",
    "\n",
    "        'average_tpr': np.mean(tpr),\n",
    "        'std_tpr': np.std(tpr),\n",
    "        'q1_tpr': scoreatpercentile(tpr, 25),\n",
    "        'median_tpr': np.median(tpr),\n",
    "        'q3_tpr': scoreatpercentile(tpr, 75)\n",
    "    }\n",
    "\n",
    "    statistics_by_infection_time[infection_time] = statistics\n",
    "\n",
    "# Print statistics for each infection time\n",
    "for infection_time, statistics in statistics_by_infection_time.items():\n",
    "    print(f\"Statistics for Infection Time {infection_time}:\")\n",
    "    print(\"Minimum Score:\")\n",
    "    print(f\"Average: {statistics['average_min_score']}\")\n",
    "    print(f\"Standard Deviation: {statistics['std_min_score']}\")\n",
    "    print(f\"Quartiles: Q1={statistics['q1_min_score']}, Median={statistics['median_min_score']}, Q3={statistics['q3_min_score']}\")\n",
    "    \n",
    "    \n",
    "    \n",
    "    \n",
    "    \n",
    "    \n",
    "    \n",
    "    \n",
    "    \n",
    "    \n",
    "    \n",
    "'''\n",
    "\n",
    "print(\"Average Minimum Scores by Infection Time:\", average_min_scores_by_infection_time)\n",
    "    \n",
    "for infection_time, results in results_by_infection_time.items():\n",
    "    print(f\"Results for infection time {infection_time}:\")\n",
    "    print(\"Min Scores:\", results['min_scores'])\n",
    "    print(\"First Anomaly Train:\", results['first_anom_train'])\n",
    "    # ... print other results ...\n",
    "    print(\"====================================\")\n",
    "    ##################################################################\n",
    "    \n",
    " '''   "
   ]
  },
  {
   "cell_type": "code",
   "execution_count": 163,
   "id": "6cb6ac88",
   "metadata": {},
   "outputs": [
    {
     "data": {
      "text/plain": [
       "[267.52007264767286,\n",
       " 274.82851288077353,\n",
       " 293.83288135042164,\n",
       " 212.29037014244363,\n",
       " 109.43155702017589,\n",
       " 220.4569600410759,\n",
       " 201.27038915324266,\n",
       " 238.9300181242933,\n",
       " 215.330698492076,\n",
       " 200.84077753916517,\n",
       " 97.80512594093989,\n",
       " 177.56524083948625,\n",
       " 186.45145706278555,\n",
       " 319.4026227352844,\n",
       " 239.14555898873255,\n",
       " 229.20471042009228,\n",
       " 311.34595649359363,\n",
       " 272.73784284600475,\n",
       " 313.92807550387613]"
      ]
     },
     "execution_count": 163,
     "metadata": {},
     "output_type": "execute_result"
    }
   ],
   "source": [
    "min_scores"
   ]
  },
  {
   "cell_type": "code",
   "execution_count": 140,
   "id": "7bbb677c",
   "metadata": {},
   "outputs": [
    {
     "data": {
      "text/plain": [
       "5980"
      ]
     },
     "execution_count": 140,
     "metadata": {},
     "output_type": "execute_result"
    }
   ],
   "source": [
    "20304- 14324"
   ]
  },
  {
   "cell_type": "code",
   "execution_count": 139,
   "id": "8b38eeb3",
   "metadata": {},
   "outputs": [
    {
     "data": {
      "text/plain": [
       "20304"
      ]
     },
     "execution_count": 139,
     "metadata": {},
     "output_type": "execute_result"
    }
   ],
   "source": [
    "len(true_neg)+len(true_pos)"
   ]
  },
  {
   "cell_type": "code",
   "execution_count": 76,
   "id": "6385c189",
   "metadata": {},
   "outputs": [
    {
     "data": {
      "text/plain": [
       "14324"
      ]
     },
     "execution_count": 76,
     "metadata": {},
     "output_type": "execute_result"
    }
   ],
   "source": [
    "shift+len(boolean)-infection_time"
   ]
  },
  {
   "cell_type": "code",
   "execution_count": 155,
   "id": "7cbcba91",
   "metadata": {},
   "outputs": [
    {
     "data": {
      "text/plain": [
       "array([[ 5980,     0],\n",
       "       [ 1316, 13008]])"
      ]
     },
     "execution_count": 155,
     "metadata": {},
     "output_type": "execute_result"
    }
   ],
   "source": [
    "cm"
   ]
  },
  {
   "cell_type": "code",
   "execution_count": null,
   "id": "541941bc",
   "metadata": {},
   "outputs": [],
   "source": [
    "\n"
   ]
  },
  {
   "cell_type": "code",
   "execution_count": 53,
   "id": "8cd62489",
   "metadata": {},
   "outputs": [],
   "source": [
    "array=np.array([0,1,2,3,4,5,6,7,8,9,10,11,12,13,14,15,16,17,18,19,20])\n",
    "array1 = np.array([3,4,5,6,7,8,9,10,11,12,13,14,15,16,17,18,19,20])\n",
    "do=4"
   ]
  },
  {
   "cell_type": "code",
   "execution_count": 58,
   "id": "3bf68c87",
   "metadata": {},
   "outputs": [
    {
     "data": {
      "text/plain": [
       "4"
      ]
     },
     "execution_count": 58,
     "metadata": {},
     "output_type": "execute_result"
    }
   ],
   "source": [
    "array[4]"
   ]
  },
  {
   "cell_type": "code",
   "execution_count": 59,
   "id": "eeeadaf9",
   "metadata": {},
   "outputs": [
    {
     "data": {
      "text/plain": [
       "4"
      ]
     },
     "execution_count": 59,
     "metadata": {},
     "output_type": "execute_result"
    }
   ],
   "source": [
    "array1[4-do]"
   ]
  },
  {
   "cell_type": "code",
   "execution_count": 62,
   "id": "42edf3e9",
   "metadata": {},
   "outputs": [
    {
     "name": "stdout",
     "output_type": "stream",
     "text": [
      "<function confusion_matrix at 0x7fedc19cfa60>\n"
     ]
    }
   ],
   "source": [
    "cm"
   ]
  },
  {
   "cell_type": "code",
   "execution_count": 120,
   "id": "50d44dc5",
   "metadata": {},
   "outputs": [
    {
     "name": "stdout",
     "output_type": "stream",
     "text": [
      "[1 0 1 0 1]\n"
     ]
    },
    {
     "name": "stderr",
     "output_type": "stream",
     "text": [
      "<ipython-input-120-dd5f1c5e1983>:5: DeprecationWarning: `np.int` is a deprecated alias for the builtin `int`. To silence this warning, use `int` by itself. Doing this will not modify any behavior and is safe. When replacing `np.int`, you may wish to use e.g. `np.int64` or `np.int32` to specify the precision. If you wish to review your current use, check the release note link for additional information.\n",
      "Deprecated in NumPy 1.20; for more details and guidance: https://numpy.org/devdocs/release/1.20.0-notes.html#deprecations\n",
      "  ones_and_zeros = boolean_array.astype(np.int)\n"
     ]
    }
   ],
   "source": [
    "# Example boolean array\n",
    "boolean_array = np.array([True, False, True, False, True])\n",
    "\n",
    "# Convert boolean array to ones and zeros\n",
    "ones_and_zeros = boolean_array.astype(np.int)\n",
    "\n",
    "print(ones_and_zeros)"
   ]
  },
  {
   "cell_type": "code",
   "execution_count": 112,
   "id": "c5dab0ee",
   "metadata": {},
   "outputs": [
    {
     "data": {
      "text/plain": [
       "0"
      ]
     },
     "execution_count": 112,
     "metadata": {},
     "output_type": "execute_result"
    }
   ],
   "source": [
    "bool_val"
   ]
  },
  {
   "cell_type": "code",
   "execution_count": 144,
   "id": "19002089",
   "metadata": {},
   "outputs": [
    {
     "name": "stdout",
     "output_type": "stream",
     "text": [
      "Number of zeros: 5\n"
     ]
    }
   ],
   "source": [
    "my_array = np.array([0, 1, 0, 0, 1, 0, 1, 1, 0])\n",
    "\n",
    "# Count the number of zeros in the array\n",
    "num_zeros = np.count_nonzero(my_array == 0)\n",
    "\n",
    "print(\"Number of zeros:\", num_zeros)"
   ]
  },
  {
   "cell_type": "code",
   "execution_count": null,
   "id": "490c96cf",
   "metadata": {},
   "outputs": [],
   "source": []
  }
 ],
 "metadata": {
  "kernelspec": {
   "display_name": "Python 3",
   "language": "python",
   "name": "python3"
  },
  "language_info": {
   "codemirror_mode": {
    "name": "ipython",
    "version": 3
   },
   "file_extension": ".py",
   "mimetype": "text/x-python",
   "name": "python",
   "nbconvert_exporter": "python",
   "pygments_lexer": "ipython3",
   "version": "3.8.8"
  }
 },
 "nbformat": 4,
 "nbformat_minor": 5
}
