{
 "cells": [
  {
   "cell_type": "markdown",
   "id": "b4d802a7",
   "metadata": {},
   "source": [
    "### IMPORTING LIBRARIES"
   ]
  },
  {
   "cell_type": "code",
   "execution_count": 1,
   "id": "827f31a9",
   "metadata": {},
   "outputs": [],
   "source": [
    "# Data Processing\n",
    "import numpy as np\n",
    "import pandas as pd\n",
    "from collections import Counter\n",
    "\n",
    "# Importing tde\n",
    "import tde\n",
    "\n",
    "# Visualization\n",
    "import matplotlib.pyplot as plt\n",
    "\n",
    "# Model and Performance\n",
    "from sklearn.model_selection import train_test_split\n",
    "from sklearn.svm import OneClassSVM\n",
    "from sklearn.metrics import classification_report #for model performance evaluation"
   ]
  },
  {
   "cell_type": "code",
   "execution_count": 2,
   "id": "699347b6",
   "metadata": {},
   "outputs": [
    {
     "data": {
      "text/html": [
       "<div>\n",
       "<style scoped>\n",
       "    .dataframe tbody tr th:only-of-type {\n",
       "        vertical-align: middle;\n",
       "    }\n",
       "\n",
       "    .dataframe tbody tr th {\n",
       "        vertical-align: top;\n",
       "    }\n",
       "\n",
       "    .dataframe thead th {\n",
       "        text-align: right;\n",
       "    }\n",
       "</style>\n",
       "<table border=\"1\" class=\"dataframe\">\n",
       "  <thead>\n",
       "    <tr style=\"text-align: right;\">\n",
       "      <th></th>\n",
       "      <th>Minutes</th>\n",
       "      <th>Date</th>\n",
       "      <th>Time</th>\n",
       "      <th>B6-100 Exp. 1 MRSA Deg. C Data</th>\n",
       "      <th>B6-100 Exp. 1 MRSA Cnts Data</th>\n",
       "      <th>B6-101 Exp. 1 MRSA Deg. C Data</th>\n",
       "      <th>B6-101 Exp. 1 MRSA Cnts Data</th>\n",
       "      <th>CC002-557 Exp. 1 MRSA Deg. C Data</th>\n",
       "      <th>CC002-557 Exp. 1 MRSA Cnts Data</th>\n",
       "      <th>CC002-558 Exp. 1 MRSA Deg. C Data</th>\n",
       "      <th>...</th>\n",
       "      <th>CC015-392 Exp. 1 MRSA Deg. C Data</th>\n",
       "      <th>CC015-392 Exp. 1 MRSA Cnts Data</th>\n",
       "      <th>CC038-582 Exp. 1 MRSA Deg. C Data</th>\n",
       "      <th>CC038-582 Exp. 1 MRSA Cnts Data</th>\n",
       "      <th>CC038-583 Exp. 1 MRSA Deg. C Data</th>\n",
       "      <th>CC038-583 Exp. 1 MRSA Cnts Data</th>\n",
       "      <th>CC051-495 Exp. 1 MRSA Deg. C Data</th>\n",
       "      <th>CC051-495 Exp. 1 MRSA Cnts Data</th>\n",
       "      <th>CC051-496 Exp. 1 MRSA Deg. C Data</th>\n",
       "      <th>CC051-496 Exp. 1 MRSA Cnts Data</th>\n",
       "    </tr>\n",
       "  </thead>\n",
       "  <tbody>\n",
       "    <tr>\n",
       "      <th>0</th>\n",
       "      <td>1</td>\n",
       "      <td>2019-04-26</td>\n",
       "      <td>13:10:47</td>\n",
       "      <td>NaN</td>\n",
       "      <td>0.0</td>\n",
       "      <td>NaN</td>\n",
       "      <td>0.0</td>\n",
       "      <td>NaN</td>\n",
       "      <td>0.0</td>\n",
       "      <td>NaN</td>\n",
       "      <td>...</td>\n",
       "      <td>NaN</td>\n",
       "      <td>0.0</td>\n",
       "      <td>NaN</td>\n",
       "      <td>0.0</td>\n",
       "      <td>NaN</td>\n",
       "      <td>0.0</td>\n",
       "      <td>NaN</td>\n",
       "      <td>0.0</td>\n",
       "      <td>NaN</td>\n",
       "      <td>0.0</td>\n",
       "    </tr>\n",
       "    <tr>\n",
       "      <th>1</th>\n",
       "      <td>2</td>\n",
       "      <td>2019-04-26</td>\n",
       "      <td>13:11:47</td>\n",
       "      <td>NaN</td>\n",
       "      <td>69.0</td>\n",
       "      <td>NaN</td>\n",
       "      <td>19.0</td>\n",
       "      <td>NaN</td>\n",
       "      <td>37.0</td>\n",
       "      <td>NaN</td>\n",
       "      <td>...</td>\n",
       "      <td>NaN</td>\n",
       "      <td>77.0</td>\n",
       "      <td>NaN</td>\n",
       "      <td>38.0</td>\n",
       "      <td>NaN</td>\n",
       "      <td>39.0</td>\n",
       "      <td>NaN</td>\n",
       "      <td>74.0</td>\n",
       "      <td>NaN</td>\n",
       "      <td>31.0</td>\n",
       "    </tr>\n",
       "    <tr>\n",
       "      <th>2</th>\n",
       "      <td>3</td>\n",
       "      <td>2019-04-26</td>\n",
       "      <td>13:12:47</td>\n",
       "      <td>37.54</td>\n",
       "      <td>8.0</td>\n",
       "      <td>37.82</td>\n",
       "      <td>46.0</td>\n",
       "      <td>37.50</td>\n",
       "      <td>60.0</td>\n",
       "      <td>37.79</td>\n",
       "      <td>...</td>\n",
       "      <td>39.34</td>\n",
       "      <td>64.0</td>\n",
       "      <td>38.80</td>\n",
       "      <td>42.0</td>\n",
       "      <td>38.37</td>\n",
       "      <td>67.0</td>\n",
       "      <td>38.16</td>\n",
       "      <td>39.0</td>\n",
       "      <td>38.02</td>\n",
       "      <td>19.0</td>\n",
       "    </tr>\n",
       "    <tr>\n",
       "      <th>3</th>\n",
       "      <td>4</td>\n",
       "      <td>2019-04-26</td>\n",
       "      <td>13:13:47</td>\n",
       "      <td>37.56</td>\n",
       "      <td>0.0</td>\n",
       "      <td>37.74</td>\n",
       "      <td>35.0</td>\n",
       "      <td>37.64</td>\n",
       "      <td>18.0</td>\n",
       "      <td>37.78</td>\n",
       "      <td>...</td>\n",
       "      <td>39.35</td>\n",
       "      <td>48.0</td>\n",
       "      <td>38.76</td>\n",
       "      <td>26.0</td>\n",
       "      <td>38.31</td>\n",
       "      <td>22.0</td>\n",
       "      <td>38.18</td>\n",
       "      <td>38.0</td>\n",
       "      <td>38.10</td>\n",
       "      <td>47.0</td>\n",
       "    </tr>\n",
       "    <tr>\n",
       "      <th>4</th>\n",
       "      <td>5</td>\n",
       "      <td>2019-04-26</td>\n",
       "      <td>13:14:47</td>\n",
       "      <td>37.50</td>\n",
       "      <td>0.0</td>\n",
       "      <td>37.74</td>\n",
       "      <td>62.0</td>\n",
       "      <td>37.77</td>\n",
       "      <td>13.0</td>\n",
       "      <td>37.72</td>\n",
       "      <td>...</td>\n",
       "      <td>39.36</td>\n",
       "      <td>20.0</td>\n",
       "      <td>38.59</td>\n",
       "      <td>15.0</td>\n",
       "      <td>38.25</td>\n",
       "      <td>23.0</td>\n",
       "      <td>38.16</td>\n",
       "      <td>45.0</td>\n",
       "      <td>38.14</td>\n",
       "      <td>34.0</td>\n",
       "    </tr>\n",
       "  </tbody>\n",
       "</table>\n",
       "<p>5 rows × 27 columns</p>\n",
       "</div>"
      ],
      "text/plain": [
       "   Minutes       Date      Time  B6-100 Exp. 1 MRSA Deg. C Data  \\\n",
       "0        1 2019-04-26  13:10:47                             NaN   \n",
       "1        2 2019-04-26  13:11:47                             NaN   \n",
       "2        3 2019-04-26  13:12:47                           37.54   \n",
       "3        4 2019-04-26  13:13:47                           37.56   \n",
       "4        5 2019-04-26  13:14:47                           37.50   \n",
       "\n",
       "   B6-100 Exp. 1 MRSA Cnts Data  B6-101 Exp. 1 MRSA Deg. C Data  \\\n",
       "0                           0.0                             NaN   \n",
       "1                          69.0                             NaN   \n",
       "2                           8.0                           37.82   \n",
       "3                           0.0                           37.74   \n",
       "4                           0.0                           37.74   \n",
       "\n",
       "   B6-101 Exp. 1 MRSA Cnts Data  CC002-557 Exp. 1 MRSA Deg. C Data  \\\n",
       "0                           0.0                                NaN   \n",
       "1                          19.0                                NaN   \n",
       "2                          46.0                              37.50   \n",
       "3                          35.0                              37.64   \n",
       "4                          62.0                              37.77   \n",
       "\n",
       "   CC002-557 Exp. 1 MRSA Cnts Data  CC002-558 Exp. 1 MRSA Deg. C Data  ...  \\\n",
       "0                              0.0                                NaN  ...   \n",
       "1                             37.0                                NaN  ...   \n",
       "2                             60.0                              37.79  ...   \n",
       "3                             18.0                              37.78  ...   \n",
       "4                             13.0                              37.72  ...   \n",
       "\n",
       "   CC015-392 Exp. 1 MRSA Deg. C Data  CC015-392 Exp. 1 MRSA Cnts Data  \\\n",
       "0                                NaN                              0.0   \n",
       "1                                NaN                             77.0   \n",
       "2                              39.34                             64.0   \n",
       "3                              39.35                             48.0   \n",
       "4                              39.36                             20.0   \n",
       "\n",
       "   CC038-582 Exp. 1 MRSA Deg. C Data  CC038-582 Exp. 1 MRSA Cnts Data  \\\n",
       "0                                NaN                              0.0   \n",
       "1                                NaN                             38.0   \n",
       "2                              38.80                             42.0   \n",
       "3                              38.76                             26.0   \n",
       "4                              38.59                             15.0   \n",
       "\n",
       "   CC038-583 Exp. 1 MRSA Deg. C Data  CC038-583 Exp. 1 MRSA Cnts Data  \\\n",
       "0                                NaN                              0.0   \n",
       "1                                NaN                             39.0   \n",
       "2                              38.37                             67.0   \n",
       "3                              38.31                             22.0   \n",
       "4                              38.25                             23.0   \n",
       "\n",
       "   CC051-495 Exp. 1 MRSA Deg. C Data  CC051-495 Exp. 1 MRSA Cnts Data  \\\n",
       "0                                NaN                              0.0   \n",
       "1                                NaN                             74.0   \n",
       "2                              38.16                             39.0   \n",
       "3                              38.18                             38.0   \n",
       "4                              38.16                             45.0   \n",
       "\n",
       "   CC051-496 Exp. 1 MRSA Deg. C Data  CC051-496 Exp. 1 MRSA Cnts Data  \n",
       "0                                NaN                              0.0  \n",
       "1                                NaN                             31.0  \n",
       "2                              38.02                             19.0  \n",
       "3                              38.10                             47.0  \n",
       "4                              38.14                             34.0  \n",
       "\n",
       "[5 rows x 27 columns]"
      ]
     },
     "execution_count": 2,
     "metadata": {},
     "output_type": "execute_result"
    }
   ],
   "source": [
    "## READING MICE DATA\n",
    "mice = pd.read_excel('/Users/yoddmena/Downloads/Research/Telemetry_edited/Ex01-05_06_19-Edited.xlsx')\n",
    "mice.head()"
   ]
  },
  {
   "cell_type": "code",
   "execution_count": 3,
   "id": "e40971a4",
   "metadata": {},
   "outputs": [
    {
     "data": {
      "text/plain": [
       "[<matplotlib.lines.Line2D at 0x7faad899f2b0>]"
      ]
     },
     "execution_count": 3,
     "metadata": {},
     "output_type": "execute_result"
    },
    {
     "data": {
      "image/png": "[encoded data removed]",
      "text/plain": [
       "<Figure size 432x288 with 1 Axes>"
      ]
     },
     "metadata": {
      "needs_background": "light"
     },
     "output_type": "display_data"
    }
   ],
   "source": [
    "## Selecting columns and the first 5000 rows then plotting \n",
    "x = mice[\"Minutes\"]\n",
    "y = mice[\"B6-100 Exp. 1 MRSA Deg. C Data\"]\n",
    "plt.plot(x[:5000],y[:5000])"
   ]
  },
  {
   "cell_type": "code",
   "execution_count": 4,
   "id": "6cbbe9a9",
   "metadata": {},
   "outputs": [
    {
     "data": {
      "text/plain": [
       "[<matplotlib.lines.Line2D at 0x7faad89d08e0>]"
      ]
     },
     "execution_count": 4,
     "metadata": {},
     "output_type": "execute_result"
    },
    {
     "data": {
      "image/png": "[encoded data removed]",
      "text/plain": [
       "<Figure size 432x288 with 1 Axes>"
      ]
     },
     "metadata": {
      "needs_background": "light"
     },
     "output_type": "display_data"
    }
   ],
   "source": [
    "mask = y.notna() # will keep the true values\n",
    "x1 = x[mask]\n",
    "y1 = y[mask]\n",
    "plt.plot(x1[:5000],y1[:5000])"
   ]
  },
  {
   "cell_type": "code",
   "execution_count": 5,
   "id": "f23334a0",
   "metadata": {},
   "outputs": [
    {
     "data": {
      "text/plain": [
       "225"
      ]
     },
     "execution_count": 5,
     "metadata": {},
     "output_type": "execute_result"
    }
   ],
   "source": [
    "len(x)-len(x1)"
   ]
  },
  {
   "cell_type": "code",
   "execution_count": 10,
   "id": "bc52fc04",
   "metadata": {},
   "outputs": [
    {
     "ename": "AttributeError",
     "evalue": "'numpy.ndarray' object has no attribute 'tde'",
     "output_type": "error",
     "traceback": [
      "\u001b[0;31m---------------------------------------------------------------------------\u001b[0m",
      "\u001b[0;31mAttributeError\u001b[0m                            Traceback (most recent call last)",
      "\u001b[0;32m<ipython-input-10-dcb50af5bdd8>\u001b[0m in \u001b[0;36m<module>\u001b[0;34m\u001b[0m\n\u001b[1;32m      1\u001b[0m \u001b[0;31m#Time Delay Embedding\u001b[0m\u001b[0;34m\u001b[0m\u001b[0;34m\u001b[0m\u001b[0;34m\u001b[0m\u001b[0m\n\u001b[0;32m----> 2\u001b[0;31m \u001b[0mX\u001b[0m \u001b[0;34m=\u001b[0m \u001b[0mtde\u001b[0m\u001b[0;34m.\u001b[0m\u001b[0mtde\u001b[0m\u001b[0;34m(\u001b[0m\u001b[0mx1\u001b[0m\u001b[0;34m)\u001b[0m\u001b[0;34m\u001b[0m\u001b[0;34m\u001b[0m\u001b[0m\n\u001b[0m",
      "\u001b[0;31mAttributeError\u001b[0m: 'numpy.ndarray' object has no attribute 'tde'"
     ]
    }
   ],
   "source": [
    "#Time Delay Embedding\n",
    "X = tde.tde(x1)\n"
   ]
  },
  {
   "cell_type": "markdown",
   "id": "58982eaf",
   "metadata": {},
   "source": [
    "### TRAIN TEST SPLIT\n"
   ]
  },
  {
   "cell_type": "code",
   "execution_count": 7,
   "id": "06474111",
   "metadata": {},
   "outputs": [
    {
     "ename": "SyntaxError",
     "evalue": "invalid syntax (<ipython-input-7-69702e43ca4a>, line 1)",
     "output_type": "error",
     "traceback": [
      "\u001b[0;36m  File \u001b[0;32m\"<ipython-input-7-69702e43ca4a>\"\u001b[0;36m, line \u001b[0;32m1\u001b[0m\n\u001b[0;31m    x_train =\u001b[0m\n\u001b[0m              ^\u001b[0m\n\u001b[0;31mSyntaxError\u001b[0m\u001b[0;31m:\u001b[0m invalid syntax\n"
     ]
    }
   ],
   "source": [
    "x_train = "
   ]
  }
 ],
 "metadata": {
  "kernelspec": {
   "display_name": "Python 3",
   "language": "python",
   "name": "python3"
  },
  "language_info": {
   "codemirror_mode": {
    "name": "ipython",
    "version": 3
   },
   "file_extension": ".py",
   "mimetype": "text/x-python",
   "name": "python",
   "nbconvert_exporter": "python",
   "pygments_lexer": "ipython3",
   "version": "3.8.8"
  }
 },
 "nbformat": 4,
 "nbformat_minor": 5
}
