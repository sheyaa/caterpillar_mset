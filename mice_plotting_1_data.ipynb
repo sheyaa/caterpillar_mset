{
 "cells": [
  {
   "cell_type": "code",
   "execution_count": 1,
   "id": "ca0f6d27",
   "metadata": {},
   "outputs": [],
   "source": [
    "# Data Processing\n",
    "import numpy as np\n",
    "import pandas as pd\n",
    "from collections import Counter\n",
    "\n",
    "# Importing tde\n",
    "import tde\n",
    "\n",
    "# Visualization\n",
    "import matplotlib.pyplot as plt\n",
    "\n",
    "# Model and Performance\n",
    "from sklearn.model_selection import train_test_split\n",
    "from sklearn import svm\n",
    "from sklearn.svm import OneClassSVM\n",
    "from sklearn.metrics import classification_report #for model performance evaluation\n",
    "\n",
    "# To generate the for loops\n",
    "import glob"
   ]
  },
  {
   "cell_type": "code",
   "execution_count": 2,
   "id": "021548a4",
   "metadata": {},
   "outputs": [
    {
     "data": {
      "text/html": [
       "<div>\n",
       "<style scoped>\n",
       "    .dataframe tbody tr th:only-of-type {\n",
       "        vertical-align: middle;\n",
       "    }\n",
       "\n",
       "    .dataframe tbody tr th {\n",
       "        vertical-align: top;\n",
       "    }\n",
       "\n",
       "    .dataframe thead th {\n",
       "        text-align: right;\n",
       "    }\n",
       "</style>\n",
       "<table border=\"1\" class=\"dataframe\">\n",
       "  <thead>\n",
       "    <tr style=\"text-align: right;\">\n",
       "      <th></th>\n",
       "      <th>Minutes</th>\n",
       "      <th>Date</th>\n",
       "      <th>Time</th>\n",
       "      <th>B6-100 Exp. 1 MRSA Deg. C Data</th>\n",
       "      <th>B6-100 Exp. 1 MRSA Cnts Data</th>\n",
       "      <th>B6-101 Exp. 1 MRSA Deg. C Data</th>\n",
       "      <th>B6-101 Exp. 1 MRSA Cnts Data</th>\n",
       "      <th>CC002-557 Exp. 1 MRSA Deg. C Data</th>\n",
       "      <th>CC002-557 Exp. 1 MRSA Cnts Data</th>\n",
       "      <th>CC002-558 Exp. 1 MRSA Deg. C Data</th>\n",
       "      <th>...</th>\n",
       "      <th>CC015-392 Exp. 1 MRSA Deg. C Data</th>\n",
       "      <th>CC015-392 Exp. 1 MRSA Cnts Data</th>\n",
       "      <th>CC038-582 Exp. 1 MRSA Deg. C Data</th>\n",
       "      <th>CC038-582 Exp. 1 MRSA Cnts Data</th>\n",
       "      <th>CC038-583 Exp. 1 MRSA Deg. C Data</th>\n",
       "      <th>CC038-583 Exp. 1 MRSA Cnts Data</th>\n",
       "      <th>CC051-495 Exp. 1 MRSA Deg. C Data</th>\n",
       "      <th>CC051-495 Exp. 1 MRSA Cnts Data</th>\n",
       "      <th>CC051-496 Exp. 1 MRSA Deg. C Data</th>\n",
       "      <th>CC051-496 Exp. 1 MRSA Cnts Data</th>\n",
       "    </tr>\n",
       "  </thead>\n",
       "  <tbody>\n",
       "    <tr>\n",
       "      <th>0</th>\n",
       "      <td>1</td>\n",
       "      <td>2019-04-26</td>\n",
       "      <td>13:10:47</td>\n",
       "      <td>NaN</td>\n",
       "      <td>0.0</td>\n",
       "      <td>NaN</td>\n",
       "      <td>0.0</td>\n",
       "      <td>NaN</td>\n",
       "      <td>0.0</td>\n",
       "      <td>NaN</td>\n",
       "      <td>...</td>\n",
       "      <td>NaN</td>\n",
       "      <td>0.0</td>\n",
       "      <td>NaN</td>\n",
       "      <td>0.0</td>\n",
       "      <td>NaN</td>\n",
       "      <td>0.0</td>\n",
       "      <td>NaN</td>\n",
       "      <td>0.0</td>\n",
       "      <td>NaN</td>\n",
       "      <td>0.0</td>\n",
       "    </tr>\n",
       "    <tr>\n",
       "      <th>1</th>\n",
       "      <td>2</td>\n",
       "      <td>2019-04-26</td>\n",
       "      <td>13:11:47</td>\n",
       "      <td>NaN</td>\n",
       "      <td>69.0</td>\n",
       "      <td>NaN</td>\n",
       "      <td>19.0</td>\n",
       "      <td>NaN</td>\n",
       "      <td>37.0</td>\n",
       "      <td>NaN</td>\n",
       "      <td>...</td>\n",
       "      <td>NaN</td>\n",
       "      <td>77.0</td>\n",
       "      <td>NaN</td>\n",
       "      <td>38.0</td>\n",
       "      <td>NaN</td>\n",
       "      <td>39.0</td>\n",
       "      <td>NaN</td>\n",
       "      <td>74.0</td>\n",
       "      <td>NaN</td>\n",
       "      <td>31.0</td>\n",
       "    </tr>\n",
       "    <tr>\n",
       "      <th>2</th>\n",
       "      <td>3</td>\n",
       "      <td>2019-04-26</td>\n",
       "      <td>13:12:47</td>\n",
       "      <td>37.54</td>\n",
       "      <td>8.0</td>\n",
       "      <td>37.82</td>\n",
       "      <td>46.0</td>\n",
       "      <td>37.50</td>\n",
       "      <td>60.0</td>\n",
       "      <td>37.79</td>\n",
       "      <td>...</td>\n",
       "      <td>39.34</td>\n",
       "      <td>64.0</td>\n",
       "      <td>38.80</td>\n",
       "      <td>42.0</td>\n",
       "      <td>38.37</td>\n",
       "      <td>67.0</td>\n",
       "      <td>38.16</td>\n",
       "      <td>39.0</td>\n",
       "      <td>38.02</td>\n",
       "      <td>19.0</td>\n",
       "    </tr>\n",
       "    <tr>\n",
       "      <th>3</th>\n",
       "      <td>4</td>\n",
       "      <td>2019-04-26</td>\n",
       "      <td>13:13:47</td>\n",
       "      <td>37.56</td>\n",
       "      <td>0.0</td>\n",
       "      <td>37.74</td>\n",
       "      <td>35.0</td>\n",
       "      <td>37.64</td>\n",
       "      <td>18.0</td>\n",
       "      <td>37.78</td>\n",
       "      <td>...</td>\n",
       "      <td>39.35</td>\n",
       "      <td>48.0</td>\n",
       "      <td>38.76</td>\n",
       "      <td>26.0</td>\n",
       "      <td>38.31</td>\n",
       "      <td>22.0</td>\n",
       "      <td>38.18</td>\n",
       "      <td>38.0</td>\n",
       "      <td>38.10</td>\n",
       "      <td>47.0</td>\n",
       "    </tr>\n",
       "    <tr>\n",
       "      <th>4</th>\n",
       "      <td>5</td>\n",
       "      <td>2019-04-26</td>\n",
       "      <td>13:14:47</td>\n",
       "      <td>37.50</td>\n",
       "      <td>0.0</td>\n",
       "      <td>37.74</td>\n",
       "      <td>62.0</td>\n",
       "      <td>37.77</td>\n",
       "      <td>13.0</td>\n",
       "      <td>37.72</td>\n",
       "      <td>...</td>\n",
       "      <td>39.36</td>\n",
       "      <td>20.0</td>\n",
       "      <td>38.59</td>\n",
       "      <td>15.0</td>\n",
       "      <td>38.25</td>\n",
       "      <td>23.0</td>\n",
       "      <td>38.16</td>\n",
       "      <td>45.0</td>\n",
       "      <td>38.14</td>\n",
       "      <td>34.0</td>\n",
       "    </tr>\n",
       "  </tbody>\n",
       "</table>\n",
       "<p>5 rows × 27 columns</p>\n",
       "</div>"
      ],
      "text/plain": [
       "   Minutes       Date      Time  B6-100 Exp. 1 MRSA Deg. C Data  \\\n",
       "0        1 2019-04-26  13:10:47                             NaN   \n",
       "1        2 2019-04-26  13:11:47                             NaN   \n",
       "2        3 2019-04-26  13:12:47                           37.54   \n",
       "3        4 2019-04-26  13:13:47                           37.56   \n",
       "4        5 2019-04-26  13:14:47                           37.50   \n",
       "\n",
       "   B6-100 Exp. 1 MRSA Cnts Data  B6-101 Exp. 1 MRSA Deg. C Data  \\\n",
       "0                           0.0                             NaN   \n",
       "1                          69.0                             NaN   \n",
       "2                           8.0                           37.82   \n",
       "3                           0.0                           37.74   \n",
       "4                           0.0                           37.74   \n",
       "\n",
       "   B6-101 Exp. 1 MRSA Cnts Data  CC002-557 Exp. 1 MRSA Deg. C Data  \\\n",
       "0                           0.0                                NaN   \n",
       "1                          19.0                                NaN   \n",
       "2                          46.0                              37.50   \n",
       "3                          35.0                              37.64   \n",
       "4                          62.0                              37.77   \n",
       "\n",
       "   CC002-557 Exp. 1 MRSA Cnts Data  CC002-558 Exp. 1 MRSA Deg. C Data  ...  \\\n",
       "0                              0.0                                NaN  ...   \n",
       "1                             37.0                                NaN  ...   \n",
       "2                             60.0                              37.79  ...   \n",
       "3                             18.0                              37.78  ...   \n",
       "4                             13.0                              37.72  ...   \n",
       "\n",
       "   CC015-392 Exp. 1 MRSA Deg. C Data  CC015-392 Exp. 1 MRSA Cnts Data  \\\n",
       "0                                NaN                              0.0   \n",
       "1                                NaN                             77.0   \n",
       "2                              39.34                             64.0   \n",
       "3                              39.35                             48.0   \n",
       "4                              39.36                             20.0   \n",
       "\n",
       "   CC038-582 Exp. 1 MRSA Deg. C Data  CC038-582 Exp. 1 MRSA Cnts Data  \\\n",
       "0                                NaN                              0.0   \n",
       "1                                NaN                             38.0   \n",
       "2                              38.80                             42.0   \n",
       "3                              38.76                             26.0   \n",
       "4                              38.59                             15.0   \n",
       "\n",
       "   CC038-583 Exp. 1 MRSA Deg. C Data  CC038-583 Exp. 1 MRSA Cnts Data  \\\n",
       "0                                NaN                              0.0   \n",
       "1                                NaN                             39.0   \n",
       "2                              38.37                             67.0   \n",
       "3                              38.31                             22.0   \n",
       "4                              38.25                             23.0   \n",
       "\n",
       "   CC051-495 Exp. 1 MRSA Deg. C Data  CC051-495 Exp. 1 MRSA Cnts Data  \\\n",
       "0                                NaN                              0.0   \n",
       "1                                NaN                             74.0   \n",
       "2                              38.16                             39.0   \n",
       "3                              38.18                             38.0   \n",
       "4                              38.16                             45.0   \n",
       "\n",
       "   CC051-496 Exp. 1 MRSA Deg. C Data  CC051-496 Exp. 1 MRSA Cnts Data  \n",
       "0                                NaN                              0.0  \n",
       "1                                NaN                             31.0  \n",
       "2                              38.02                             19.0  \n",
       "3                              38.10                             47.0  \n",
       "4                              38.14                             34.0  \n",
       "\n",
       "[5 rows x 27 columns]"
      ]
     },
     "execution_count": 2,
     "metadata": {},
     "output_type": "execute_result"
    }
   ],
   "source": [
    "## READING MICE DATA\n",
    "mice = pd.read_excel('/Users/yoddmena/Downloads/Research/Telemetry_edited/Ex 01 - 05_06_19 - Edited.xlsx')\n",
    "mice.head()"
   ]
  },
  {
   "cell_type": "code",
   "execution_count": 3,
   "id": "facc7568",
   "metadata": {},
   "outputs": [
    {
     "data": {
      "text/html": [
       "<div>\n",
       "<style scoped>\n",
       "    .dataframe tbody tr th:only-of-type {\n",
       "        vertical-align: middle;\n",
       "    }\n",
       "\n",
       "    .dataframe tbody tr th {\n",
       "        vertical-align: top;\n",
       "    }\n",
       "\n",
       "    .dataframe thead th {\n",
       "        text-align: right;\n",
       "    }\n",
       "</style>\n",
       "<table border=\"1\" class=\"dataframe\">\n",
       "  <thead>\n",
       "    <tr style=\"text-align: right;\">\n",
       "      <th></th>\n",
       "      <th>B6-100 Exp. 1 MRSA Deg. C Data</th>\n",
       "      <th>B6-101 Exp. 1 MRSA Deg. C Data</th>\n",
       "      <th>CC002-557 Exp. 1 MRSA Deg. C Data</th>\n",
       "      <th>CC002-558 Exp. 1 MRSA Deg. C Data</th>\n",
       "      <th>CC002-559 Exp. 1 MRSA Deg. C Data</th>\n",
       "      <th>CC015-390 Exp. 1 MRSA Deg. C Data</th>\n",
       "      <th>CC015-391 Exp. 1 MRSA Deg. C Data</th>\n",
       "      <th>CC015-392 Exp. 1 MRSA Deg. C Data</th>\n",
       "      <th>CC038-582 Exp. 1 MRSA Deg. C Data</th>\n",
       "      <th>CC038-583 Exp. 1 MRSA Deg. C Data</th>\n",
       "      <th>CC051-495 Exp. 1 MRSA Deg. C Data</th>\n",
       "      <th>CC051-496 Exp. 1 MRSA Deg. C Data</th>\n",
       "    </tr>\n",
       "  </thead>\n",
       "  <tbody>\n",
       "    <tr>\n",
       "      <th>0</th>\n",
       "      <td>NaN</td>\n",
       "      <td>NaN</td>\n",
       "      <td>NaN</td>\n",
       "      <td>NaN</td>\n",
       "      <td>NaN</td>\n",
       "      <td>NaN</td>\n",
       "      <td>NaN</td>\n",
       "      <td>NaN</td>\n",
       "      <td>NaN</td>\n",
       "      <td>NaN</td>\n",
       "      <td>NaN</td>\n",
       "      <td>NaN</td>\n",
       "    </tr>\n",
       "    <tr>\n",
       "      <th>1</th>\n",
       "      <td>NaN</td>\n",
       "      <td>NaN</td>\n",
       "      <td>NaN</td>\n",
       "      <td>NaN</td>\n",
       "      <td>NaN</td>\n",
       "      <td>NaN</td>\n",
       "      <td>NaN</td>\n",
       "      <td>NaN</td>\n",
       "      <td>NaN</td>\n",
       "      <td>NaN</td>\n",
       "      <td>NaN</td>\n",
       "      <td>NaN</td>\n",
       "    </tr>\n",
       "    <tr>\n",
       "      <th>2</th>\n",
       "      <td>37.54</td>\n",
       "      <td>37.82</td>\n",
       "      <td>37.50</td>\n",
       "      <td>37.79</td>\n",
       "      <td>38.21</td>\n",
       "      <td>38.49</td>\n",
       "      <td>38.05</td>\n",
       "      <td>39.34</td>\n",
       "      <td>38.80</td>\n",
       "      <td>38.37</td>\n",
       "      <td>38.16</td>\n",
       "      <td>38.02</td>\n",
       "    </tr>\n",
       "    <tr>\n",
       "      <th>3</th>\n",
       "      <td>37.56</td>\n",
       "      <td>37.74</td>\n",
       "      <td>37.64</td>\n",
       "      <td>37.78</td>\n",
       "      <td>38.15</td>\n",
       "      <td>38.49</td>\n",
       "      <td>38.05</td>\n",
       "      <td>39.35</td>\n",
       "      <td>38.76</td>\n",
       "      <td>38.31</td>\n",
       "      <td>38.18</td>\n",
       "      <td>38.10</td>\n",
       "    </tr>\n",
       "    <tr>\n",
       "      <th>4</th>\n",
       "      <td>37.50</td>\n",
       "      <td>37.74</td>\n",
       "      <td>37.77</td>\n",
       "      <td>37.72</td>\n",
       "      <td>38.13</td>\n",
       "      <td>38.44</td>\n",
       "      <td>38.01</td>\n",
       "      <td>39.36</td>\n",
       "      <td>38.59</td>\n",
       "      <td>38.25</td>\n",
       "      <td>38.16</td>\n",
       "      <td>38.14</td>\n",
       "    </tr>\n",
       "  </tbody>\n",
       "</table>\n",
       "</div>"
      ],
      "text/plain": [
       "   B6-100 Exp. 1 MRSA Deg. C Data  B6-101 Exp. 1 MRSA Deg. C Data  \\\n",
       "0                             NaN                             NaN   \n",
       "1                             NaN                             NaN   \n",
       "2                           37.54                           37.82   \n",
       "3                           37.56                           37.74   \n",
       "4                           37.50                           37.74   \n",
       "\n",
       "   CC002-557 Exp. 1 MRSA Deg. C Data  CC002-558 Exp. 1 MRSA Deg. C Data  \\\n",
       "0                                NaN                                NaN   \n",
       "1                                NaN                                NaN   \n",
       "2                              37.50                              37.79   \n",
       "3                              37.64                              37.78   \n",
       "4                              37.77                              37.72   \n",
       "\n",
       "   CC002-559 Exp. 1 MRSA Deg. C Data  CC015-390 Exp. 1 MRSA Deg. C Data  \\\n",
       "0                                NaN                                NaN   \n",
       "1                                NaN                                NaN   \n",
       "2                              38.21                              38.49   \n",
       "3                              38.15                              38.49   \n",
       "4                              38.13                              38.44   \n",
       "\n",
       "   CC015-391 Exp. 1 MRSA Deg. C Data  CC015-392 Exp. 1 MRSA Deg. C Data  \\\n",
       "0                                NaN                                NaN   \n",
       "1                                NaN                                NaN   \n",
       "2                              38.05                              39.34   \n",
       "3                              38.05                              39.35   \n",
       "4                              38.01                              39.36   \n",
       "\n",
       "   CC038-582 Exp. 1 MRSA Deg. C Data  CC038-583 Exp. 1 MRSA Deg. C Data  \\\n",
       "0                                NaN                                NaN   \n",
       "1                                NaN                                NaN   \n",
       "2                              38.80                              38.37   \n",
       "3                              38.76                              38.31   \n",
       "4                              38.59                              38.25   \n",
       "\n",
       "   CC051-495 Exp. 1 MRSA Deg. C Data  CC051-496 Exp. 1 MRSA Deg. C Data  \n",
       "0                                NaN                                NaN  \n",
       "1                                NaN                                NaN  \n",
       "2                              38.16                              38.02  \n",
       "3                              38.18                              38.10  \n",
       "4                              38.16                              38.14  "
      ]
     },
     "execution_count": 3,
     "metadata": {},
     "output_type": "execute_result"
    }
   ],
   "source": [
    "#Slicing the df to only get the temperature of each mice\n",
    "#We want to do this so we can create a loop\n",
    "\n",
    "mice_temp = mice.iloc[:,3::2] \n",
    "mice_temp.head()"
   ]
  },
  {
   "cell_type": "code",
   "execution_count": 34,
   "id": "41d96267",
   "metadata": {},
   "outputs": [
    {
     "data": {
      "text/plain": [
       "B6-100 Exp. 1 MRSA Deg. C Data        0.922320\n",
       "B6-101 Exp. 1 MRSA Deg. C Data        0.873130\n",
       "CC002-557 Exp. 1 MRSA Deg. C Data    23.947530\n",
       "CC002-558 Exp. 1 MRSA Deg. C Data    30.174216\n",
       "CC002-559 Exp. 1 MRSA Deg. C Data    23.828653\n",
       "CC015-390 Exp. 1 MRSA Deg. C Data     0.655872\n",
       "CC015-391 Exp. 1 MRSA Deg. C Data     0.536995\n",
       "CC015-392 Exp. 1 MRSA Deg. C Data     0.426317\n",
       "CC038-582 Exp. 1 MRSA Deg. C Data     0.450912\n",
       "CC038-583 Exp. 1 MRSA Deg. C Data     0.336134\n",
       "CC051-495 Exp. 1 MRSA Deg. C Data     0.184464\n",
       "CC051-496 Exp. 1 MRSA Deg. C Data     0.204960\n",
       "dtype: float64"
      ]
     },
     "execution_count": 34,
     "metadata": {},
     "output_type": "execute_result"
    }
   ],
   "source": [
    "# What percent of values are missing\n",
    "mice_temp.isna().mean()*100"
   ]
  },
  {
   "cell_type": "code",
   "execution_count": 35,
   "id": "2dd902b7",
   "metadata": {},
   "outputs": [
    {
     "data": {
      "text/plain": [
       "B6-100 Exp. 1 MRSA Deg. C Data        225\n",
       "B6-101 Exp. 1 MRSA Deg. C Data        213\n",
       "CC002-557 Exp. 1 MRSA Deg. C Data    5842\n",
       "CC002-558 Exp. 1 MRSA Deg. C Data    7361\n",
       "CC002-559 Exp. 1 MRSA Deg. C Data    5813\n",
       "CC015-390 Exp. 1 MRSA Deg. C Data     160\n",
       "CC015-391 Exp. 1 MRSA Deg. C Data     131\n",
       "CC015-392 Exp. 1 MRSA Deg. C Data     104\n",
       "CC038-582 Exp. 1 MRSA Deg. C Data     110\n",
       "CC038-583 Exp. 1 MRSA Deg. C Data      82\n",
       "CC051-495 Exp. 1 MRSA Deg. C Data      45\n",
       "CC051-496 Exp. 1 MRSA Deg. C Data      50\n",
       "dtype: int64"
      ]
     },
     "execution_count": 35,
     "metadata": {},
     "output_type": "execute_result"
    }
   ],
   "source": [
    "# How much of the data is missing\n",
    "mice_temp.isna().sum()"
   ]
  },
  {
   "cell_type": "code",
   "execution_count": 36,
   "id": "10470707",
   "metadata": {},
   "outputs": [
    {
     "ename": "ModuleNotFoundError",
     "evalue": "No module named 'missingno'",
     "output_type": "error",
     "traceback": [
      "\u001b[0;31m---------------------------------------------------------------------------\u001b[0m",
      "\u001b[0;31mModuleNotFoundError\u001b[0m                       Traceback (most recent call last)",
      "\u001b[0;32m<ipython-input-36-d44de60e2c51>\u001b[0m in \u001b[0;36m<module>\u001b[0;34m\u001b[0m\n\u001b[1;32m      1\u001b[0m \u001b[0;31m#generate visual representations of missingness in data\u001b[0m\u001b[0;34m\u001b[0m\u001b[0;34m\u001b[0m\u001b[0;34m\u001b[0m\u001b[0m\n\u001b[0;32m----> 2\u001b[0;31m \u001b[0;32mimport\u001b[0m \u001b[0mmissingno\u001b[0m \u001b[0;32mas\u001b[0m \u001b[0mmsno\u001b[0m\u001b[0;34m\u001b[0m\u001b[0;34m\u001b[0m\u001b[0m\n\u001b[0m\u001b[1;32m      3\u001b[0m \u001b[0mmsno\u001b[0m\u001b[0;34m.\u001b[0m\u001b[0mmatrix\u001b[0m\u001b[0;34m(\u001b[0m\u001b[0mmice_temp\u001b[0m\u001b[0;34m)\u001b[0m\u001b[0;34m\u001b[0m\u001b[0;34m\u001b[0m\u001b[0m\n",
      "\u001b[0;31mModuleNotFoundError\u001b[0m: No module named 'missingno'"
     ]
    }
   ],
   "source": [
    "#generate visual representations of missingness in data\n",
    "import missingno as msno\n",
    "msno.matrix(mice_temp)"
   ]
  },
  {
   "cell_type": "code",
   "execution_count": 24,
   "id": "47ee3633",
   "metadata": {},
   "outputs": [],
   "source": [
    "b=100\n",
    "e=200"
   ]
  },
  {
   "cell_type": "code",
   "execution_count": 25,
   "id": "68c15de3",
   "metadata": {
    "scrolled": false
   },
   "outputs": [
    {
     "data": {
      "text/plain": [
       "<AxesSubplot:title={'center':'B6-100 Exp. 1 MRSA Deg. C Data'}>"
      ]
     },
     "execution_count": 25,
     "metadata": {},
     "output_type": "execute_result"
    },
    {
     "data": {
      "image/png": "[encoded data removed]",
      "text/plain": [
       "<Figure size 2160x720 with 1 Axes>"
      ]
     },
     "metadata": {
      "needs_background": "light"
     },
     "output_type": "display_data"
    }
   ],
   "source": [
    "#backward fill\n",
    "#mice_temp_bfill=\n",
    "#mice_temp['B6-100 Exp. 1 MRSA Deg. C Data'].fillna(method='bfill')\n",
    "mice_temp[\"B6-100 Exp. 1 MRSA Deg. C Data\"][b:e].plot(title=\"B6-100 Exp. 1 MRSA Deg. C Data\", marker=\"o\", figsize=(30,10))"
   ]
  },
  {
   "cell_type": "code",
   "execution_count": 26,
   "id": "b28c4ede",
   "metadata": {},
   "outputs": [
    {
     "data": {
      "text/plain": [
       "<AxesSubplot:title={'center':'B6-100 Exp. 1 MRSA Deg. C Data'}>"
      ]
     },
     "execution_count": 26,
     "metadata": {},
     "output_type": "execute_result"
    },
    {
     "data": {
      "image/png": "[encoded data removed]",
      "text/plain": [
       "<Figure size 2160x720 with 1 Axes>"
      ]
     },
     "metadata": {
      "needs_background": "light"
     },
     "output_type": "display_data"
    }
   ],
   "source": [
    "# Bfill imputation\n",
    "bfill_mice_temp = mice_temp.fillna(method=\"bfill\")\n",
    "bfill_mice_temp[\"B6-100 Exp. 1 MRSA Deg. C Data\"][b:e].plot(color=\"red\", marker=\"o\", linestyle=\"dotted\", figsize=(30,10))\n",
    "mice_temp[\"B6-100 Exp. 1 MRSA Deg. C Data\"][b:e].plot(title=\"B6-100 Exp. 1 MRSA Deg. C Data\", marker=\"o\")\n",
    "     "
   ]
  },
  {
   "cell_type": "code",
   "execution_count": null,
   "id": "7be178f7",
   "metadata": {},
   "outputs": [],
   "source": []
  },
  {
   "cell_type": "code",
   "execution_count": null,
   "id": "656dc602",
   "metadata": {},
   "outputs": [],
   "source": []
  },
  {
   "cell_type": "code",
   "execution_count": 12,
   "id": "c5e525e1",
   "metadata": {},
   "outputs": [
    {
     "data": {
      "text/plain": [
       "0          NaN\n",
       "1          NaN\n",
       "2        37.54\n",
       "3        37.56\n",
       "4        37.50\n",
       "         ...  \n",
       "24390    36.99\n",
       "24391    36.99\n",
       "24392    36.99\n",
       "24393    36.99\n",
       "24394    36.99\n",
       "Name: B6-100 Exp. 1 MRSA Deg. C Data, Length: 24395, dtype: float64"
      ]
     },
     "execution_count": 12,
     "metadata": {},
     "output_type": "execute_result"
    }
   ],
   "source": [
    "#forward fill\n",
    "mice_temp['B6-100 Exp. 1 MRSA Deg. C Data'].fillna(method='ffill')"
   ]
  },
  {
   "cell_type": "code",
   "execution_count": null,
   "id": "2c330a8d",
   "metadata": {},
   "outputs": [],
   "source": []
  },
  {
   "cell_type": "code",
   "execution_count": 96,
   "id": "2262b9c8",
   "metadata": {},
   "outputs": [
    {
     "ename": "FileNotFoundError",
     "evalue": "[Errno 2] No such file or directory: 'images/image_01_0000.png'",
     "output_type": "error",
     "traceback": [
      "\u001b[0;31m---------------------------------------------------------------------------\u001b[0m",
      "\u001b[0;31mFileNotFoundError\u001b[0m                         Traceback (most recent call last)",
      "\u001b[0;32m<ipython-input-96-27f2a4ce1cf5>\u001b[0m in \u001b[0;36m<module>\u001b[0;34m\u001b[0m\n\u001b[1;32m     22\u001b[0m     \u001b[0mfilename\u001b[0m \u001b[0;34m=\u001b[0m \u001b[0;34m\"images/image_01_%s.png\"\u001b[0m\u001b[0;34m%\u001b[0m\u001b[0msuffix\u001b[0m\u001b[0;34m\u001b[0m\u001b[0;34m\u001b[0m\u001b[0m\n\u001b[1;32m     23\u001b[0m \u001b[0;34m\u001b[0m\u001b[0m\n\u001b[0;32m---> 24\u001b[0;31m     \u001b[0mfig\u001b[0m\u001b[0;34m.\u001b[0m\u001b[0msavefig\u001b[0m\u001b[0;34m(\u001b[0m\u001b[0mfilename\u001b[0m\u001b[0;34m,\u001b[0m \u001b[0mbbox_inches\u001b[0m\u001b[0;34m=\u001b[0m\u001b[0;34m\"tight\"\u001b[0m\u001b[0;34m)\u001b[0m\u001b[0;34m\u001b[0m\u001b[0;34m\u001b[0m\u001b[0m\n\u001b[0m\u001b[1;32m     25\u001b[0m     \u001b[0;31m#plt.plot(x1,y1)\u001b[0m\u001b[0;34m\u001b[0m\u001b[0;34m\u001b[0m\u001b[0;34m\u001b[0m\u001b[0m\n\u001b[1;32m     26\u001b[0m     \u001b[0;31m#plt.xlabel(\"Minutes\") #x label\u001b[0m\u001b[0;34m\u001b[0m\u001b[0;34m\u001b[0m\u001b[0;34m\u001b[0m\u001b[0m\n",
      "\u001b[0;32m~/opt/anaconda3/lib/python3.8/site-packages/matplotlib/figure.py\u001b[0m in \u001b[0;36msavefig\u001b[0;34m(self, fname, transparent, **kwargs)\u001b[0m\n\u001b[1;32m   3013\u001b[0m                 \u001b[0mpatch\u001b[0m\u001b[0;34m.\u001b[0m\u001b[0mset_edgecolor\u001b[0m\u001b[0;34m(\u001b[0m\u001b[0;34m'none'\u001b[0m\u001b[0;34m)\u001b[0m\u001b[0;34m\u001b[0m\u001b[0;34m\u001b[0m\u001b[0m\n\u001b[1;32m   3014\u001b[0m \u001b[0;34m\u001b[0m\u001b[0m\n\u001b[0;32m-> 3015\u001b[0;31m         \u001b[0mself\u001b[0m\u001b[0;34m.\u001b[0m\u001b[0mcanvas\u001b[0m\u001b[0;34m.\u001b[0m\u001b[0mprint_figure\u001b[0m\u001b[0;34m(\u001b[0m\u001b[0mfname\u001b[0m\u001b[0;34m,\u001b[0m \u001b[0;34m**\u001b[0m\u001b[0mkwargs\u001b[0m\u001b[0;34m)\u001b[0m\u001b[0;34m\u001b[0m\u001b[0;34m\u001b[0m\u001b[0m\n\u001b[0m\u001b[1;32m   3016\u001b[0m \u001b[0;34m\u001b[0m\u001b[0m\n\u001b[1;32m   3017\u001b[0m         \u001b[0;32mif\u001b[0m \u001b[0mtransparent\u001b[0m\u001b[0;34m:\u001b[0m\u001b[0;34m\u001b[0m\u001b[0;34m\u001b[0m\u001b[0m\n",
      "\u001b[0;32m~/opt/anaconda3/lib/python3.8/site-packages/matplotlib/backend_bases.py\u001b[0m in \u001b[0;36mprint_figure\u001b[0;34m(self, filename, dpi, facecolor, edgecolor, orientation, format, bbox_inches, pad_inches, bbox_extra_artists, backend, **kwargs)\u001b[0m\n\u001b[1;32m   2253\u001b[0m                 \u001b[0;31m# force the figure dpi to 72), so we need to set it again here.\u001b[0m\u001b[0;34m\u001b[0m\u001b[0;34m\u001b[0m\u001b[0;34m\u001b[0m\u001b[0m\n\u001b[1;32m   2254\u001b[0m                 \u001b[0;32mwith\u001b[0m \u001b[0mcbook\u001b[0m\u001b[0;34m.\u001b[0m\u001b[0m_setattr_cm\u001b[0m\u001b[0;34m(\u001b[0m\u001b[0mself\u001b[0m\u001b[0;34m.\u001b[0m\u001b[0mfigure\u001b[0m\u001b[0;34m,\u001b[0m \u001b[0mdpi\u001b[0m\u001b[0;34m=\u001b[0m\u001b[0mdpi\u001b[0m\u001b[0;34m)\u001b[0m\u001b[0;34m:\u001b[0m\u001b[0;34m\u001b[0m\u001b[0;34m\u001b[0m\u001b[0m\n\u001b[0;32m-> 2255\u001b[0;31m                     result = print_method(\n\u001b[0m\u001b[1;32m   2256\u001b[0m                         \u001b[0mfilename\u001b[0m\u001b[0;34m,\u001b[0m\u001b[0;34m\u001b[0m\u001b[0;34m\u001b[0m\u001b[0m\n\u001b[1;32m   2257\u001b[0m                         \u001b[0mfacecolor\u001b[0m\u001b[0;34m=\u001b[0m\u001b[0mfacecolor\u001b[0m\u001b[0;34m,\u001b[0m\u001b[0;34m\u001b[0m\u001b[0;34m\u001b[0m\u001b[0m\n",
      "\u001b[0;32m~/opt/anaconda3/lib/python3.8/site-packages/matplotlib/backend_bases.py\u001b[0m in \u001b[0;36mwrapper\u001b[0;34m(*args, **kwargs)\u001b[0m\n\u001b[1;32m   1667\u001b[0m             \u001b[0mkwargs\u001b[0m\u001b[0;34m.\u001b[0m\u001b[0mpop\u001b[0m\u001b[0;34m(\u001b[0m\u001b[0marg\u001b[0m\u001b[0;34m)\u001b[0m\u001b[0;34m\u001b[0m\u001b[0;34m\u001b[0m\u001b[0m\n\u001b[1;32m   1668\u001b[0m \u001b[0;34m\u001b[0m\u001b[0m\n\u001b[0;32m-> 1669\u001b[0;31m         \u001b[0;32mreturn\u001b[0m \u001b[0mfunc\u001b[0m\u001b[0;34m(\u001b[0m\u001b[0;34m*\u001b[0m\u001b[0margs\u001b[0m\u001b[0;34m,\u001b[0m \u001b[0;34m**\u001b[0m\u001b[0mkwargs\u001b[0m\u001b[0;34m)\u001b[0m\u001b[0;34m\u001b[0m\u001b[0;34m\u001b[0m\u001b[0m\n\u001b[0m\u001b[1;32m   1670\u001b[0m \u001b[0;34m\u001b[0m\u001b[0m\n\u001b[1;32m   1671\u001b[0m     \u001b[0;32mreturn\u001b[0m \u001b[0mwrapper\u001b[0m\u001b[0;34m\u001b[0m\u001b[0;34m\u001b[0m\u001b[0m\n",
      "\u001b[0;32m~/opt/anaconda3/lib/python3.8/site-packages/matplotlib/backends/backend_agg.py\u001b[0m in \u001b[0;36mprint_png\u001b[0;34m(self, filename_or_obj, metadata, pil_kwargs, *args)\u001b[0m\n\u001b[1;32m    507\u001b[0m         \"\"\"\n\u001b[1;32m    508\u001b[0m         \u001b[0mFigureCanvasAgg\u001b[0m\u001b[0;34m.\u001b[0m\u001b[0mdraw\u001b[0m\u001b[0;34m(\u001b[0m\u001b[0mself\u001b[0m\u001b[0;34m)\u001b[0m\u001b[0;34m\u001b[0m\u001b[0;34m\u001b[0m\u001b[0m\n\u001b[0;32m--> 509\u001b[0;31m         mpl.image.imsave(\n\u001b[0m\u001b[1;32m    510\u001b[0m             \u001b[0mfilename_or_obj\u001b[0m\u001b[0;34m,\u001b[0m \u001b[0mself\u001b[0m\u001b[0;34m.\u001b[0m\u001b[0mbuffer_rgba\u001b[0m\u001b[0;34m(\u001b[0m\u001b[0;34m)\u001b[0m\u001b[0;34m,\u001b[0m \u001b[0mformat\u001b[0m\u001b[0;34m=\u001b[0m\u001b[0;34m\"png\"\u001b[0m\u001b[0;34m,\u001b[0m \u001b[0morigin\u001b[0m\u001b[0;34m=\u001b[0m\u001b[0;34m\"upper\"\u001b[0m\u001b[0;34m,\u001b[0m\u001b[0;34m\u001b[0m\u001b[0;34m\u001b[0m\u001b[0m\n\u001b[1;32m    511\u001b[0m             dpi=self.figure.dpi, metadata=metadata, pil_kwargs=pil_kwargs)\n",
      "\u001b[0;32m~/opt/anaconda3/lib/python3.8/site-packages/matplotlib/image.py\u001b[0m in \u001b[0;36mimsave\u001b[0;34m(fname, arr, vmin, vmax, cmap, format, origin, dpi, metadata, pil_kwargs)\u001b[0m\n\u001b[1;32m   1614\u001b[0m         \u001b[0mpil_kwargs\u001b[0m\u001b[0;34m.\u001b[0m\u001b[0msetdefault\u001b[0m\u001b[0;34m(\u001b[0m\u001b[0;34m\"format\"\u001b[0m\u001b[0;34m,\u001b[0m \u001b[0mformat\u001b[0m\u001b[0;34m)\u001b[0m\u001b[0;34m\u001b[0m\u001b[0;34m\u001b[0m\u001b[0m\n\u001b[1;32m   1615\u001b[0m         \u001b[0mpil_kwargs\u001b[0m\u001b[0;34m.\u001b[0m\u001b[0msetdefault\u001b[0m\u001b[0;34m(\u001b[0m\u001b[0;34m\"dpi\"\u001b[0m\u001b[0;34m,\u001b[0m \u001b[0;34m(\u001b[0m\u001b[0mdpi\u001b[0m\u001b[0;34m,\u001b[0m \u001b[0mdpi\u001b[0m\u001b[0;34m)\u001b[0m\u001b[0;34m)\u001b[0m\u001b[0;34m\u001b[0m\u001b[0;34m\u001b[0m\u001b[0m\n\u001b[0;32m-> 1616\u001b[0;31m         \u001b[0mimage\u001b[0m\u001b[0;34m.\u001b[0m\u001b[0msave\u001b[0m\u001b[0;34m(\u001b[0m\u001b[0mfname\u001b[0m\u001b[0;34m,\u001b[0m \u001b[0;34m**\u001b[0m\u001b[0mpil_kwargs\u001b[0m\u001b[0;34m)\u001b[0m\u001b[0;34m\u001b[0m\u001b[0;34m\u001b[0m\u001b[0m\n\u001b[0m\u001b[1;32m   1617\u001b[0m \u001b[0;34m\u001b[0m\u001b[0m\n\u001b[1;32m   1618\u001b[0m \u001b[0;34m\u001b[0m\u001b[0m\n",
      "\u001b[0;32m~/opt/anaconda3/lib/python3.8/site-packages/PIL/Image.py\u001b[0m in \u001b[0;36msave\u001b[0;34m(self, fp, format, **params)\u001b[0m\n\u001b[1;32m   2167\u001b[0m                 \u001b[0mfp\u001b[0m \u001b[0;34m=\u001b[0m \u001b[0mbuiltins\u001b[0m\u001b[0;34m.\u001b[0m\u001b[0mopen\u001b[0m\u001b[0;34m(\u001b[0m\u001b[0mfilename\u001b[0m\u001b[0;34m,\u001b[0m \u001b[0;34m\"r+b\"\u001b[0m\u001b[0;34m)\u001b[0m\u001b[0;34m\u001b[0m\u001b[0;34m\u001b[0m\u001b[0m\n\u001b[1;32m   2168\u001b[0m             \u001b[0;32melse\u001b[0m\u001b[0;34m:\u001b[0m\u001b[0;34m\u001b[0m\u001b[0;34m\u001b[0m\u001b[0m\n\u001b[0;32m-> 2169\u001b[0;31m                 \u001b[0mfp\u001b[0m \u001b[0;34m=\u001b[0m \u001b[0mbuiltins\u001b[0m\u001b[0;34m.\u001b[0m\u001b[0mopen\u001b[0m\u001b[0;34m(\u001b[0m\u001b[0mfilename\u001b[0m\u001b[0;34m,\u001b[0m \u001b[0;34m\"w+b\"\u001b[0m\u001b[0;34m)\u001b[0m\u001b[0;34m\u001b[0m\u001b[0;34m\u001b[0m\u001b[0m\n\u001b[0m\u001b[1;32m   2170\u001b[0m \u001b[0;34m\u001b[0m\u001b[0m\n\u001b[1;32m   2171\u001b[0m         \u001b[0;32mtry\u001b[0m\u001b[0;34m:\u001b[0m\u001b[0;34m\u001b[0m\u001b[0;34m\u001b[0m\u001b[0m\n",
      "\u001b[0;31mFileNotFoundError\u001b[0m: [Errno 2] No such file or directory: 'images/image_01_0000.png'"
     ]
    },
    {
     "data": {
      "image/png": "[encoded data removed]",
      "text/plain": [
       "<Figure size 432x288 with 1 Axes>"
      ]
     },
     "metadata": {
      "needs_background": "light"
     },
     "output_type": "display_data"
    }
   ],
   "source": [
    "x = mice[\"Minutes\"]\n",
    "y = mice_temp\n",
    "#list=list(y.columns)\n",
    "\n",
    "fig,ax = plt.subplots()\n",
    "\n",
    "for i in range (0,11):\n",
    "    #masking the data (getting rid of N/A's)\n",
    "    #y_col = y.iloc[:,i]\n",
    "    #mask = y_col.notna()\n",
    "    #mask = y.notna() # will keep the true values\n",
    "    #x1 = x[mask]\n",
    "    ax.cla() # clear axis\n",
    "    \n",
    "    y1 = y.iloc[:,i]\n",
    "    df = pd.DataFrame(y1)\n",
    "    #Plotting\n",
    "    #plt.subplot(3, 4, i+1)\n",
    "    df.plot(ax=ax)\n",
    "    ax.grid(True)\n",
    "    suffix = str(i).zfill(4)\n",
    "    filename = \"images/image_01_%s.png\"%suffix\n",
    "    \n",
    "    fig.savefig(filename, bbox_inches=\"tight\")\n",
    "    #plt.plot(x1,y1)\n",
    "    #plt.xlabel(\"Minutes\") #x label\n",
    "    #plt.ylabel(\"Temperature (Celsius)\") #y label\n",
    "    #plt.grid()\n",
    "    #plt.title(str(y[i]))\n",
    "    #plt.figure(i)"
   ]
  },
  {
   "cell_type": "code",
   "execution_count": 41,
   "id": "37d95da1",
   "metadata": {},
   "outputs": [
    {
     "data": {
      "text/plain": [
       "pandas.core.frame.DataFrame"
      ]
     },
     "execution_count": 41,
     "metadata": {},
     "output_type": "execute_result"
    }
   ],
   "source": [
    "type(mice_temp)"
   ]
  },
  {
   "cell_type": "code",
   "execution_count": 95,
   "id": "a5c8982d",
   "metadata": {},
   "outputs": [
    {
     "data": {
      "text/plain": [
       "array(['Minutes', 'Date', 'Time', 'B6-100 Exp. 1 MRSA Deg. C Data',\n",
       "       'B6-100 Exp. 1 MRSA Cnts Data', 'B6-101 Exp. 1 MRSA Deg. C Data',\n",
       "       'B6-101 Exp. 1 MRSA Cnts Data',\n",
       "       'CC002-557 Exp. 1 MRSA Deg. C Data',\n",
       "       'CC002-557 Exp. 1 MRSA Cnts Data',\n",
       "       'CC002-558 Exp. 1 MRSA Deg. C Data',\n",
       "       'CC002-558 Exp. 1 MRSA Cnts Data',\n",
       "       'CC002-559 Exp. 1 MRSA Deg. C Data',\n",
       "       'CC002-559 Exp. 1 MRSA Cnts Data',\n",
       "       'CC015-390 Exp. 1 MRSA Deg. C Data',\n",
       "       'CC015-390 Exp. 1 MRSA Cnts Data',\n",
       "       'CC015-391 Exp. 1 MRSA Deg. C Data',\n",
       "       'CC015-391 Exp. 1 MRSA Cnts Data',\n",
       "       'CC015-392 Exp. 1 MRSA Deg. C Data',\n",
       "       'CC015-392 Exp. 1 MRSA Cnts Data',\n",
       "       'CC038-582 Exp. 1 MRSA Deg. C Data',\n",
       "       'CC038-582 Exp. 1 MRSA Cnts Data',\n",
       "       'CC038-583 Exp. 1 MRSA Deg. C Data',\n",
       "       'CC038-583 Exp. 1 MRSA Cnts Data',\n",
       "       'CC051-495 Exp. 1 MRSA Deg. C Data',\n",
       "       'CC051-495 Exp. 1 MRSA Cnts Data',\n",
       "       'CC051-496 Exp. 1 MRSA Deg. C Data',\n",
       "       'CC051-496 Exp. 1 MRSA Cnts Data'], dtype=object)"
      ]
     },
     "execution_count": 95,
     "metadata": {},
     "output_type": "execute_result"
    }
   ],
   "source": [
    "mice.columns.values # to verify number of columns that contain degrees"
   ]
  },
  {
   "cell_type": "code",
   "execution_count": null,
   "id": "22765495",
   "metadata": {},
   "outputs": [],
   "source": []
  },
  {
   "cell_type": "code",
   "execution_count": null,
   "id": "145588c0",
   "metadata": {},
   "outputs": [],
   "source": []
  },
  {
   "cell_type": "code",
   "execution_count": null,
   "id": "f8efc489",
   "metadata": {},
   "outputs": [],
   "source": []
  },
  {
   "cell_type": "code",
   "execution_count": null,
   "id": "0827bf60",
   "metadata": {},
   "outputs": [],
   "source": []
  },
  {
   "cell_type": "code",
   "execution_count": null,
   "id": "a69c248a",
   "metadata": {},
   "outputs": [],
   "source": []
  }
 ],
 "metadata": {
  "kernelspec": {
   "display_name": "Python 3",
   "language": "python",
   "name": "python3"
  },
  "language_info": {
   "codemirror_mode": {
    "name": "ipython",
    "version": 3
   },
   "file_extension": ".py",
   "mimetype": "text/x-python",
   "name": "python",
   "nbconvert_exporter": "python",
   "pygments_lexer": "ipython3",
   "version": "3.8.8"
  }
 },
 "nbformat": 4,
 "nbformat_minor": 5
}
