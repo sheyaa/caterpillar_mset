{
 "cells": [
  {
   "cell_type": "code",
   "execution_count": 6,
   "id": "80c38153",
   "metadata": {},
   "outputs": [],
   "source": [
    "import numpy as np\n",
    "import mset\n",
    "import tde"
   ]
  },
  {
   "cell_type": "code",
   "execution_count": 9,
   "id": "6961c462",
   "metadata": {},
   "outputs": [],
   "source": [
    "n = 10000 # making 10000 iterations \n",
    "thresh = 0.1 # threshold of 0.1"
   ]
  },
  {
   "cell_type": "code",
   "execution_count": 12,
   "id": "d2cb7a68",
   "metadata": {},
   "outputs": [],
   "source": [
    "t = np.linspace(0, 10*np.pi, n) #function to generate a general sequence out of the range of numbers provided \n",
    "x = np.sin(t) + 0.1*np.random.randn(n) #sine funtion with noise added "
   ]
  },
  {
   "cell_type": "code",
   "execution_count": 13,
   "id": "e6dc09be",
   "metadata": {},
   "outputs": [],
   "source": [
    "# introduce a new type of signal halfway through.\n",
    "heavy = (1 + np.tanh( 0.5*(t-5*np.pi) ))/2.\n",
    "x += heavy*np.sin(t/2) + heavy*(-np.sin(t))"
   ]
  },
  {
   "cell_type": "code",
   "execution_count": 14,
   "id": "7bb98c87",
   "metadata": {},
   "outputs": [],
   "source": [
    "delay = int((np.pi/2)/(t[1] - t[0]))"
   ]
  },
  {
   "cell_type": "code",
   "execution_count": null,
   "id": "5cab2062",
   "metadata": {},
   "outputs": [
    {
     "name": "stdout",
     "output_type": "stream",
     "text": [
      "Iteration 00002 : "
     ]
    }
   ],
   "source": [
    "ms = mset.MSET() # mset module \n",
    "X = tde.tde(x) #synthetic dataset \n",
    "fig,ax = ms.visualize_mset(x,thresh,delay, verbosity=1)\n",
    "fig.show()"
   ]
  },
  {
   "cell_type": "code",
   "execution_count": null,
   "id": "931412b7",
   "metadata": {},
   "outputs": [],
   "source": []
  }
 ],
 "metadata": {
  "kernelspec": {
   "display_name": "Python 3",
   "language": "python",
   "name": "python3"
  },
  "language_info": {
   "codemirror_mode": {
    "name": "ipython",
    "version": 3
   },
   "file_extension": ".py",
   "mimetype": "text/x-python",
   "name": "python",
   "nbconvert_exporter": "python",
   "pygments_lexer": "ipython3",
   "version": "3.8.8"
  }
 },
 "nbformat": 4,
 "nbformat_minor": 5
}
